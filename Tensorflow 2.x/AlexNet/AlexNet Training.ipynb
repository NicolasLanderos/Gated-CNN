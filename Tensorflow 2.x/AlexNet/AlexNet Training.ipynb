{
 "cells": [
  {
   "cell_type": "code",
   "execution_count": null,
   "metadata": {
    "id": "dW-L3utm0OtR"
   },
   "outputs": [],
   "source": [
    "import tensorflow as tf\n",
    "import numpy as np"
   ]
  },
  {
   "cell_type": "code",
   "execution_count": null,
   "metadata": {},
   "outputs": [],
   "source": [
    "tf.random.set_seed(1234)\n",
    "np.random.seed(1234)"
   ]
  },
  {
   "cell_type": "markdown",
   "metadata": {},
   "source": [
    "## Loading CIFAR10 Data"
   ]
  },
  {
   "cell_type": "code",
   "execution_count": null,
   "metadata": {},
   "outputs": [],
   "source": [
    "(x_train, y_train), (x_test, y_test) = tf.keras.datasets.cifar10.load_data()\n",
    "# Reducing Target innecessary dimension\n",
    "y_train = np.squeeze(y_train)\n",
    "y_test  = np.squeeze(y_test)\n",
    "# Creating Validation subset\n",
    "x_valid = x_train[40000:]  \n",
    "y_valid = y_train[40000:]  \n",
    "\n",
    "x_train = x_train[:40000]\n",
    "y_train = y_train[:40000]"
   ]
  },
  {
   "cell_type": "markdown",
   "metadata": {},
   "source": [
    "## Creating DataSet Objects"
   ]
  },
  {
   "cell_type": "code",
   "execution_count": null,
   "metadata": {},
   "outputs": [],
   "source": [
    "# Training\n",
    "#-----------------------------------------\n",
    "train_dataset = tf.data.Dataset.from_tensor_slices((x_train, y_train))\n",
    "# Shuffle\n",
    "train_dataset = train_dataset.shuffle(buffer_size=x_train.shape[0])\n",
    "\n",
    "# Normalize Images\n",
    "def normalize_img(x_, y_):\n",
    "    return tf.cast(x_, tf.float32) / 255., y_\n",
    "\n",
    "# 1-hot encoding\n",
    "def to_categorical(x_, y_):\n",
    "    return x_, tf.one_hot(y_, depth=10)\n",
    "\n",
    "# Resizing \n",
    "def process_images(image, label):\n",
    "    # Resize images from 32x32 to 277x277\n",
    "    image = tf.image.resize(image, (227,227))\n",
    "    return image, label\n",
    "\n",
    "\n",
    "train_dataset = train_dataset.map(to_categorical)\n",
    "train_dataset = train_dataset.map(normalize_img)\n",
    "train_dataset = train_dataset.map(process_images)\n",
    "\n",
    "# Divide in batches\n",
    "bs = 32\n",
    "train_dataset = train_dataset.batch(bs)\n",
    "# Repeat\n",
    "train_dataset = train_dataset.repeat()"
   ]
  },
  {
   "cell_type": "code",
   "execution_count": null,
   "metadata": {},
   "outputs": [],
   "source": [
    "#Validation   \n",
    "# -----------------------\n",
    "valid_dataset = tf.data.Dataset.from_tensor_slices((x_valid, y_valid))\n",
    "# Normalize images\n",
    "valid_dataset = valid_dataset.map(normalize_img)\n",
    "# Enconding\n",
    "valid_dataset = valid_dataset.map(to_categorical)\n",
    "# Resize\n",
    "valid_dataset = valid_dataset.map(process_images)\n",
    "# Divide in batches\n",
    "valid_dataset = valid_dataset.batch(bs)\n",
    "# Repeat\n",
    "valid_dataset = valid_dataset.repeat()"
   ]
  },
  {
   "cell_type": "code",
   "execution_count": null,
   "metadata": {},
   "outputs": [],
   "source": [
    "#Testing \n",
    "# -------------------\n",
    "test_dataset = tf.data.Dataset.from_tensor_slices((x_test, y_test))\n",
    "test_dataset = test_dataset.map(normalize_img)\n",
    "test_dataset = test_dataset.map(to_categorical)\n",
    "test_dataset = test_dataset.map(process_images)\n",
    "test_dataset = test_dataset.batch(1)"
   ]
  },
  {
   "cell_type": "markdown",
   "metadata": {
    "id": "mvho0zVa0Oti"
   },
   "source": [
    "## Quantization Layer"
   ]
  },
  {
   "cell_type": "code",
   "execution_count": null,
   "metadata": {
    "id": "Mwk5LxY-0Otj"
   },
   "outputs": [],
   "source": [
    "def Quantization_layer(tensor, Quantization = True,signed = True, word_size = 12, frac_size = 6):\n",
    "    \n",
    "    factor = 2.0**frac_size\n",
    "    \n",
    "    # Quantized max and min values, in case of the need to implement overflow cases.\n",
    "    #if signed:\n",
    "    #    Max_Qvalue = ((1 << (word_size-1)) - 1)/factor\n",
    "    #    Min_Qvalue = -Max_Qvalue - 1\n",
    "    #else:\n",
    "    #    Max_Qvalue = ((1 << (word_size)) - 1)/factor\n",
    "    #    Min_Qvalue = 0\n",
    "    \n",
    "    if Quantization:\n",
    "        return tf.round(tensor*factor) / factor             #Quantization, assuming no overflow\n",
    "    else:\n",
    "        return tensor          "
   ]
  },
  {
   "cell_type": "markdown",
   "metadata": {},
   "source": [
    "## Building Model"
   ]
  },
  {
   "cell_type": "code",
   "execution_count": null,
   "metadata": {},
   "outputs": [],
   "source": [
    "from tensorflow.keras.layers import Conv2D, Dense, BatchNormalization, MaxPool2D, Flatten, Dropout, Lambda\n",
    "\n",
    "\n",
    "def build_model(input_layer, Quantization = True, signed = True, word_size = 12, frac_size = 6 ):\n",
    "    \n",
    "    Arguments = {'Quantization':Quantization, 'signed':signed, 'word_size':word_size, 'frac_size':frac_size}\n",
    "    QInp      = Lambda(Quantization_layer, arguments = Arguments )(input_layer)\n",
    "    \n",
    "    #Conv Block\n",
    "    Conv1   = Conv2D(filters=96, kernel_size=(11,11), strides=(4,4))(QInp)\n",
    "    QConv1  = Lambda(Quantization_layer, arguments = Arguments )(Conv1)\n",
    "    Relu1   = tf.keras.activations.relu(QConv1)\n",
    "    QRelu1  = Lambda(Quantization_layer, arguments = Arguments )(Relu1)\n",
    "    BN1     = BatchNormalization()(QRelu1)\n",
    "    QBN1    = Lambda(Quantization_layer, arguments = Arguments )(BN1)\n",
    "    MP1     = MaxPool2D(pool_size=(3,3), strides=(2,2))(QBN1)\n",
    "    \n",
    "    Conv2   = Conv2D(filters=256, kernel_size=(5,5), strides=(1,1),padding=\"same\")(MP1)\n",
    "    QConv2  = Lambda(Quantization_layer, arguments = Arguments )(Conv2)\n",
    "    Relu2   = tf.keras.activations.relu(QConv2)\n",
    "    QRelu2  = Lambda(Quantization_layer, arguments = Arguments )(Relu2)\n",
    "    BN2     = BatchNormalization()(QRelu2)\n",
    "    QBN2    = Lambda(Quantization_layer, arguments = Arguments )(BN2)\n",
    "    MP2     = MaxPool2D(pool_size=(3,3), strides=(2,2))(QBN2)\n",
    "    \n",
    "    Conv3   = Conv2D(filters=384, kernel_size=(3,3), strides=(1,1), padding=\"same\")(MP2)\n",
    "    QConv3  = Lambda(Quantization_layer, arguments = Arguments )(Conv3)\n",
    "    Relu3   = tf.keras.activations.relu(QConv3)\n",
    "    QRelu3  = Lambda(Quantization_layer, arguments = Arguments )(Relu3)\n",
    "    BN3     = BatchNormalization()(QRelu3)\n",
    "    QBN3    = Lambda(Quantization_layer, arguments = Arguments )(BN3)\n",
    "    \n",
    "    Conv4   = Conv2D(filters=384, kernel_size=(1,1), strides=(1,1), padding=\"same\")(QBN3)\n",
    "    QConv4  = Lambda(Quantization_layer, arguments = Arguments )(Conv4)\n",
    "    Relu4   = tf.keras.activations.relu(QConv4)\n",
    "    QRelu4  = Lambda(Quantization_layer, arguments = Arguments )(Relu4)\n",
    "    BN4     = BatchNormalization()(QRelu4)\n",
    "    QBN4    = Lambda(Quantization_layer, arguments = Arguments )(BN4)\n",
    "    \n",
    "    Conv5   = Conv2D(filters=256, kernel_size=(1,1), strides=(1,1), padding=\"same\")(QBN4)\n",
    "    QConv5  = Lambda(Quantization_layer, arguments = Arguments )(Conv5)\n",
    "    Relu5   = tf.keras.activations.relu(QConv5)\n",
    "    QRelu5  = Lambda(Quantization_layer, arguments = Arguments )(Relu5)\n",
    "    BN5     = BatchNormalization()(QRelu5)\n",
    "    QBN5    = Lambda(Quantization_layer, arguments = Arguments )(BN5)\n",
    "    MP5     = MaxPool2D(pool_size=(3,3), strides=(2,2))(QBN5)\n",
    "    \n",
    "    Flat    = Flatten()(MP5)\n",
    "    \n",
    "    Dense6  = Dense(4096)(Flat)\n",
    "    QDense6 = Lambda(Quantization_layer, arguments = Arguments )(Dense6)\n",
    "    Relu6   = tf.keras.activations.relu(QDense6)\n",
    "    QRelu6  = Lambda(Quantization_layer, arguments = Arguments )(Relu6)\n",
    "    Drop6   = Dropout(0.5)(QRelu6)\n",
    "    \n",
    "    Dense7  = Dense(4096)(Drop6)\n",
    "    QDense7 = Lambda(Quantization_layer, arguments = Arguments )(Dense7)\n",
    "    Relu7   = tf.keras.activations.relu(QDense7)\n",
    "    QRelu7  = Lambda(Quantization_layer, arguments = Arguments )(Relu7)\n",
    "    Drop7   = Dropout(0.5)(QRelu7)\n",
    "    \n",
    "    Dense8  = Dense(10)(Drop7)\n",
    "    QDense8 = Lambda(Quantization_layer, arguments = Arguments )(Dense8)\n",
    "    SM8     = tf.keras.activations.softmax(QDense8)\n",
    "    QSM8    = Lambda(Quantization_layer, arguments = Arguments )(SM8)\n",
    "    \n",
    "    return QSM8"
   ]
  },
  {
   "cell_type": "code",
   "execution_count": null,
   "metadata": {},
   "outputs": [],
   "source": [
    "\n",
    "input_layer   = tf.keras.Input((227,227,3))\n",
    "output_layer  = build_model(input_layer, Quantization = False)\n",
    "\n",
    "AlexNet  = tf.keras.Model(inputs=input_layer, outputs=output_layer)\n",
    "AlexNet.summary()"
   ]
  },
  {
   "cell_type": "markdown",
   "metadata": {
    "id": "6iWx-RpJ0Otv"
   },
   "source": [
    "## Training Options"
   ]
  },
  {
   "cell_type": "code",
   "execution_count": null,
   "metadata": {
    "id": "RDfs6zWP0Otw"
   },
   "outputs": [],
   "source": [
    "# Optimization params\n",
    "# -------------------\n",
    "\n",
    "# Loss\n",
    "loss = tf.keras.losses.CategoricalCrossentropy()\n",
    "\n",
    "# learning rate\n",
    "lr = 1e-4\n",
    "optimizer = tf.keras.optimizers.Adam(learning_rate=lr)\n",
    "# -------------------\n",
    "\n",
    "# Validation metrics\n",
    "# ------------------\n",
    "\n",
    "metrics = ['accuracy']\n",
    "# ------------------\n",
    "\n",
    "# Compile Model\n",
    "AlexNet.compile(optimizer=optimizer, loss=loss, metrics=metrics)"
   ]
  },
  {
   "cell_type": "markdown",
   "metadata": {
    "id": "n0KcF7na0Otz"
   },
   "source": [
    "## Callbacks"
   ]
  },
  {
   "cell_type": "code",
   "execution_count": null,
   "metadata": {
    "id": "dcY5pIOk0Ot0",
    "scrolled": true
   },
   "outputs": [],
   "source": [
    "import os\n",
    "from datetime import datetime\n",
    "\n",
    "\n",
    "# Save Directory (Change for your own directory)\n",
    "cwd = os.getcwd()\n",
    "\n",
    "# Creating SubDirectory\n",
    "exps_dir = os.path.join(cwd, 'GraphData')\n",
    "if not os.path.exists(exps_dir):\n",
    "    os.makedirs(exps_dir)\n",
    "\n",
    "now = datetime.now().strftime('%b%d_%H-%M-%S')\n",
    "\n",
    "exp_name = \"AlexNet\"\n",
    "\n",
    "exp_dir = os.path.join(exps_dir, exp_name + '_' + str(now))\n",
    "if not os.path.exists(exp_dir):\n",
    "    os.makedirs(exp_dir)\n",
    "    \n",
    "callbacks = []\n",
    "\n",
    "# Model checkpoint\n",
    "# ----------------\n",
    "Checkpoints = False\n",
    "if Checkpoints:\n",
    "    ckpt_dir = os.path.join(exp_dir, 'ckpts')\n",
    "    if not os.path.exists(ckpt_dir):\n",
    "        os.makedirs(ckpt_dir)\n",
    "    ckpt_callback = tf.keras.callbacks.ModelCheckpoint(filepath=os.path.join(ckpt_dir, 'cp_{epoch:02d}.ckpt'), \n",
    "                                                   save_weights_only=True)  # False to save the model directly\n",
    "    callbacks.append(ckpt_callback)\n",
    "\n",
    "# ----------------\n",
    "\n",
    "# Visualize Learning on Tensorboard\n",
    "# ---------------------------------\n",
    "tb_dir = os.path.join(exp_dir, 'tb_logs')\n",
    "if not os.path.exists(tb_dir):\n",
    "    os.makedirs(tb_dir)\n",
    "    \n",
    "# By default shows losses and metrics for both training and validation\n",
    "tb_callback = tf.keras.callbacks.TensorBoard(log_dir=tb_dir,\n",
    "                                             profile_batch=0,\n",
    "                                             histogram_freq=1,write_graph=True)  \n",
    "callbacks.append(tb_callback)\n",
    "\n",
    "# Early Stopping\n",
    "# --------------\n",
    "early_stop = True\n",
    "if early_stop:\n",
    "    es_callback = tf.keras.callbacks.EarlyStopping(monitor='val_loss', patience=5, restore_best_weights=True)\n",
    "    callbacks.append(es_callback)\n",
    "\n",
    "# ---------------------------------\n",
    "\n",
    "# How to visualize Tensorboard\n",
    "\n",
    "# 1. tensorboard --logdir EXPERIMENTS_DIR c--port PORT     <- from terminal\n",
    "# 2. localhost:PORT   <- in your browser"
   ]
  },
  {
   "cell_type": "markdown",
   "metadata": {},
   "source": [
    "## Training"
   ]
  },
  {
   "cell_type": "code",
   "execution_count": null,
   "metadata": {},
   "outputs": [],
   "source": [
    "AlexNet.fit(x=train_dataset,\n",
    "          epochs=100,  #### set repeat in training dataset\n",
    "          steps_per_epoch=int(np.ceil(x_train.shape[0] / bs)),\n",
    "          validation_data=valid_dataset,\n",
    "          validation_steps=int(np.ceil(x_valid.shape[0] / bs)), \n",
    "          callbacks=callbacks)"
   ]
  },
  {
   "cell_type": "markdown",
   "metadata": {
    "id": "xDBCY2RP0Ot3"
   },
   "source": [
    "## Saving Weights"
   ]
  },
  {
   "cell_type": "code",
   "execution_count": null,
   "metadata": {},
   "outputs": [],
   "source": [
    "Wgt_dir = os.path.join(cwd, 'TrainedWeights')\n",
    "Wgt_dir = os.path.join(Wgt_dir, 'Weights')\n",
    "AlexNet.save_weights(Wgt_dir)"
   ]
  }
 ],
 "metadata": {
  "accelerator": "GPU",
  "colab": {
   "collapsed_sections": [],
   "name": "Transfer_Learning.ipynb",
   "provenance": []
  },
  "kernelspec": {
   "display_name": "Python 3",
   "language": "python",
   "name": "python3"
  },
  "language_info": {
   "codemirror_mode": {
    "name": "ipython",
    "version": 3
   },
   "file_extension": ".py",
   "mimetype": "text/x-python",
   "name": "python",
   "nbconvert_exporter": "python",
   "pygments_lexer": "ipython3",
   "version": "3.7.9"
  }
 },
 "nbformat": 4,
 "nbformat_minor": 1
}
