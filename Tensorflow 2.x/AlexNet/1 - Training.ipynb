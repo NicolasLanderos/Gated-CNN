{
 "cells": [
  {
   "cell_type": "code",
   "execution_count": 1,
   "metadata": {
    "id": "dW-L3utm0OtR"
   },
   "outputs": [],
   "source": [
    "import tensorflow as tf\n",
    "import tensorflow_datasets as tfds\n",
    "import numpy as np\n",
    "import os\n",
    "import sys"
   ]
  },
  {
   "cell_type": "code",
   "execution_count": 2,
   "metadata": {},
   "outputs": [],
   "source": [
    "dir_current = os.path.abspath('')\n",
    "dir_parent  = os.path.dirname(dir_current)\n",
    "if not dir_parent in sys.path: sys.path.append(dir_parent)"
   ]
  },
  {
   "cell_type": "code",
   "execution_count": 3,
   "metadata": {},
   "outputs": [],
   "source": [
    "tf.random.set_seed(1234)\n",
    "np.random.seed(1234)"
   ]
  },
  {
   "cell_type": "markdown",
   "metadata": {},
   "source": [
    "## Loading Custom Dataset"
   ]
  },
  {
   "cell_type": "code",
   "execution_count": null,
   "metadata": {},
   "outputs": [],
   "source": [
    "# Downloading The Dataset\n",
    "ds = tfds.load('deep_weeds', split='train', shuffle_files=True)\n",
    "assert isinstance(ds, tf.data.Dataset)\n",
    "print(ds)"
   ]
  },
  {
   "cell_type": "code",
   "execution_count": 4,
   "metadata": {},
   "outputs": [],
   "source": [
    "x_train, y_train = tfds.as_numpy(tfds.load('deep_weeds', split='train[:80%]', batch_size=-1, as_supervised=True))\n",
    "x_valid, y_valid = tfds.as_numpy(tfds.load('deep_weeds', split='train[80:85%]', batch_size=-1, as_supervised=True))\n",
    "x_test,  y_test  = tfds.as_numpy(tfds.load('deep_weeds', split='train[85%:]', batch_size=-1, as_supervised=True))"
   ]
  },
  {
   "cell_type": "markdown",
   "metadata": {},
   "source": [
    "## Creating DataSet Objects"
   ]
  },
  {
   "cell_type": "code",
   "execution_count": 1,
   "metadata": {},
   "outputs": [],
   "source": [
    "Nclasses = 9\n",
    "def to_categorical(x_, y_):\n",
    "    return x_, tf.one_hot(y_, depth = Nclasses)\n",
    "def normalize(x_, y_):\n",
    "    return tf.cast(x_, tf.float32) / 255., y_"
   ]
  },
  {
   "cell_type": "code",
   "execution_count": 8,
   "metadata": {},
   "outputs": [],
   "source": [
    "from functions import AlexNet_resize\n",
    "\n",
    "bs = 32\n",
    "\n",
    "# Training\n",
    "#-----------------------------------------\n",
    "train_dataset = tf.data.Dataset.from_tensor_slices((x_train, y_train))\n",
    "# Shuffle\n",
    "train_dataset = train_dataset.shuffle(buffer_size=x_train.shape[0])\n",
    "train_dataset = train_dataset.map(to_categorical)\n",
    "train_dataset = train_dataset.map(normalize)\n",
    "train_dataset = train_dataset.map(AlexNet_resize)\n",
    "# Divide in batches\n",
    "train_dataset = train_dataset.batch(bs)\n",
    "# Repeat\n",
    "train_dataset = train_dataset.repeat()\n",
    "\n",
    "#Validation   \n",
    "# -----------------------\n",
    "valid_dataset = tf.data.Dataset.from_tensor_slices((x_valid, y_valid))\n",
    "# Enconding\n",
    "valid_dataset = valid_dataset.map(to_categorical)\n",
    "# Normalize\n",
    "valid_dataset = valid_dataset.map(normalize)\n",
    "# Resize\n",
    "valid_dataset = valid_dataset.map(AlexNet_resize)\n",
    "# Divide in batches\n",
    "valid_dataset = valid_dataset.batch(bs)\n",
    "# Repeat\n",
    "valid_dataset = valid_dataset.repeat()\n",
    "\n",
    "#Testing \n",
    "# -------------------\n",
    "test_dataset = tf.data.Dataset.from_tensor_slices((x_test, y_test))\n",
    "test_dataset = test_dataset.map(to_categorical)\n",
    "test_dataset = test_dataset.map(normalize)\n",
    "test_dataset = test_dataset.map(AlexNet_resize)\n",
    "test_dataset = test_dataset.batch(1)"
   ]
  },
  {
   "cell_type": "markdown",
   "metadata": {},
   "source": [
    "## Building Model"
   ]
  },
  {
   "cell_type": "code",
   "execution_count": 4,
   "metadata": {},
   "outputs": [
    {
     "name": "stdout",
     "output_type": "stream",
     "text": [
      "Model: \"model\"\n",
      "_________________________________________________________________\n",
      "Layer (type)                 Output Shape              Param #   \n",
      "=================================================================\n",
      "input_1 (InputLayer)         [(None, 227, 227, 3)]     0         \n",
      "_________________________________________________________________\n",
      "lambda (Lambda)              (None, 227, 227, 3)       0         \n",
      "_________________________________________________________________\n",
      "conv2d (Conv2D)              (None, 55, 55, 96)        34944     \n",
      "_________________________________________________________________\n",
      "lambda_1 (Lambda)            (None, 55, 55, 96)        0         \n",
      "_________________________________________________________________\n",
      "tf_op_layer_Relu (TensorFlow [(None, 55, 55, 96)]      0         \n",
      "_________________________________________________________________\n",
      "lambda_2 (Lambda)            (None, 55, 55, 96)        0         \n",
      "_________________________________________________________________\n",
      "batch_normalization (BatchNo (None, 55, 55, 96)        384       \n",
      "_________________________________________________________________\n",
      "lambda_3 (Lambda)            (None, 55, 55, 96)        0         \n",
      "_________________________________________________________________\n",
      "max_pooling2d (MaxPooling2D) (None, 27, 27, 96)        0         \n",
      "_________________________________________________________________\n",
      "conv2d_1 (Conv2D)            (None, 27, 27, 256)       614656    \n",
      "_________________________________________________________________\n",
      "lambda_4 (Lambda)            (None, 27, 27, 256)       0         \n",
      "_________________________________________________________________\n",
      "tf_op_layer_Relu_1 (TensorFl [(None, 27, 27, 256)]     0         \n",
      "_________________________________________________________________\n",
      "lambda_5 (Lambda)            (None, 27, 27, 256)       0         \n",
      "_________________________________________________________________\n",
      "batch_normalization_1 (Batch (None, 27, 27, 256)       1024      \n",
      "_________________________________________________________________\n",
      "lambda_6 (Lambda)            (None, 27, 27, 256)       0         \n",
      "_________________________________________________________________\n",
      "max_pooling2d_1 (MaxPooling2 (None, 13, 13, 256)       0         \n",
      "_________________________________________________________________\n",
      "conv2d_2 (Conv2D)            (None, 13, 13, 384)       885120    \n",
      "_________________________________________________________________\n",
      "lambda_7 (Lambda)            (None, 13, 13, 384)       0         \n",
      "_________________________________________________________________\n",
      "tf_op_layer_Relu_2 (TensorFl [(None, 13, 13, 384)]     0         \n",
      "_________________________________________________________________\n",
      "lambda_8 (Lambda)            (None, 13, 13, 384)       0         \n",
      "_________________________________________________________________\n",
      "batch_normalization_2 (Batch (None, 13, 13, 384)       1536      \n",
      "_________________________________________________________________\n",
      "lambda_9 (Lambda)            (None, 13, 13, 384)       0         \n",
      "_________________________________________________________________\n",
      "conv2d_3 (Conv2D)            (None, 13, 13, 384)       147840    \n",
      "_________________________________________________________________\n",
      "lambda_10 (Lambda)           (None, 13, 13, 384)       0         \n",
      "_________________________________________________________________\n",
      "tf_op_layer_Relu_3 (TensorFl [(None, 13, 13, 384)]     0         \n",
      "_________________________________________________________________\n",
      "lambda_11 (Lambda)           (None, 13, 13, 384)       0         \n",
      "_________________________________________________________________\n",
      "batch_normalization_3 (Batch (None, 13, 13, 384)       1536      \n",
      "_________________________________________________________________\n",
      "lambda_12 (Lambda)           (None, 13, 13, 384)       0         \n",
      "_________________________________________________________________\n",
      "conv2d_4 (Conv2D)            (None, 13, 13, 256)       98560     \n",
      "_________________________________________________________________\n",
      "lambda_13 (Lambda)           (None, 13, 13, 256)       0         \n",
      "_________________________________________________________________\n",
      "tf_op_layer_Relu_4 (TensorFl [(None, 13, 13, 256)]     0         \n",
      "_________________________________________________________________\n",
      "lambda_14 (Lambda)           (None, 13, 13, 256)       0         \n",
      "_________________________________________________________________\n",
      "batch_normalization_4 (Batch (None, 13, 13, 256)       1024      \n",
      "_________________________________________________________________\n",
      "lambda_15 (Lambda)           (None, 13, 13, 256)       0         \n",
      "_________________________________________________________________\n",
      "max_pooling2d_2 (MaxPooling2 (None, 6, 6, 256)         0         \n",
      "_________________________________________________________________\n",
      "flatten (Flatten)            (None, 9216)              0         \n",
      "_________________________________________________________________\n",
      "dense (Dense)                (None, 4096)              37752832  \n",
      "_________________________________________________________________\n",
      "lambda_16 (Lambda)           (None, 4096)              0         \n",
      "_________________________________________________________________\n",
      "tf_op_layer_Relu_5 (TensorFl [(None, 4096)]            0         \n",
      "_________________________________________________________________\n",
      "lambda_17 (Lambda)           (None, 4096)              0         \n",
      "_________________________________________________________________\n",
      "dropout (Dropout)            (None, 4096)              0         \n",
      "_________________________________________________________________\n",
      "dense_1 (Dense)              (None, 4096)              16781312  \n",
      "_________________________________________________________________\n",
      "lambda_18 (Lambda)           (None, 4096)              0         \n",
      "_________________________________________________________________\n",
      "tf_op_layer_Relu_6 (TensorFl [(None, 4096)]            0         \n",
      "_________________________________________________________________\n",
      "lambda_19 (Lambda)           (None, 4096)              0         \n",
      "_________________________________________________________________\n",
      "dropout_1 (Dropout)          (None, 4096)              0         \n",
      "_________________________________________________________________\n",
      "dense_2 (Dense)              (None, 10)                40970     \n",
      "_________________________________________________________________\n",
      "lambda_20 (Lambda)           (None, 10)                0         \n",
      "_________________________________________________________________\n",
      "tf_op_layer_Softmax (TensorF [(None, 10)]              0         \n",
      "_________________________________________________________________\n",
      "lambda_21 (Lambda)           (None, 10)                0         \n",
      "=================================================================\n",
      "Total params: 56,361,738\n",
      "Trainable params: 56,358,986\n",
      "Non-trainable params: 2,752\n",
      "_________________________________________________________________\n"
     ]
    }
   ],
   "source": [
    "from models import AlexNet_body\n",
    "\n",
    "input_layer   = tf.keras.Input((227,227,3))\n",
    "output_layer  = AlexNet_body(input_layer, Quantization = False, N_labels = Nclasses)\n",
    "\n",
    "AlexNet  = tf.keras.Model(inputs=input_layer, outputs=output_layer)\n",
    "AlexNet.summary()"
   ]
  },
  {
   "cell_type": "markdown",
   "metadata": {
    "id": "6iWx-RpJ0Otv"
   },
   "source": [
    "## Training Options"
   ]
  },
  {
   "cell_type": "code",
   "execution_count": 22,
   "metadata": {
    "id": "RDfs6zWP0Otw"
   },
   "outputs": [],
   "source": [
    "# Optimization params\n",
    "# -------------------\n",
    "\n",
    "# Loss\n",
    "loss = tf.keras.losses.CategoricalCrossentropy()\n",
    "\n",
    "# learning rate\n",
    "lr = 1e-4\n",
    "optimizer = tf.keras.optimizers.Adam(learning_rate=lr)\n",
    "# -------------------\n",
    "\n",
    "# Validation metrics\n",
    "# ------------------\n",
    "\n",
    "metrics = ['accuracy']\n",
    "# ------------------\n",
    "\n",
    "# Compile Model\n",
    "AlexNet.compile(optimizer=optimizer, loss=loss, metrics=metrics)"
   ]
  },
  {
   "cell_type": "markdown",
   "metadata": {
    "id": "n0KcF7na0Otz"
   },
   "source": [
    "## Callbacks"
   ]
  },
  {
   "cell_type": "code",
   "execution_count": 24,
   "metadata": {
    "id": "dcY5pIOk0Ot0",
    "scrolled": true
   },
   "outputs": [],
   "source": [
    "early_stop = True\n",
    "cwd = os.getcwd()\n",
    "callbacks = []\n",
    "\n",
    "# Early Stopping\n",
    "# --------------\n",
    "if early_stop:\n",
    "    es_callback = tf.keras.callbacks.EarlyStopping(monitor='val_loss', patience=5, restore_best_weights=True)\n",
    "    callbacks.append(es_callback)\n"
   ]
  },
  {
   "cell_type": "markdown",
   "metadata": {},
   "source": [
    "## Training"
   ]
  },
  {
   "cell_type": "code",
   "execution_count": 25,
   "metadata": {},
   "outputs": [
    {
     "name": "stdout",
     "output_type": "stream",
     "text": [
      "Train for 33 steps, validate for 1 steps\n",
      "Epoch 1/100\n",
      "33/33 [==============================] - 6s 190ms/step - loss: 1.0431 - accuracy: 0.8296 - val_loss: 0.9464 - val_accuracy: 0.3846\n",
      "Epoch 2/100\n",
      "33/33 [==============================] - 1s 45ms/step - loss: 0.2345 - accuracy: 0.9581 - val_loss: 1.7026 - val_accuracy: 0.3846\n",
      "Epoch 3/100\n",
      "33/33 [==============================] - 2s 49ms/step - loss: 0.0639 - accuracy: 0.9844 - val_loss: 2.4316 - val_accuracy: 0.3846\n",
      "Epoch 4/100\n",
      "33/33 [==============================] - 2s 56ms/step - loss: 0.0921 - accuracy: 0.9796 - val_loss: 4.0822 - val_accuracy: 0.3846\n",
      "Epoch 5/100\n",
      "33/33 [==============================] - 2s 56ms/step - loss: 0.1180 - accuracy: 0.9796 - val_loss: 7.4880 - val_accuracy: 0.3846\n",
      "Epoch 6/100\n",
      "33/33 [==============================] - 2s 57ms/step - loss: 0.1092 - accuracy: 0.9805 - val_loss: 5.3382 - val_accuracy: 0.3846\n"
     ]
    },
    {
     "data": {
      "text/plain": [
       "<tensorflow.python.keras.callbacks.History at 0x2302e93d688>"
      ]
     },
     "execution_count": 25,
     "metadata": {},
     "output_type": "execute_result"
    }
   ],
   "source": [
    "AlexNet.fit(x=train_dataset,\n",
    "          epochs=100,  #### set repeat in training dataset\n",
    "          steps_per_epoch=int(np.ceil(x_train.shape[0] / bs)),\n",
    "          validation_data=valid_dataset,\n",
    "          validation_steps=int(np.ceil(x_valid.shape[0] / bs)), \n",
    "          callbacks=callbacks)"
   ]
  },
  {
   "cell_type": "markdown",
   "metadata": {
    "id": "xDBCY2RP0Ot3"
   },
   "source": [
    "## Saving Weights"
   ]
  },
  {
   "cell_type": "code",
   "execution_count": 9,
   "metadata": {},
   "outputs": [],
   "source": [
    "Wgt_dir = os.path.join(cwd, 'TrainedWeights')\n",
    "Wgt_dir = os.path.join(Wgt_dir, 'WeedWeights')\n",
    "Wgt_dir = os.path.join(Wgt_dir,'Weights')\n",
    "AlexNet.save_weights(Wgt_dir)"
   ]
  }
 ],
 "metadata": {
  "accelerator": "GPU",
  "colab": {
   "collapsed_sections": [],
   "name": "Transfer_Learning.ipynb",
   "provenance": []
  },
  "kernelspec": {
   "display_name": "Python 3",
   "language": "python",
   "name": "python3"
  },
  "language_info": {
   "codemirror_mode": {
    "name": "ipython",
    "version": 3
   },
   "file_extension": ".py",
   "mimetype": "text/x-python",
   "name": "python",
   "nbconvert_exporter": "python",
   "pygments_lexer": "ipython3",
   "version": "3.7.9"
  }
 },
 "nbformat": 4,
 "nbformat_minor": 1
}
