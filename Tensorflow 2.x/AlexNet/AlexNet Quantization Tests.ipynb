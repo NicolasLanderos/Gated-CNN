{
 "cells": [
  {
   "cell_type": "code",
   "execution_count": 1,
   "metadata": {
    "id": "fZOMjk-2pGPs"
   },
   "outputs": [],
   "source": [
    "import tensorflow as tf\n",
    "import numpy as np\n",
    "import os"
   ]
  },
  {
   "cell_type": "markdown",
   "metadata": {},
   "source": [
    "## Loading CIFAR10 Data"
   ]
  },
  {
   "cell_type": "code",
   "execution_count": 2,
   "metadata": {
    "id": "feuqKVkHqQVW"
   },
   "outputs": [],
   "source": [
    "(_, _), (x_test, y_test) = tf.keras.datasets.cifar10.load_data()\n",
    "# Reducing Target innecessary dimension\n",
    "y_test  = np.squeeze(y_test)"
   ]
  },
  {
   "cell_type": "markdown",
   "metadata": {},
   "source": [
    "## Creating Dataset Objects"
   ]
  },
  {
   "cell_type": "code",
   "execution_count": 3,
   "metadata": {
    "id": "Z9YPFldhqV5K"
   },
   "outputs": [],
   "source": [
    "# Normalize Images\n",
    "def normalize_img(x_, y_):\n",
    "    return tf.cast(x_, tf.float32) / 255., y_\n",
    "\n",
    "# 1-hot encoding\n",
    "def to_categorical(x_, y_):\n",
    "    return x_, tf.one_hot(y_, depth=10)\n",
    "\n",
    "# Resizing \n",
    "def process_images(image, label):\n",
    "    # Resize images from 32x32 to 277x277\n",
    "    image = tf.image.resize(image, (227,227))\n",
    "    return image, label\n",
    "\n",
    "test_dataset = tf.data.Dataset.from_tensor_slices((x_test, y_test))\n",
    "test_dataset = test_dataset.map(normalize_img)\n",
    "test_dataset = test_dataset.map(to_categorical)\n",
    "test_dataset = test_dataset.map(process_images)\n",
    "test_dataset = test_dataset.batch(1)"
   ]
  },
  {
   "cell_type": "markdown",
   "metadata": {},
   "source": [
    "## Quantization Layer"
   ]
  },
  {
   "cell_type": "code",
   "execution_count": 4,
   "metadata": {},
   "outputs": [],
   "source": [
    "def Quantization_layer(tensor, Quantization = True,signed = True, word_size = 12, frac_size = 6):\n",
    "    \n",
    "    factor = 2.0**frac_size\n",
    "    \n",
    "    # Quantized max and min values, in case of the need to implement overflow cases.\n",
    "    #if signed:\n",
    "    #    Max_Qvalue = ((1 << (word_size-1)) - 1)/factor\n",
    "    #    Min_Qvalue = -Max_Qvalue - 1\n",
    "    #else:\n",
    "    #    Max_Qvalue = ((1 << (word_size)) - 1)/factor\n",
    "    #    Min_Qvalue = 0\n",
    "    \n",
    "    if Quantization:\n",
    "        return tf.round(tensor*factor) / factor             #Quantization, assuming no overflow\n",
    "    else:\n",
    "        return tensor                                       #Simple Bypass"
   ]
  },
  {
   "cell_type": "markdown",
   "metadata": {
    "id": "mvho0zVa0Oti"
   },
   "source": [
    "## Creating AlexNet Model"
   ]
  },
  {
   "cell_type": "code",
   "execution_count": 5,
   "metadata": {},
   "outputs": [],
   "source": [
    "from tensorflow.keras.layers import Conv2D, Dense, BatchNormalization, MaxPool2D, Flatten, Dropout, Lambda\n",
    "\n",
    "\n",
    "def build_model(input_layer, Quantization = True, signed = True, word_size = 12, frac_size = 6 ):\n",
    "    \n",
    "    Arguments = {'Quantization':Quantization, 'signed':signed, 'word_size':word_size, 'frac_size':frac_size}\n",
    "    QInp      = Lambda(Quantization_layer, arguments = Arguments )(input_layer)\n",
    "    \n",
    "    #Conv Block\n",
    "    Conv1   = Conv2D(filters=96, kernel_size=(11,11), strides=(4,4))(QInp)\n",
    "    QConv1  = Lambda(Quantization_layer, arguments = Arguments )(Conv1)\n",
    "    Relu1   = tf.keras.activations.relu(QConv1)\n",
    "    QRelu1  = Lambda(Quantization_layer, arguments = Arguments )(Relu1)\n",
    "    BN1     = BatchNormalization()(QRelu1)\n",
    "    QBN1    = Lambda(Quantization_layer, arguments = Arguments )(BN1)\n",
    "    MP1     = MaxPool2D(pool_size=(3,3), strides=(2,2))(QBN1)\n",
    "    \n",
    "    Conv2   = Conv2D(filters=256, kernel_size=(5,5), strides=(1,1),padding=\"same\")(MP1)\n",
    "    QConv2  = Lambda(Quantization_layer, arguments = Arguments )(Conv2)\n",
    "    Relu2   = tf.keras.activations.relu(QConv2)\n",
    "    QRelu2  = Lambda(Quantization_layer, arguments = Arguments )(Relu2)\n",
    "    BN2     = BatchNormalization()(QRelu2)\n",
    "    QBN2    = Lambda(Quantization_layer, arguments = Arguments )(BN2)\n",
    "    MP2     = MaxPool2D(pool_size=(3,3), strides=(2,2))(QBN2)\n",
    "    \n",
    "    Conv3   = Conv2D(filters=384, kernel_size=(3,3), strides=(1,1), padding=\"same\")(MP2)\n",
    "    QConv3  = Lambda(Quantization_layer, arguments = Arguments )(Conv3)\n",
    "    Relu3   = tf.keras.activations.relu(QConv3)\n",
    "    QRelu3  = Lambda(Quantization_layer, arguments = Arguments )(Relu3)\n",
    "    BN3     = BatchNormalization()(QRelu3)\n",
    "    QBN3    = Lambda(Quantization_layer, arguments = Arguments )(BN3)\n",
    "    \n",
    "    Conv4   = Conv2D(filters=384, kernel_size=(1,1), strides=(1,1), padding=\"same\")(QBN3)\n",
    "    QConv4  = Lambda(Quantization_layer, arguments = Arguments )(Conv4)\n",
    "    Relu4   = tf.keras.activations.relu(QConv4)\n",
    "    QRelu4  = Lambda(Quantization_layer, arguments = Arguments )(Relu4)\n",
    "    BN4     = BatchNormalization()(QRelu4)\n",
    "    QBN4    = Lambda(Quantization_layer, arguments = Arguments )(BN4)\n",
    "    \n",
    "    Conv5   = Conv2D(filters=256, kernel_size=(1,1), strides=(1,1), padding=\"same\")(QBN4)\n",
    "    QConv5  = Lambda(Quantization_layer, arguments = Arguments )(Conv5)\n",
    "    Relu5   = tf.keras.activations.relu(QConv5)\n",
    "    QRelu5  = Lambda(Quantization_layer, arguments = Arguments )(Relu5)\n",
    "    BN5     = BatchNormalization()(QRelu5)\n",
    "    QBN5    = Lambda(Quantization_layer, arguments = Arguments )(BN5)\n",
    "    MP5     = MaxPool2D(pool_size=(3,3), strides=(2,2))(QBN5)\n",
    "    \n",
    "    Flat    = Flatten()(MP5)\n",
    "    \n",
    "    Dense6  = Dense(4096)(Flat)\n",
    "    QDense6 = Lambda(Quantization_layer, arguments = Arguments )(Dense6)\n",
    "    Relu6   = tf.keras.activations.relu(QDense6)\n",
    "    QRelu6  = Lambda(Quantization_layer, arguments = Arguments )(Relu6)\n",
    "    Drop6   = Dropout(0.5)(QRelu6)\n",
    "    \n",
    "    Dense7  = Dense(4096)(Drop6)\n",
    "    QDense7 = Lambda(Quantization_layer, arguments = Arguments )(Dense7)\n",
    "    Relu7   = tf.keras.activations.relu(QDense7)\n",
    "    QRelu7  = Lambda(Quantization_layer, arguments = Arguments )(Relu7)\n",
    "    Drop7   = Dropout(0.5)(QRelu7)\n",
    "    \n",
    "    Dense8  = Dense(10)(Drop7)\n",
    "    QDense8 = Lambda(Quantization_layer, arguments = Arguments )(Dense8)\n",
    "    SM8     = tf.keras.activations.softmax(QDense8)\n",
    "    QSM8    = Lambda(Quantization_layer, arguments = Arguments )(SM8)\n",
    "    \n",
    "    return QSM8"
   ]
  },
  {
   "cell_type": "markdown",
   "metadata": {},
   "source": [
    "## Loading Quantized model and Non Quantized model "
   ]
  },
  {
   "cell_type": "markdown",
   "metadata": {},
   "source": [
    "En base al resultado del ultimo item del cuaderno \"AlexNet Analysis\" las entradas/salidas de las capas tienen valores que varian entre -80 y 53.5, aunque los valores maximos y minimos varian enormemente entre capas, por ahora realizaremos una cuantizacion igual para cada capa.\n",
    "\n",
    "Considerando un bit para el signo, se necesitan al menos 7 bits para la parte entera, se medirá el accuracy de modelos en funcion del numero de bits destinados a la parte fraccionaria."
   ]
  },
  {
   "cell_type": "code",
   "execution_count": 6,
   "metadata": {},
   "outputs": [],
   "source": [
    "\n",
    "input_layer   = tf.keras.Input((227,227,3))\n",
    "output_layer  = build_model(input_layer, Quantization = False)\n",
    "\n",
    "Frac_Bits = 5\n",
    "Int_Bits  = 7\n",
    "\n",
    "Qinput_layer  = tf.keras.Input((227,227,3))\n",
    "Qoutput_layer = build_model(Qinput_layer, Quantization = True, word_size = (Frac_Bits+Int_Bits+1), frac_size = Frac_Bits)\n",
    "\n",
    "AlexNet  = tf.keras.Model(inputs=input_layer, outputs=output_layer)\n",
    "QAlexNet = tf.keras.Model(inputs=Qinput_layer, outputs=Qoutput_layer)"
   ]
  },
  {
   "cell_type": "markdown",
   "metadata": {},
   "source": [
    "## Loading Pretrained Weights"
   ]
  },
  {
   "cell_type": "code",
   "execution_count": 7,
   "metadata": {
    "id": "-Q8qN9xeqzm7"
   },
   "outputs": [
    {
     "data": {
      "text/plain": [
       "<tensorflow.python.training.tracking.util.CheckpointLoadStatus at 0x22b6f736108>"
      ]
     },
     "execution_count": 7,
     "metadata": {},
     "output_type": "execute_result"
    }
   ],
   "source": [
    "# Loading Wieghts\n",
    "cwd = os.getcwd()\n",
    "Wgt_dir = os.path.join(cwd,'TrainedWeights')\n",
    "Wgt_dir = os.path.join(Wgt_dir,'Weights')\n",
    "AlexNet.load_weights(Wgt_dir)\n",
    "QAlexNet.load_weights(Wgt_dir)\n",
    "\n",
    "# Visualize AlexNet Architecture\n",
    "#AlexNet.summary()\n",
    "\n",
    "# Visualize initialized weights\n",
    "#AlexNet.weights"
   ]
  },
  {
   "cell_type": "markdown",
   "metadata": {},
   "source": [
    "## Quantize weights"
   ]
  },
  {
   "cell_type": "markdown",
   "metadata": {},
   "source": [
    "En base al resultado del ultimo item del cuaderno \"AlexNet Analysis\" los valores de los pesos varian entre -0.16 y 28.7, en este caso, en general no hay grandes variaciones entre valores por capa.\n",
    "\n",
    "Obs: vale la pena notar que dado que el minimo de los pesos es muy cercano a 0, puede la cuantizacion sin signo ser una alternativa, ademas salvo una capa de batchnormalization con pesos de altos valores (28.7 y otros), los demas pesos se mantienen de baja magnitud (menor a 8 y en su gran mayoria menor a 2)\n",
    "\n",
    "Considerando un bit para el signo, se necesitan al menos 5 bits para la parte entera, se medirá el accuracy de modelos en funcion del numero de bits destinados a la parte fraccionaria."
   ]
  },
  {
   "cell_type": "code",
   "execution_count": 8,
   "metadata": {},
   "outputs": [],
   "source": [
    "def Quantization(List, Quantization = True, signed = True, word_size = 12, frac_size = 6):\n",
    "    factor = 2.0**frac_size\n",
    "    return tf.round(np.array(List)*factor) / factor             #Quantization, assuming no overflow\n",
    "\n",
    "Frac_Bits = 5\n",
    "Int_Bits  = 5\n",
    "\n",
    "\n",
    "for layer in QAlexNet.layers:\n",
    "    weights = layer.get_weights()\n",
    "    if weights:                     # Layer with weights\n",
    "        # Quantization of Weights and Bias \n",
    "        Qweights    = [Quantization(itm, word_size = (Int_Bits+Frac_Bits+1), frac_size = Frac_Bits) for itm in weights]\n",
    "        layer.set_weights(Qweights)"
   ]
  },
  {
   "cell_type": "markdown",
   "metadata": {},
   "source": [
    "## Check the general Accuracy"
   ]
  },
  {
   "cell_type": "code",
   "execution_count": 9,
   "metadata": {},
   "outputs": [],
   "source": [
    "# Optimization params\n",
    "# -------------------\n",
    "\n",
    "# Loss\n",
    "loss = tf.keras.losses.CategoricalCrossentropy()\n",
    "\n",
    "# learning rate\n",
    "lr = 1e-3\n",
    "optimizer = tf.keras.optimizers.Adam(learning_rate=lr)\n",
    "# -------------------\n",
    "\n",
    "# Validation metrics\n",
    "# ------------------\n",
    "\n",
    "metrics = ['accuracy']\n",
    "# ------------------\n",
    "\n",
    "# Compile Model\n",
    "AlexNet.compile(optimizer=optimizer, loss=loss, metrics=metrics)\n",
    "QAlexNet.compile(optimizer=optimizer, loss=loss, metrics=metrics)"
   ]
  },
  {
   "cell_type": "markdown",
   "metadata": {},
   "source": [
    "## Original model"
   ]
  },
  {
   "cell_type": "code",
   "execution_count": 10,
   "metadata": {},
   "outputs": [
    {
     "name": "stdout",
     "output_type": "stream",
     "text": [
      "10000/10000 [==============================] - 63s 6ms/step - loss: 0.6316 - accuracy: 0.7898\n"
     ]
    },
    {
     "data": {
      "text/plain": [
       "[0.6315659527876948, 0.7898]"
      ]
     },
     "execution_count": 10,
     "metadata": {},
     "output_type": "execute_result"
    }
   ],
   "source": [
    "AlexNet.evaluate(test_dataset)"
   ]
  },
  {
   "cell_type": "markdown",
   "metadata": {},
   "source": [
    "## 3 bit precision weights && 3 bit precision activations"
   ]
  },
  {
   "cell_type": "code",
   "execution_count": 11,
   "metadata": {},
   "outputs": [
    {
     "name": "stdout",
     "output_type": "stream",
     "text": [
      "10000/10000 [==============================] - 57s 6ms/step - loss: 2.3026 - accuracy: 0.1000\n"
     ]
    },
    {
     "data": {
      "text/plain": [
       "[2.3025851249694824, 0.1]"
      ]
     },
     "execution_count": 11,
     "metadata": {},
     "output_type": "execute_result"
    }
   ],
   "source": [
    "QAlexNet.evaluate(test_dataset)"
   ]
  },
  {
   "cell_type": "markdown",
   "metadata": {},
   "source": [
    "## 5 bit precision weights && 5 bit precision activations"
   ]
  },
  {
   "cell_type": "code",
   "execution_count": 10,
   "metadata": {},
   "outputs": [
    {
     "name": "stdout",
     "output_type": "stream",
     "text": [
      "10000/10000 [==============================] - 60s 6ms/step - loss: 6.1661 - accuracy: 0.4053\n"
     ]
    },
    {
     "data": {
      "text/plain": [
       "[6.166052489484474, 0.4053]"
      ]
     },
     "execution_count": 10,
     "metadata": {},
     "output_type": "execute_result"
    }
   ],
   "source": [
    "QAlexNet.evaluate(test_dataset)"
   ]
  },
  {
   "cell_type": "markdown",
   "metadata": {},
   "source": [
    "## 6 bit precision weights && 6 bit precision activations"
   ]
  },
  {
   "cell_type": "code",
   "execution_count": 16,
   "metadata": {},
   "outputs": [
    {
     "name": "stdout",
     "output_type": "stream",
     "text": [
      "10000/10000 [==============================] - 56s 6ms/step - loss: 1.0707 - accuracy: 0.7398\n"
     ]
    },
    {
     "data": {
      "text/plain": [
       "[1.0706737461386249, 0.7398]"
      ]
     },
     "execution_count": 16,
     "metadata": {},
     "output_type": "execute_result"
    }
   ],
   "source": [
    "QAlexNet.evaluate(test_dataset)"
   ]
  },
  {
   "cell_type": "markdown",
   "metadata": {},
   "source": [
    "## 7 bit precision weights && 7 bit precision activations"
   ]
  },
  {
   "cell_type": "code",
   "execution_count": 21,
   "metadata": {},
   "outputs": [
    {
     "name": "stdout",
     "output_type": "stream",
     "text": [
      "10000/10000 [==============================] - 59s 6ms/step - loss: 0.8646 - accuracy: 0.7533\n"
     ]
    },
    {
     "data": {
      "text/plain": [
       "[0.8646249719636515, 0.7533]"
      ]
     },
     "execution_count": 21,
     "metadata": {},
     "output_type": "execute_result"
    }
   ],
   "source": [
    "QAlexNet.evaluate(test_dataset)"
   ]
  },
  {
   "cell_type": "markdown",
   "metadata": {},
   "source": [
    "## 8 bit precision weights && 8 bit precision activations"
   ]
  },
  {
   "cell_type": "code",
   "execution_count": 26,
   "metadata": {},
   "outputs": [
    {
     "name": "stdout",
     "output_type": "stream",
     "text": [
      "10000/10000 [==============================] - 60s 6ms/step - loss: 0.6723 - accuracy: 0.7935\n"
     ]
    },
    {
     "data": {
      "text/plain": [
       "[0.6723387817996089, 0.7935]"
      ]
     },
     "execution_count": 26,
     "metadata": {},
     "output_type": "execute_result"
    }
   ],
   "source": [
    "QAlexNet.evaluate(test_dataset)"
   ]
  },
  {
   "cell_type": "markdown",
   "metadata": {},
   "source": [
    "Se necesitan al menos 6 bits para tener resultados decentes, luego de 8 bits se alcanza al modelo original"
   ]
  }
 ],
 "metadata": {
  "accelerator": "GPU",
  "colab": {
   "collapsed_sections": [],
   "name": "OverfittingAndCallbacks.ipynb",
   "provenance": []
  },
  "kernelspec": {
   "display_name": "Python 3",
   "language": "python",
   "name": "python3"
  },
  "language_info": {
   "codemirror_mode": {
    "name": "ipython",
    "version": 3
   },
   "file_extension": ".py",
   "mimetype": "text/x-python",
   "name": "python",
   "nbconvert_exporter": "python",
   "pygments_lexer": "ipython3",
   "version": "3.7.9"
  }
 },
 "nbformat": 4,
 "nbformat_minor": 1
}
