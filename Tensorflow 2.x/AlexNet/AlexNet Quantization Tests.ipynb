{
 "cells": [
  {
   "cell_type": "code",
   "execution_count": 1,
   "metadata": {
    "id": "fZOMjk-2pGPs"
   },
   "outputs": [],
   "source": [
    "import tensorflow as tf\n",
    "import numpy as np\n",
    "import os\n",
    "import sys"
   ]
  },
  {
   "cell_type": "code",
   "execution_count": 2,
   "metadata": {},
   "outputs": [],
   "source": [
    "# Path para importacion de funciones\n",
    "dir_actual    = os.path.abspath('')\n",
    "dir_parent = os.path.dirname(dir_actual)\n",
    "if not dir_parent in sys.path: sys.path.append(dir_parent)"
   ]
  },
  {
   "cell_type": "markdown",
   "metadata": {},
   "source": [
    "## Loading CIFAR10 Data"
   ]
  },
  {
   "cell_type": "code",
   "execution_count": 3,
   "metadata": {
    "id": "feuqKVkHqQVW"
   },
   "outputs": [],
   "source": [
    "(_, _), (x_test, y_test) = tf.keras.datasets.cifar10.load_data()\n",
    "# Normalizando\n",
    "x_test = x_test/255.\n",
    "# Reducing Target innecessary dimension\n",
    "y_test  = np.squeeze(y_test)"
   ]
  },
  {
   "cell_type": "markdown",
   "metadata": {},
   "source": [
    "## Creating Dataset Objects"
   ]
  },
  {
   "cell_type": "code",
   "execution_count": 4,
   "metadata": {
    "id": "Z9YPFldhqV5K"
   },
   "outputs": [],
   "source": [
    "from functions import to_categorical, AlexNet_resize\n",
    "\n",
    "test_dataset = tf.data.Dataset.from_tensor_slices((x_test, y_test))\n",
    "test_dataset = test_dataset.map(to_categorical)\n",
    "test_dataset = test_dataset.map(AlexNet_resize)\n",
    "test_dataset = test_dataset.batch(1)"
   ]
  },
  {
   "cell_type": "markdown",
   "metadata": {},
   "source": [
    "## Loading Quantized model and Non Quantized model "
   ]
  },
  {
   "cell_type": "markdown",
   "metadata": {},
   "source": [
    "En base al resultado del ultimo item del cuaderno \"AlexNet Analysis\" las entradas/salidas de las capas tienen valores que varian entre -80 y 53.5, aunque los valores maximos y minimos varian enormemente entre capas, por ahora realizaremos una cuantizacion igual para cada capa."
   ]
  },
  {
   "cell_type": "code",
   "execution_count": 5,
   "metadata": {},
   "outputs": [],
   "source": [
    "from models import AlexNet_body\n",
    "\n",
    "input_layer   = tf.keras.Input((227,227,3))\n",
    "output_layer  = AlexNet_body(input_layer, Quantization = False)\n",
    "\n",
    "Frac_Bits = 4\n",
    "Int_Bits  = 7\n",
    "\n",
    "Qinput_layer  = tf.keras.Input((227,227,3))\n",
    "Qoutput_layer = AlexNet_body(Qinput_layer, Quantization = True, word_size = (Frac_Bits+Int_Bits+1), frac_size = Frac_Bits)\n",
    "\n",
    "AlexNet  = tf.keras.Model(inputs=input_layer, outputs=output_layer)\n",
    "QAlexNet = tf.keras.Model(inputs=Qinput_layer, outputs=Qoutput_layer)"
   ]
  },
  {
   "cell_type": "markdown",
   "metadata": {},
   "source": [
    "## Loading Pretrained Weights"
   ]
  },
  {
   "cell_type": "code",
   "execution_count": 6,
   "metadata": {
    "id": "-Q8qN9xeqzm7"
   },
   "outputs": [
    {
     "data": {
      "text/plain": [
       "<tensorflow.python.training.tracking.util.CheckpointLoadStatus at 0x149650e8808>"
      ]
     },
     "execution_count": 6,
     "metadata": {},
     "output_type": "execute_result"
    }
   ],
   "source": [
    "# Loading Wieghts\n",
    "cwd = os.getcwd()\n",
    "Wgt_dir = os.path.join(cwd,'TrainedWeights')\n",
    "Wgt_dir = os.path.join(Wgt_dir,'Weights')\n",
    "\n",
    "AlexNet.load_weights(Wgt_dir)\n",
    "QAlexNet.load_weights(Wgt_dir)"
   ]
  },
  {
   "cell_type": "markdown",
   "metadata": {},
   "source": [
    "## Quantize weights"
   ]
  },
  {
   "cell_type": "markdown",
   "metadata": {},
   "source": [
    "En base al resultado del ultimo item del cuaderno \"AlexNet Analysis\" los valores de los pesos varian entre -0.16 y 28.7, en este caso, en general no hay grandes variaciones entre valores por capa.\n",
    "\n",
    "Obs: vale la pena notar que dado que el minimo de los pesos es muy cercano a 0, puede la cuantizacion sin signo ser una alternativa, ademas salvo una capa de batchnormalization con pesos de altos valores (28.7 y otros), los demas pesos se mantienen de baja magnitud (menor a 8 y en su gran mayoria menor a 2)"
   ]
  },
  {
   "cell_type": "code",
   "execution_count": 7,
   "metadata": {},
   "outputs": [],
   "source": [
    "from models import Weight_Quantization\n",
    "Weight_Quantization(model = QAlexNet, Frac_Bits = 8, Int_Bits = 5)"
   ]
  },
  {
   "cell_type": "markdown",
   "metadata": {},
   "source": [
    "## Check the general Accuracy"
   ]
  },
  {
   "cell_type": "code",
   "execution_count": 8,
   "metadata": {},
   "outputs": [],
   "source": [
    "# Optimization params\n",
    "# -------------------\n",
    "\n",
    "# Loss\n",
    "loss = tf.keras.losses.CategoricalCrossentropy()\n",
    "\n",
    "# learning rate\n",
    "lr = 1e-3\n",
    "optimizer = tf.keras.optimizers.Adam(learning_rate=lr)\n",
    "# -------------------\n",
    "\n",
    "# Validation metrics\n",
    "# ------------------\n",
    "\n",
    "metrics = ['accuracy']\n",
    "# ------------------\n",
    "\n",
    "# Compile Model\n",
    "AlexNet.compile(optimizer=optimizer, loss=loss, metrics=metrics)\n",
    "QAlexNet.compile(optimizer=optimizer, loss=loss, metrics=metrics)"
   ]
  },
  {
   "cell_type": "markdown",
   "metadata": {},
   "source": [
    "## Original model"
   ]
  },
  {
   "cell_type": "code",
   "execution_count": 20,
   "metadata": {
    "scrolled": true
   },
   "outputs": [
    {
     "name": "stdout",
     "output_type": "stream",
     "text": [
      "10000/10000 [==============================] - 62s 6ms/step - loss: 0.6316 - accuracy: 0.7898\n"
     ]
    },
    {
     "data": {
      "text/plain": [
       "[0.6315659527876948, 0.7898]"
      ]
     },
     "execution_count": 20,
     "metadata": {},
     "output_type": "execute_result"
    }
   ],
   "source": [
    "AlexNet.evaluate(test_dataset)"
   ]
  },
  {
   "cell_type": "markdown",
   "metadata": {},
   "source": [
    "# Experimento 1: Cuantizacion homogenea (pesos y activaciones), sin saturacion"
   ]
  },
  {
   "cell_type": "markdown",
   "metadata": {},
   "source": [
    "### 5 bits de precision "
   ]
  },
  {
   "cell_type": "code",
   "execution_count": 21,
   "metadata": {},
   "outputs": [
    {
     "name": "stdout",
     "output_type": "stream",
     "text": [
      "10000/10000 [==============================] - 60s 6ms/step - loss: 6.1661 - accuracy: 0.4053\n"
     ]
    },
    {
     "data": {
      "text/plain": [
       "[6.166052489484474, 0.4053]"
      ]
     },
     "execution_count": 21,
     "metadata": {},
     "output_type": "execute_result"
    }
   ],
   "source": [
    "QAlexNet.evaluate(test_dataset)"
   ]
  },
  {
   "cell_type": "markdown",
   "metadata": {},
   "source": [
    "### 6 bits de precision"
   ]
  },
  {
   "cell_type": "code",
   "execution_count": 15,
   "metadata": {},
   "outputs": [
    {
     "name": "stdout",
     "output_type": "stream",
     "text": [
      "10000/10000 [==============================] - 61s 6ms/step - loss: 1.0707 - accuracy: 0.7398 0s - loss: 1.0708 - accuracy: 0.73\n"
     ]
    },
    {
     "data": {
      "text/plain": [
       "[1.0706737461386249, 0.7398]"
      ]
     },
     "execution_count": 15,
     "metadata": {},
     "output_type": "execute_result"
    }
   ],
   "source": [
    "QAlexNet.evaluate(test_dataset)"
   ]
  },
  {
   "cell_type": "markdown",
   "metadata": {},
   "source": [
    "### 7 bits de precision"
   ]
  },
  {
   "cell_type": "code",
   "execution_count": 21,
   "metadata": {},
   "outputs": [
    {
     "name": "stdout",
     "output_type": "stream",
     "text": [
      "10000/10000 [==============================] - 59s 6ms/step - loss: 0.8646 - accuracy: 0.7533\n"
     ]
    },
    {
     "data": {
      "text/plain": [
       "[0.8646249719636515, 0.7533]"
      ]
     },
     "execution_count": 21,
     "metadata": {},
     "output_type": "execute_result"
    }
   ],
   "source": [
    "QAlexNet.evaluate(test_dataset)"
   ]
  },
  {
   "cell_type": "markdown",
   "metadata": {},
   "source": [
    "### 8 bits de precision"
   ]
  },
  {
   "cell_type": "code",
   "execution_count": 26,
   "metadata": {},
   "outputs": [
    {
     "name": "stdout",
     "output_type": "stream",
     "text": [
      "10000/10000 [==============================] - 60s 6ms/step - loss: 0.6723 - accuracy: 0.7935\n"
     ]
    },
    {
     "data": {
      "text/plain": [
       "[0.6723387817996089, 0.7935]"
      ]
     },
     "execution_count": 26,
     "metadata": {},
     "output_type": "execute_result"
    }
   ],
   "source": [
    "QAlexNet.evaluate(test_dataset)"
   ]
  },
  {
   "cell_type": "markdown",
   "metadata": {},
   "source": [
    "Se necesitan al menos 6 bits para tener resultados decentes, luego de 8 bits se alcanza al modelo original"
   ]
  },
  {
   "cell_type": "markdown",
   "metadata": {},
   "source": [
    "# Experimento 2: variacion en precision de pesos y activaciones por separado"
   ]
  },
  {
   "cell_type": "markdown",
   "metadata": {},
   "source": [
    "### 7 bits de precision  para pesos && 8 bits de precision para activaciones"
   ]
  },
  {
   "cell_type": "code",
   "execution_count": 32,
   "metadata": {},
   "outputs": [
    {
     "name": "stdout",
     "output_type": "stream",
     "text": [
      "10000/10000 [==============================] - 60s 6ms/step - loss: 0.8119 - accuracy: 0.7537\n"
     ]
    },
    {
     "data": {
      "text/plain": [
       "[0.8118756652813406, 0.7537]"
      ]
     },
     "execution_count": 32,
     "metadata": {},
     "output_type": "execute_result"
    }
   ],
   "source": [
    "QAlexNet.evaluate(test_dataset)"
   ]
  },
  {
   "cell_type": "markdown",
   "metadata": {},
   "source": [
    "### 8 bits de precision para pesos && 7 bits de precision para activaciones"
   ]
  },
  {
   "cell_type": "code",
   "execution_count": 38,
   "metadata": {},
   "outputs": [
    {
     "name": "stdout",
     "output_type": "stream",
     "text": [
      "10000/10000 [==============================] - 60s 6ms/step - loss: 0.6994 - accuracy: 0.7938\n"
     ]
    },
    {
     "data": {
      "text/plain": [
       "[0.6994086616043934, 0.7938]"
      ]
     },
     "execution_count": 38,
     "metadata": {},
     "output_type": "execute_result"
    }
   ],
   "source": [
    "QAlexNet.evaluate(test_dataset)"
   ]
  },
  {
   "cell_type": "markdown",
   "metadata": {},
   "source": [
    "### 8 bits de precision para pesos && 6 bits de precision para activaciones"
   ]
  },
  {
   "cell_type": "code",
   "execution_count": 10,
   "metadata": {},
   "outputs": [
    {
     "name": "stdout",
     "output_type": "stream",
     "text": [
      "10000/10000 [==============================] - 64s 6ms/step - loss: 0.7647 - accuracy: 0.7947\n"
     ]
    },
    {
     "data": {
      "text/plain": [
       "[0.7646517137991266, 0.7947]"
      ]
     },
     "execution_count": 10,
     "metadata": {},
     "output_type": "execute_result"
    }
   ],
   "source": [
    "QAlexNet.evaluate(test_dataset)"
   ]
  },
  {
   "cell_type": "markdown",
   "metadata": {},
   "source": [
    "### 8 bits de precision para pesos && 5 bits de precision para activaciones"
   ]
  },
  {
   "cell_type": "code",
   "execution_count": 26,
   "metadata": {},
   "outputs": [
    {
     "name": "stdout",
     "output_type": "stream",
     "text": [
      "10000/10000 [==============================] - 60s 6ms/step - loss: 0.8503 - accuracy: 0.7945\n"
     ]
    },
    {
     "data": {
      "text/plain": [
       "[0.8503479480508714, 0.7945]"
      ]
     },
     "execution_count": 26,
     "metadata": {},
     "output_type": "execute_result"
    }
   ],
   "source": [
    "QAlexNet.evaluate(test_dataset)"
   ]
  },
  {
   "cell_type": "markdown",
   "metadata": {},
   "source": [
    "### 8 bits de precision para pesos && 4 bits de precision para activaciones"
   ]
  },
  {
   "cell_type": "code",
   "execution_count": 21,
   "metadata": {},
   "outputs": [
    {
     "name": "stdout",
     "output_type": "stream",
     "text": [
      "10000/10000 [==============================] - 60s 6ms/step - loss: 1.0048 - accuracy: 0.7924\n"
     ]
    },
    {
     "data": {
      "text/plain": [
       "[1.0048045276381075, 0.7924]"
      ]
     },
     "execution_count": 21,
     "metadata": {},
     "output_type": "execute_result"
    }
   ],
   "source": [
    "QAlexNet.evaluate(test_dataset)"
   ]
  },
  {
   "cell_type": "markdown",
   "metadata": {},
   "source": [
    "### 8 bits de precision para pesos && 3 bits de precision para activaciones"
   ]
  },
  {
   "cell_type": "code",
   "execution_count": 26,
   "metadata": {},
   "outputs": [
    {
     "name": "stdout",
     "output_type": "stream",
     "text": [
      "10000/10000 [==============================] - 60s 6ms/step - loss: 1.4013 - accuracy: 0.7796\n"
     ]
    },
    {
     "data": {
      "text/plain": [
       "[1.401272422876954, 0.7796]"
      ]
     },
     "execution_count": 26,
     "metadata": {},
     "output_type": "execute_result"
    }
   ],
   "source": [
    "QAlexNet.evaluate(test_dataset)"
   ]
  },
  {
   "cell_type": "markdown",
   "metadata": {},
   "source": [
    "### 8 bits de precision para pesos && 2 bits de precision para activaciones"
   ]
  },
  {
   "cell_type": "code",
   "execution_count": 10,
   "metadata": {},
   "outputs": [
    {
     "name": "stdout",
     "output_type": "stream",
     "text": [
      "10000/10000 [==============================] - 62s 6ms/step - loss: 3.7763 - accuracy: 0.6186\n"
     ]
    },
    {
     "data": {
      "text/plain": [
       "[3.776289973831177, 0.6186]"
      ]
     },
     "execution_count": 10,
     "metadata": {},
     "output_type": "execute_result"
    }
   ],
   "source": [
    "QAlexNet.evaluate(test_dataset)"
   ]
  },
  {
   "cell_type": "markdown",
   "metadata": {},
   "source": [
    "La precicion de los pesos es mucho mas importante, se alcanzan excelentes resultados incluso con 3 bits de precicion para activaciones"
   ]
  },
  {
   "cell_type": "markdown",
   "metadata": {},
   "source": [
    "# Experimento 3: Variacion en el numero de bits para la parte entera de los pesos (presicion de 8 bits tanto para pesos y 4 para activaciones )"
   ]
  },
  {
   "cell_type": "markdown",
   "metadata": {},
   "source": [
    "### 4 bits para parte entera pesos"
   ]
  },
  {
   "cell_type": "code",
   "execution_count": 10,
   "metadata": {},
   "outputs": [
    {
     "name": "stdout",
     "output_type": "stream",
     "text": [
      "10000/10000 [==============================] - 64s 6ms/step - loss: 1.0091 - accuracy: 0.7921\n"
     ]
    },
    {
     "data": {
      "text/plain": [
       "[1.0091007089659572, 0.7921]"
      ]
     },
     "execution_count": 10,
     "metadata": {},
     "output_type": "execute_result"
    }
   ],
   "source": [
    "QAlexNet.evaluate(test_dataset)"
   ]
  },
  {
   "cell_type": "markdown",
   "metadata": {},
   "source": [
    "### 3 bits para parte entera pesos"
   ]
  },
  {
   "cell_type": "code",
   "execution_count": 15,
   "metadata": {},
   "outputs": [
    {
     "name": "stdout",
     "output_type": "stream",
     "text": [
      "10000/10000 [==============================] - 65s 7ms/step - loss: 1.0180 - accuracy: 0.7853\n"
     ]
    },
    {
     "data": {
      "text/plain": [
       "[1.0180256422705949, 0.7853]"
      ]
     },
     "execution_count": 15,
     "metadata": {},
     "output_type": "execute_result"
    }
   ],
   "source": [
    "QAlexNet.evaluate(test_dataset)"
   ]
  },
  {
   "cell_type": "markdown",
   "metadata": {},
   "source": [
    "### 2 bits para parte entera pesos"
   ]
  },
  {
   "cell_type": "code",
   "execution_count": 30,
   "metadata": {},
   "outputs": [
    {
     "name": "stdout",
     "output_type": "stream",
     "text": [
      "10000/10000 [==============================] - 64s 6ms/step - loss: 1.0887 - accuracy: 0.7723\n"
     ]
    },
    {
     "data": {
      "text/plain": [
       "[1.0887096228919924, 0.7723]"
      ]
     },
     "execution_count": 30,
     "metadata": {},
     "output_type": "execute_result"
    }
   ],
   "source": [
    "QAlexNet.evaluate(test_dataset)"
   ]
  },
  {
   "cell_type": "markdown",
   "metadata": {},
   "source": [
    "### 1 bit para parte entera pesos"
   ]
  },
  {
   "cell_type": "code",
   "execution_count": 10,
   "metadata": {},
   "outputs": [
    {
     "name": "stdout",
     "output_type": "stream",
     "text": [
      "10000/10000 [==============================] - 61s 6ms/step - loss: 1.4661 - accuracy: 0.7454\n"
     ]
    },
    {
     "data": {
      "text/plain": [
       "[1.466126222857833, 0.7454]"
      ]
     },
     "execution_count": 10,
     "metadata": {},
     "output_type": "execute_result"
    }
   ],
   "source": [
    "QAlexNet.evaluate(test_dataset)"
   ]
  },
  {
   "cell_type": "markdown",
   "metadata": {},
   "source": [
    "# Experimento 4: Variacion en el numero de bits para la parte entera de las activaciones (presicion de 8 bits tanto para pesos y 4 para activaciones )"
   ]
  },
  {
   "cell_type": "markdown",
   "metadata": {},
   "source": [
    "### 6 bits para parte entera activaciones"
   ]
  },
  {
   "cell_type": "code",
   "execution_count": 18,
   "metadata": {},
   "outputs": [
    {
     "name": "stdout",
     "output_type": "stream",
     "text": [
      "10000/10000 [==============================] - 66s 7ms/step - loss: 1.0048 - accuracy: 0.7924\n"
     ]
    },
    {
     "data": {
      "text/plain": [
       "[1.0048045276381075, 0.7924]"
      ]
     },
     "execution_count": 18,
     "metadata": {},
     "output_type": "execute_result"
    }
   ],
   "source": [
    "QAlexNet.evaluate(test_dataset)"
   ]
  },
  {
   "cell_type": "markdown",
   "metadata": {},
   "source": [
    "### 5 bits para parte entera activaciones"
   ]
  },
  {
   "cell_type": "code",
   "execution_count": 23,
   "metadata": {},
   "outputs": [
    {
     "name": "stdout",
     "output_type": "stream",
     "text": [
      "10000/10000 [==============================] - 65s 7ms/step - loss: 1.0048 - accuracy: 0.7923\n"
     ]
    },
    {
     "data": {
      "text/plain": [
       "[1.0048096896000207, 0.7923]"
      ]
     },
     "execution_count": 23,
     "metadata": {},
     "output_type": "execute_result"
    }
   ],
   "source": [
    "QAlexNet.evaluate(test_dataset)"
   ]
  },
  {
   "cell_type": "markdown",
   "metadata": {},
   "source": [
    "### 4 bits para parte entera activaciones"
   ]
  },
  {
   "cell_type": "code",
   "execution_count": 15,
   "metadata": {},
   "outputs": [
    {
     "name": "stdout",
     "output_type": "stream",
     "text": [
      "10000/10000 [==============================] - 62s 6ms/step - loss: 0.9866 - accuracy: 0.7937\n"
     ]
    },
    {
     "data": {
      "text/plain": [
       "[0.986574599121511, 0.7937]"
      ]
     },
     "execution_count": 15,
     "metadata": {},
     "output_type": "execute_result"
    }
   ],
   "source": [
    "QAlexNet.evaluate(test_dataset)"
   ]
  },
  {
   "cell_type": "markdown",
   "metadata": {},
   "source": [
    "### 3 bits para parte entera activaciones"
   ]
  },
  {
   "cell_type": "code",
   "execution_count": 24,
   "metadata": {
    "scrolled": true
   },
   "outputs": [
    {
     "name": "stdout",
     "output_type": "stream",
     "text": [
      "10000/10000 [==============================] - 63s 6ms/step - loss: 0.9117 - accuracy: 0.7778\n"
     ]
    },
    {
     "data": {
      "text/plain": [
       "[0.9116993742294609, 0.7778]"
      ]
     },
     "execution_count": 24,
     "metadata": {},
     "output_type": "execute_result"
    }
   ],
   "source": [
    "QAlexNet.evaluate(test_dataset)"
   ]
  },
  {
   "cell_type": "markdown",
   "metadata": {},
   "source": [
    "4 bits para la parte entera de las activaciones y 3 para la de los pesos son suficientes"
   ]
  },
  {
   "cell_type": "markdown",
   "metadata": {},
   "source": [
    "# Experimento 5: variacion en la precision de los pesos en las capas FC"
   ]
  },
  {
   "cell_type": "markdown",
   "metadata": {},
   "source": [
    "### 6 bits de precision pesos capas full conectadas"
   ]
  },
  {
   "cell_type": "code",
   "execution_count": 32,
   "metadata": {},
   "outputs": [
    {
     "name": "stdout",
     "output_type": "stream",
     "text": [
      "10000/10000 [==============================] - 63s 6ms/step - loss: 1.0354 - accuracy: 0.7918\n"
     ]
    },
    {
     "data": {
      "text/plain": [
       "[1.0354409900657833, 0.7918]"
      ]
     },
     "execution_count": 32,
     "metadata": {},
     "output_type": "execute_result"
    }
   ],
   "source": [
    "QAlexNet.evaluate(test_dataset)"
   ]
  },
  {
   "cell_type": "markdown",
   "metadata": {},
   "source": [
    "### 5 bits de precision pesos capas full conectadas"
   ]
  },
  {
   "cell_type": "code",
   "execution_count": 10,
   "metadata": {},
   "outputs": [
    {
     "name": "stdout",
     "output_type": "stream",
     "text": [
      "10000/10000 [==============================] - 62s 6ms/step - loss: 1.2250 - accuracy: 0.7896\n"
     ]
    },
    {
     "data": {
      "text/plain": [
       "[1.2250263604424894, 0.7896]"
      ]
     },
     "execution_count": 10,
     "metadata": {},
     "output_type": "execute_result"
    }
   ],
   "source": [
    "QAlexNet.evaluate(test_dataset)"
   ]
  },
  {
   "cell_type": "markdown",
   "metadata": {},
   "source": [
    "### 4 bits de precicion pesos capas full conectadas"
   ]
  },
  {
   "cell_type": "code",
   "execution_count": 15,
   "metadata": {},
   "outputs": [
    {
     "name": "stdout",
     "output_type": "stream",
     "text": [
      "10000/10000 [==============================] - 62s 6ms/step - loss: 1.2114 - accuracy: 0.7336\n"
     ]
    },
    {
     "data": {
      "text/plain": [
       "[1.2113528115950525, 0.7336]"
      ]
     },
     "execution_count": 15,
     "metadata": {},
     "output_type": "execute_result"
    }
   ],
   "source": [
    "QAlexNet.evaluate(test_dataset)"
   ]
  },
  {
   "cell_type": "markdown",
   "metadata": {},
   "source": [
    "# Experimento 6: variacion en la parte entera de los pesos en las capas FC"
   ]
  },
  {
   "cell_type": "markdown",
   "metadata": {},
   "source": [
    "### 2 bits parte entera pesos capas fc"
   ]
  },
  {
   "cell_type": "code",
   "execution_count": 27,
   "metadata": {},
   "outputs": [
    {
     "name": "stdout",
     "output_type": "stream",
     "text": [
      "10000/10000 [==============================] - 64s 6ms/step - loss: 1.0048 - accuracy: 0.7924\n"
     ]
    },
    {
     "data": {
      "text/plain": [
       "[1.0048045276381075, 0.7924]"
      ]
     },
     "execution_count": 27,
     "metadata": {},
     "output_type": "execute_result"
    }
   ],
   "source": [
    "QAlexNet.evaluate(test_dataset)"
   ]
  },
  {
   "cell_type": "markdown",
   "metadata": {},
   "source": [
    "### 1 bits parte entera pesos capas fc"
   ]
  },
  {
   "cell_type": "code",
   "execution_count": 10,
   "metadata": {},
   "outputs": [
    {
     "name": "stdout",
     "output_type": "stream",
     "text": [
      "10000/10000 [==============================] - 63s 6ms/step - loss: 1.0048 - accuracy: 0.7924\n"
     ]
    },
    {
     "data": {
      "text/plain": [
       "[1.0048045276381075, 0.7924]"
      ]
     },
     "execution_count": 10,
     "metadata": {},
     "output_type": "execute_result"
    }
   ],
   "source": [
    "QAlexNet.evaluate(test_dataset)"
   ]
  },
  {
   "cell_type": "markdown",
   "metadata": {},
   "source": [
    "### 0 bits parte entera pesos capas fc"
   ]
  },
  {
   "cell_type": "code",
   "execution_count": 15,
   "metadata": {},
   "outputs": [
    {
     "name": "stdout",
     "output_type": "stream",
     "text": [
      "10000/10000 [==============================] - 60s 6ms/step - loss: 1.0048 - accuracy: 0.7924\n"
     ]
    },
    {
     "data": {
      "text/plain": [
       "[1.0048045276381075, 0.7924]"
      ]
     },
     "execution_count": 15,
     "metadata": {},
     "output_type": "execute_result"
    }
   ],
   "source": [
    "QAlexNet.evaluate(test_dataset)"
   ]
  },
  {
   "cell_type": "markdown",
   "metadata": {},
   "source": [
    "# Resumen de las mejores combinaciones"
   ]
  },
  {
   "cell_type": "markdown",
   "metadata": {},
   "source": [
    "### Pesos capas no FC: precicion = 8, parte entera = 3.  \n",
    "### Pesos capas FC: precicion = 5, parte entera = 0.\n",
    "### Activaciones:    precicion = 3, parte entera = 4."
   ]
  },
  {
   "cell_type": "code",
   "execution_count": 15,
   "metadata": {},
   "outputs": [
    {
     "name": "stdout",
     "output_type": "stream",
     "text": [
      "10000/10000 [==============================] - 63s 6ms/step - loss: 1.6393 - accuracy: 0.7737\n"
     ]
    },
    {
     "data": {
      "text/plain": [
       "[1.6392892693132162, 0.7737]"
      ]
     },
     "execution_count": 15,
     "metadata": {},
     "output_type": "execute_result"
    }
   ],
   "source": [
    "QAlexNet.evaluate(test_dataset)"
   ]
  },
  {
   "cell_type": "markdown",
   "metadata": {},
   "source": [
    "### Pesos capas no FC: precicion = 8, parte entera = 3.  \n",
    "### Pesos capas FC: precicion = 5, parte entera = 0.\n",
    "### Activaciones:    precicion = 4, parte entera = 4."
   ]
  },
  {
   "cell_type": "code",
   "execution_count": 26,
   "metadata": {},
   "outputs": [
    {
     "name": "stdout",
     "output_type": "stream",
     "text": [
      "10000/10000 [==============================] - 64s 6ms/step - loss: 1.1897 - accuracy: 0.7867\n"
     ]
    },
    {
     "data": {
      "text/plain": [
       "[1.189661008798331, 0.7867]"
      ]
     },
     "execution_count": 26,
     "metadata": {},
     "output_type": "execute_result"
    }
   ],
   "source": [
    "QAlexNet.evaluate(test_dataset)"
   ]
  },
  {
   "cell_type": "markdown",
   "metadata": {},
   "source": [
    "### Pesos capas no FC: precicion = 8, parte entera = 4.  \n",
    "### Pesos capas FC: precicion = 6, parte entera = 0.\n",
    "### Activaciones:    precicion = 4, parte entera = 4."
   ]
  },
  {
   "cell_type": "code",
   "execution_count": 20,
   "metadata": {},
   "outputs": [
    {
     "name": "stdout",
     "output_type": "stream",
     "text": [
      "10000/10000 [==============================] - 64s 6ms/step - loss: 1.0168 - accuracy: 0.7900\n"
     ]
    },
    {
     "data": {
      "text/plain": [
       "[1.016753859217465, 0.79]"
      ]
     },
     "execution_count": 20,
     "metadata": {},
     "output_type": "execute_result"
    }
   ],
   "source": [
    "QAlexNet.evaluate(test_dataset)"
   ]
  },
  {
   "cell_type": "markdown",
   "metadata": {},
   "source": [
    "## Ploteo de Resultados"
   ]
  },
  {
   "cell_type": "code",
   "execution_count": 9,
   "metadata": {},
   "outputs": [
    {
     "data": {
      "image/png": "[encoded data removed]",
      "text/plain": [
       "<Figure size 1080x360 with 2 Axes>"
      ]
     },
     "metadata": {
      "needs_background": "light"
     },
     "output_type": "display_data"
    }
   ],
   "source": [
    "import matplotlib.pyplot as plt\n",
    "\n",
    "fig, axs = plt.subplots(1,2,figsize=(15,5))\n",
    "fig.suptitle('AlexNet Quantization Experiment 1',fontsize=20)\n",
    "\n",
    "Acc  = [0.1, 0.4053, 0.7398, 0.7533, 0.7935]\n",
    "Qbits = [3, 5, 6, 7, 8]\n",
    "\n",
    "axs[0].set_xticks(Qbits)\n",
    "axs[0].set_ylim([0, 1])\n",
    "axs[0].set_xlabel('Number of Quantization bits for the fractional part of layers and weights')\n",
    "axs[0].set_ylabel('Accuracy',fontsize=14)\n",
    "axs[0].axhline(y=0.7898, color='r', linestyle='-')\n",
    "axs[0].plot(Qbits,Acc, color = 'b', linestyle='-')\n",
    "axs[0].legend(('Original Model','Quantized Model'))\n",
    "\n",
    "Loss = [2.3025851249694824, 6.166052489484474, 1.0706737461386249, 0.8646249719636515, 0.6723387817996089]\n",
    "\n",
    "axs[1].set_xticks(Qbits)\n",
    "axs[1].set_ylim([0, 7])\n",
    "axs[1].set_xlabel('Number of Quantization bits for the fractional part of layers and weights')\n",
    "axs[1].set_ylabel('Loss',fontsize=14)\n",
    "axs[1].axhline(y=0.6315659527876948, color='r', linestyle='-')\n",
    "axs[1].plot(Qbits,Loss, color = 'b', linestyle='-')\n",
    "axs[1].legend(('Original Model','Quantized Model'))\n",
    "\n",
    "fig.savefig('Figuras/Experimentos_Cuantizacion/ALexNet Quantization Experiment 1.png')"
   ]
  },
  {
   "cell_type": "code",
   "execution_count": 10,
   "metadata": {},
   "outputs": [
    {
     "data": {
      "image/png": "[encoded data removed]",
      "text/plain": [
       "<Figure size 1080x360 with 2 Axes>"
      ]
     },
     "metadata": {
      "needs_background": "light"
     },
     "output_type": "display_data"
    }
   ],
   "source": [
    "fig, axs = plt.subplots(1,2,figsize=(15,5))\n",
    "fig.suptitle('AlexNet Quantization Experiment 2',fontsize=20)\n",
    "\n",
    "Acc  = [0.6186, 0.7796, 0.7924, 0.7945, 0.7947, 0.7938]\n",
    "Qbits = [2, 3, 4, 5, 6, 7]\n",
    "\n",
    "axs[0].set_xticks(Qbits)\n",
    "axs[0].set_ylim([0, 1])\n",
    "axs[0].set_xlabel('Number of bits fraction part of activations')\n",
    "axs[0].set_ylabel('Accuracy',fontsize=14)\n",
    "axs[0].axhline(y=0.7898, color='r', linestyle='-')\n",
    "axs[0].plot(Qbits,Acc, color = 'b', linestyle='-')\n",
    "axs[0].legend(('Original Model','Quantized Model'))\n",
    "\n",
    "Loss = [3.776289973831177, 1.401272422876954, 1.0048045276381075, 0.8503479480508714, 0.7646517137991266, 0.6994086616043934]\n",
    "\n",
    "axs[1].set_xticks(Qbits)\n",
    "axs[1].set_ylim([0, 7])\n",
    "axs[1].set_xlabel('Number of bits fraction part of activations')\n",
    "axs[1].set_ylabel('Loss',fontsize=14)\n",
    "axs[1].axhline(y=0.6315659527876948, color='r', linestyle='-')\n",
    "axs[1].plot(Qbits,Loss, color = 'b', linestyle='-')\n",
    "axs[1].legend(('Original Model','Quantized Model'))\n",
    "\n",
    "fig.savefig('Figuras/Experimentos_Cuantizacion/AlexNet Quantization Experiment 2.png')"
   ]
  },
  {
   "cell_type": "code",
   "execution_count": 11,
   "metadata": {},
   "outputs": [
    {
     "data": {
      "image/png": "[encoded data removed]",
      "text/plain": [
       "<Figure size 1080x360 with 2 Axes>"
      ]
     },
     "metadata": {
      "needs_background": "light"
     },
     "output_type": "display_data"
    }
   ],
   "source": [
    "fig, axs = plt.subplots(1,2,figsize=(15,5))\n",
    "fig.suptitle('AlexNet Quantization Experiment 3',fontsize=20)\n",
    "\n",
    "Acc  = [0.7454, 0.7723, 0.7853, 0.7921, 0.7924]\n",
    "Qbits = [1, 2, 3, 4, 5]\n",
    "\n",
    "axs[0].set_xticks(Qbits)\n",
    "axs[0].set_ylim([0, 1])\n",
    "axs[0].set_xlabel('Number of bits for the integer part of weights')\n",
    "axs[0].set_ylabel('Accuracy',fontsize=14)\n",
    "axs[0].axhline(y=0.7898, color='r', linestyle='-')\n",
    "axs[0].plot(Qbits,Acc, color = 'b', linestyle='-')\n",
    "axs[0].legend(('Original Model','Quantized Model'))\n",
    "\n",
    "Loss = [1.466126222857833, 1.0887096228919924, 1.0180256422705949, 1.0091007089659572, 1.0048045276381075]\n",
    "\n",
    "axs[1].set_xticks(Qbits)\n",
    "axs[1].set_ylim([0, 7])\n",
    "axs[1].set_xlabel('Number of bits for the integer part of weights')\n",
    "axs[1].set_ylabel('Loss',fontsize=14)\n",
    "axs[1].axhline(y=0.6315659527876948, color='r', linestyle='-')\n",
    "axs[1].plot(Qbits,Loss, color = 'b', linestyle='-')\n",
    "axs[1].legend(('Original Model','Quantized Model'))\n",
    "\n",
    "fig.savefig('Figuras/Experimentos_Cuantizacion/AlexNet Quantization Experiment 3.png')"
   ]
  },
  {
   "cell_type": "code",
   "execution_count": 12,
   "metadata": {},
   "outputs": [
    {
     "data": {
      "image/png": "[encoded data removed]",
      "text/plain": [
       "<Figure size 1080x360 with 2 Axes>"
      ]
     },
     "metadata": {
      "needs_background": "light"
     },
     "output_type": "display_data"
    }
   ],
   "source": [
    "fig, axs = plt.subplots(1,2,figsize=(15,5))\n",
    "fig.suptitle('AlexNet Quantization Experiment 4',fontsize=20)\n",
    "\n",
    "Acc  = [0.7778, 0.7937, 0.7923, 0.7924, 0.7924]\n",
    "Qbits = [3, 4, 5, 6, 7]\n",
    "\n",
    "axs[0].set_xticks(Qbits)\n",
    "axs[0].set_ylim([0, 1])\n",
    "axs[0].set_xlabel('Number of bits for the integer part of activations')\n",
    "axs[0].set_ylabel('Accuracy',fontsize=14)\n",
    "axs[0].axhline(y=0.7898, color='r', linestyle='-')\n",
    "axs[0].plot(Qbits,Acc, color = 'b', linestyle='-')\n",
    "axs[0].legend(('Original Model','Quantized Model'))\n",
    "\n",
    "Loss = [0.9116993742294609, 0.986574599121511, 1.0048096896000207, 1.0048045276381075, 1.0048045276381075]\n",
    "\n",
    "axs[1].set_xticks(Qbits)\n",
    "axs[1].set_ylim([0, 7])\n",
    "axs[1].set_xlabel('Number of bits for the integer part of activations')\n",
    "axs[1].set_ylabel('Loss',fontsize=14)\n",
    "axs[1].axhline(y=0.6315659527876948, color='r', linestyle='-')\n",
    "axs[1].plot(Qbits,Loss, color = 'b', linestyle='-')\n",
    "axs[1].legend(('Original Model','Quantized Model'))\n",
    "\n",
    "fig.savefig('Figuras/Experimentos_Cuantizacion/AlexNet Quantization Experiment 4.png')"
   ]
  },
  {
   "cell_type": "code",
   "execution_count": 13,
   "metadata": {},
   "outputs": [
    {
     "data": {
      "image/png": "[encoded data removed]",
      "text/plain": [
       "<Figure size 1080x360 with 2 Axes>"
      ]
     },
     "metadata": {
      "needs_background": "light"
     },
     "output_type": "display_data"
    }
   ],
   "source": [
    "fig, axs = plt.subplots(1,2,figsize=(15,5))\n",
    "fig.suptitle('AlexNet Quantization Experiment 5',fontsize=20)\n",
    "\n",
    "Acc  = [0.7336, 0.7896, 0.7918, 0.7924]\n",
    "Qbits = [4, 5, 6, 8]\n",
    "\n",
    "axs[0].set_xticks(Qbits)\n",
    "axs[0].set_ylim([0, 1])\n",
    "axs[0].set_xlabel('Number of bits for the frac part of Dense Weights')\n",
    "axs[0].set_ylabel('Accuracy',fontsize=14)\n",
    "axs[0].axhline(y=0.7898, color='r', linestyle='-')\n",
    "axs[0].plot(Qbits,Acc, color = 'b', linestyle='-')\n",
    "axs[0].legend(('Original Model','Quantized Model'))\n",
    "\n",
    "Loss = [1.2113528115950525, 1.2250263604424894, 1.0354409900657833, 1.0048045276381075]\n",
    "\n",
    "axs[1].set_xticks(Qbits)\n",
    "axs[1].set_ylim([0, 7])\n",
    "axs[1].set_xlabel('Number of bits for the frac part of Dense Weights')\n",
    "axs[1].set_ylabel('Loss',fontsize=14)\n",
    "axs[1].axhline(y=0.6315659527876948, color='r', linestyle='-')\n",
    "axs[1].plot(Qbits,Loss, color = 'b', linestyle='-')\n",
    "axs[1].legend(('Original Model','Quantized Model'))\n",
    "\n",
    "fig.savefig('Figuras/Experimentos_Cuantizacion/AlexNet Quantization Experiment 5.png')"
   ]
  },
  {
   "cell_type": "code",
   "execution_count": null,
   "metadata": {},
   "outputs": [],
   "source": []
  }
 ],
 "metadata": {
  "accelerator": "GPU",
  "colab": {
   "collapsed_sections": [],
   "name": "OverfittingAndCallbacks.ipynb",
   "provenance": []
  },
  "kernelspec": {
   "display_name": "Python 3",
   "language": "python",
   "name": "python3"
  },
  "language_info": {
   "codemirror_mode": {
    "name": "ipython",
    "version": 3
   },
   "file_extension": ".py",
   "mimetype": "text/x-python",
   "name": "python",
   "nbconvert_exporter": "python",
   "pygments_lexer": "ipython3",
   "version": "3.7.9"
  }
 },
 "nbformat": 4,
 "nbformat_minor": 1
}
