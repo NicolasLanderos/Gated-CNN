{
 "cells": [
  {
   "cell_type": "code",
   "execution_count": 2,
   "metadata": {
    "id": "fZOMjk-2pGPs"
   },
   "outputs": [],
   "source": [
    "import tensorflow as tf\n",
    "import numpy as np\n",
    "import os\n",
    "import sys"
   ]
  },
  {
   "cell_type": "code",
   "execution_count": 3,
   "metadata": {},
   "outputs": [],
   "source": [
    "# Path para importacion de funciones\n",
    "dir_actual    = os.path.abspath('')\n",
    "dir_parent = os.path.dirname(dir_actual)\n",
    "if not dir_parent in sys.path: sys.path.append(dir_parent)"
   ]
  },
  {
   "cell_type": "markdown",
   "metadata": {},
   "source": [
    "## Loading Test Data"
   ]
  },
  {
   "cell_type": "code",
   "execution_count": 4,
   "metadata": {
    "id": "feuqKVkHqQVW"
   },
   "outputs": [],
   "source": [
    "# Loading Data\n",
    "(_, _), (x_test, y_test) = tf.keras.datasets.fashion_mnist.load_data()\n",
    "# Normalizando\n",
    "x_test = x_test/255.\n",
    "# Adding Channel Lenght Dimension: Expanding from (28x28) to (28x28x1)\n",
    "x_test = tf.expand_dims(x_test, -1)"
   ]
  },
  {
   "cell_type": "markdown",
   "metadata": {},
   "source": [
    "## Creating Dataset Objects"
   ]
  },
  {
   "cell_type": "code",
   "execution_count": 5,
   "metadata": {
    "id": "Z9YPFldhqV5K"
   },
   "outputs": [],
   "source": [
    "from functions import to_categorical\n",
    "\n",
    "test_dataset = tf.data.Dataset.from_tensor_slices((x_test, y_test))\n",
    "test_dataset = test_dataset.map(to_categorical)\n",
    "test_dataset = test_dataset.batch(1)"
   ]
  },
  {
   "cell_type": "markdown",
   "metadata": {},
   "source": [
    "## Loading Quantized model and Non Quantized model "
   ]
  },
  {
   "cell_type": "markdown",
   "metadata": {},
   "source": [
    "En base al resultado del ultimo item del cuaderno \"Lenet 5 Analysis\" las entradas/salidas de las capas tienen valores que varian entre -15.6 y 15.8, aunque los valores maximos y minimos varian enormemente entre capas, por ahora realizaremos una cuantizacion igual para cada capa.\n",
    "\n",
    "Considerando un bit para el signo, se necesitan al menos 4 bits para la parte entera, se medirá el accuracy de modelos en funcion del numero de bits destinados a la parte fraccionaria."
   ]
  },
  {
   "cell_type": "code",
   "execution_count": 7,
   "metadata": {},
   "outputs": [],
   "source": [
    "from models import Lenet_body\n",
    "\n",
    "input_layer   = tf.keras.Input((28, 28, 1))\n",
    "output_layer  = Lenet_body(input_layer, Quantization = False)\n",
    "\n",
    "\n",
    "Frac_Bits = 4\n",
    "Int_Bits  = 3\n",
    "\n",
    "Qinput_layer  = tf.keras.Input((28, 28, 1))\n",
    "Qoutput_layer = Lenet_body(Qinput_layer, Quantization = True, word_size = (Frac_Bits+Int_Bits+1), frac_size = Frac_Bits)\n",
    "\n",
    "Lenet  = tf.keras.Model(inputs=input_layer, outputs=output_layer)\n",
    "QLenet = tf.keras.Model(inputs=Qinput_layer, outputs=Qoutput_layer)"
   ]
  },
  {
   "cell_type": "markdown",
   "metadata": {},
   "source": [
    "## Loading Pretrained Weights"
   ]
  },
  {
   "cell_type": "code",
   "execution_count": 8,
   "metadata": {
    "id": "-Q8qN9xeqzm7"
   },
   "outputs": [
    {
     "data": {
      "text/plain": [
       "<tensorflow.python.training.tracking.util.CheckpointLoadStatus at 0x2247895ad48>"
      ]
     },
     "execution_count": 8,
     "metadata": {},
     "output_type": "execute_result"
    }
   ],
   "source": [
    "# Loading Wieghts\n",
    "cwd = os.getcwd()\n",
    "Wgt_dir = os.path.join(cwd,'TrainedWeights')\n",
    "Wgt_dir = os.path.join(Wgt_dir,'Weights')\n",
    "\n",
    "Lenet.load_weights(Wgt_dir)\n",
    "QLenet.load_weights(Wgt_dir)"
   ]
  },
  {
   "cell_type": "markdown",
   "metadata": {},
   "source": [
    "## Quantize Weights"
   ]
  },
  {
   "cell_type": "markdown",
   "metadata": {},
   "source": [
    "En base al resultado del ultimo item del cuaderno \"Lenet 5 Analysis\" los pesos valores que varian entre -0.9 y 1.6, en este caso no hay grandes variaciones entre valores por capa."
   ]
  },
  {
   "cell_type": "code",
   "execution_count": 9,
   "metadata": {},
   "outputs": [],
   "source": [
    "from models import Weight_Quantization\n",
    "Weight_Quantization(model = QLenet, Frac_Bits = 8, Int_Bits = 5)"
   ]
  },
  {
   "cell_type": "markdown",
   "metadata": {},
   "source": [
    "## Check the general Accuracy"
   ]
  },
  {
   "cell_type": "code",
   "execution_count": 10,
   "metadata": {},
   "outputs": [],
   "source": [
    "# Optimization params\n",
    "# -------------------\n",
    "\n",
    "# Loss\n",
    "loss = tf.keras.losses.CategoricalCrossentropy()\n",
    "\n",
    "# learning rate\n",
    "lr = 1e-3\n",
    "optimizer = tf.keras.optimizers.Adam(learning_rate=lr)\n",
    "# -------------------\n",
    "\n",
    "# Validation metrics\n",
    "# ------------------\n",
    "\n",
    "metrics = ['accuracy']\n",
    "# ------------------\n",
    "\n",
    "# Compile Model\n",
    "Lenet.compile(optimizer=optimizer, loss=loss, metrics=metrics)\n",
    "QLenet.compile(optimizer=optimizer, loss=loss, metrics=metrics)"
   ]
  },
  {
   "cell_type": "markdown",
   "metadata": {},
   "source": [
    "## Original Model"
   ]
  },
  {
   "cell_type": "code",
   "execution_count": 12,
   "metadata": {},
   "outputs": [
    {
     "name": "stdout",
     "output_type": "stream",
     "text": [
      "10000/10000 [==============================] - 34s 3ms/step - loss: 0.3196 - accuracy: 0.8883\n"
     ]
    },
    {
     "data": {
      "text/plain": [
       "[0.3196016080860579, 0.8883]"
      ]
     },
     "execution_count": 12,
     "metadata": {},
     "output_type": "execute_result"
    }
   ],
   "source": [
    "Lenet.evaluate(test_dataset)"
   ]
  },
  {
   "cell_type": "markdown",
   "metadata": {},
   "source": [
    "# Experimento 1: Cuantizacion homogenea, sin saturacion"
   ]
  },
  {
   "cell_type": "markdown",
   "metadata": {},
   "source": [
    "### 1 bit Precision for Weights && 1 bit Precicion for Activations"
   ]
  },
  {
   "cell_type": "code",
   "execution_count": 68,
   "metadata": {},
   "outputs": [
    {
     "name": "stdout",
     "output_type": "stream",
     "text": [
      "10000/10000 [==============================] - 32s 3ms/step - loss: 7.6026 - accuracy: 0.4099\n"
     ]
    },
    {
     "data": {
      "text/plain": [
       "[7.602550701546669, 0.4099]"
      ]
     },
     "execution_count": 68,
     "metadata": {},
     "output_type": "execute_result"
    }
   ],
   "source": [
    "QLenet.evaluate(test_dataset)"
   ]
  },
  {
   "cell_type": "markdown",
   "metadata": {},
   "source": [
    "### 2 bit Precision for Weights && 2 bit Precicion for Activations"
   ]
  },
  {
   "cell_type": "code",
   "execution_count": 73,
   "metadata": {},
   "outputs": [
    {
     "name": "stdout",
     "output_type": "stream",
     "text": [
      "10000/10000 [==============================] - 32s 3ms/step - loss: 1.1185 - accuracy: 0.8493\n"
     ]
    },
    {
     "data": {
      "text/plain": [
       "[1.1184957627177239, 0.8493]"
      ]
     },
     "execution_count": 73,
     "metadata": {},
     "output_type": "execute_result"
    }
   ],
   "source": [
    "QLenet.evaluate(test_dataset)"
   ]
  },
  {
   "cell_type": "markdown",
   "metadata": {},
   "source": [
    "### 3 bit Precision for Weights && 3 bit Precicion for Activations"
   ]
  },
  {
   "cell_type": "code",
   "execution_count": 78,
   "metadata": {},
   "outputs": [
    {
     "name": "stdout",
     "output_type": "stream",
     "text": [
      "10000/10000 [==============================] - 32s 3ms/step - loss: 0.6949 - accuracy: 0.8729\n"
     ]
    },
    {
     "data": {
      "text/plain": [
       "[0.6948502577155831, 0.8729]"
      ]
     },
     "execution_count": 78,
     "metadata": {},
     "output_type": "execute_result"
    }
   ],
   "source": [
    "QLenet.evaluate(test_dataset)"
   ]
  },
  {
   "cell_type": "markdown",
   "metadata": {},
   "source": [
    "### 4 bit Precision for Weights && 4 bit Precicion for Activations"
   ]
  },
  {
   "cell_type": "code",
   "execution_count": 13,
   "metadata": {},
   "outputs": [
    {
     "name": "stdout",
     "output_type": "stream",
     "text": [
      "10000/10000 [==============================] - 34s 3ms/step - loss: 0.5429 - accuracy: 0.8827\n"
     ]
    },
    {
     "data": {
      "text/plain": [
       "[0.5428545123860242, 0.8827]"
      ]
     },
     "execution_count": 13,
     "metadata": {},
     "output_type": "execute_result"
    }
   ],
   "source": [
    "QLenet.evaluate(test_dataset)"
   ]
  },
  {
   "cell_type": "markdown",
   "metadata": {},
   "source": [
    "Notice how even with low precicion (2 bits fractionals) the network accuracy is almost unaffected."
   ]
  },
  {
   "cell_type": "markdown",
   "metadata": {},
   "source": [
    "# Experimento 2: Variacion de precision en los pesos, precision fija de activaciones (4 bits), sin saturacion"
   ]
  },
  {
   "cell_type": "markdown",
   "metadata": {},
   "source": [
    "### 3 bits de precision para pesos"
   ]
  },
  {
   "cell_type": "code",
   "execution_count": 18,
   "metadata": {
    "scrolled": true
   },
   "outputs": [
    {
     "name": "stdout",
     "output_type": "stream",
     "text": [
      "10000/10000 [==============================] - 34s 3ms/step - loss: 0.5130 - accuracy: 0.8761\n"
     ]
    },
    {
     "data": {
      "text/plain": [
       "[0.5130198137916626, 0.8761]"
      ]
     },
     "execution_count": 18,
     "metadata": {},
     "output_type": "execute_result"
    }
   ],
   "source": [
    "QLenet.evaluate(test_dataset)"
   ]
  },
  {
   "cell_type": "markdown",
   "metadata": {},
   "source": [
    "### 2 bits de precision para pesos"
   ]
  },
  {
   "cell_type": "code",
   "execution_count": 23,
   "metadata": {},
   "outputs": [
    {
     "name": "stdout",
     "output_type": "stream",
     "text": [
      "10000/10000 [==============================] - 33s 3ms/step - loss: 0.6065 - accuracy: 0.8592\n"
     ]
    },
    {
     "data": {
      "text/plain": [
       "[0.6065071309164168, 0.8592]"
      ]
     },
     "execution_count": 23,
     "metadata": {},
     "output_type": "execute_result"
    }
   ],
   "source": [
    "QLenet.evaluate(test_dataset)"
   ]
  },
  {
   "cell_type": "markdown",
   "metadata": {},
   "source": [
    "# Experimento 3: Variacion de precision en las activaciones, precision fija de pesos (4 bits), sin saturacion"
   ]
  },
  {
   "cell_type": "markdown",
   "metadata": {},
   "source": [
    "### 3 bits de precision para activaciones"
   ]
  },
  {
   "cell_type": "code",
   "execution_count": 28,
   "metadata": {},
   "outputs": [
    {
     "name": "stdout",
     "output_type": "stream",
     "text": [
      "10000/10000 [==============================] - 34s 3ms/step - loss: 0.6788 - accuracy: 0.8793\n"
     ]
    },
    {
     "data": {
      "text/plain": [
       "[0.6788031583905222, 0.8793]"
      ]
     },
     "execution_count": 28,
     "metadata": {},
     "output_type": "execute_result"
    }
   ],
   "source": [
    "QLenet.evaluate(test_dataset)"
   ]
  },
  {
   "cell_type": "markdown",
   "metadata": {},
   "source": [
    "### 2 bits de precision para activaciones"
   ]
  },
  {
   "cell_type": "code",
   "execution_count": 33,
   "metadata": {},
   "outputs": [
    {
     "name": "stdout",
     "output_type": "stream",
     "text": [
      "10000/10000 [==============================] - 33s 3ms/step - loss: 0.9723 - accuracy: 0.8731\n"
     ]
    },
    {
     "data": {
      "text/plain": [
       "[0.9722800113618374, 0.8731]"
      ]
     },
     "execution_count": 33,
     "metadata": {},
     "output_type": "execute_result"
    }
   ],
   "source": [
    "QLenet.evaluate(test_dataset)"
   ]
  },
  {
   "cell_type": "markdown",
   "metadata": {},
   "source": [
    "# Experimento 4: Variacion en el numero de bits para la parte entera de los pesos (precision de 4 bits tanto para pesos como activaciones)"
   ]
  },
  {
   "cell_type": "markdown",
   "metadata": {},
   "source": [
    "### 1 bit para parte entera pesos"
   ]
  },
  {
   "cell_type": "code",
   "execution_count": 38,
   "metadata": {},
   "outputs": [
    {
     "name": "stdout",
     "output_type": "stream",
     "text": [
      "10000/10000 [==============================] - 34s 3ms/step - loss: 0.5429 - accuracy: 0.8827\n"
     ]
    },
    {
     "data": {
      "text/plain": [
       "[0.5428545123860242, 0.8827]"
      ]
     },
     "execution_count": 38,
     "metadata": {},
     "output_type": "execute_result"
    }
   ],
   "source": [
    "QLenet.evaluate(test_dataset)"
   ]
  },
  {
   "cell_type": "markdown",
   "metadata": {},
   "source": [
    "### 0 bit para parte entera pesos"
   ]
  },
  {
   "cell_type": "code",
   "execution_count": 43,
   "metadata": {},
   "outputs": [
    {
     "name": "stdout",
     "output_type": "stream",
     "text": [
      "10000/10000 [==============================] - 34s 3ms/step - loss: 0.5480 - accuracy: 0.8826\n"
     ]
    },
    {
     "data": {
      "text/plain": [
       "[0.5480399408109488, 0.8826]"
      ]
     },
     "execution_count": 43,
     "metadata": {},
     "output_type": "execute_result"
    }
   ],
   "source": [
    "QLenet.evaluate(test_dataset)"
   ]
  },
  {
   "cell_type": "markdown",
   "metadata": {},
   "source": [
    "# Experimento 5: Variacion en el numero de bits para la parte entera de las activaciones (precision de 4 bits tanto para pesos como activaciones)"
   ]
  },
  {
   "cell_type": "markdown",
   "metadata": {},
   "source": [
    "### 3 bits para parte entera activaciones"
   ]
  },
  {
   "cell_type": "code",
   "execution_count": 48,
   "metadata": {},
   "outputs": [
    {
     "name": "stdout",
     "output_type": "stream",
     "text": [
      "10000/10000 [==============================] - 34s 3ms/step - loss: 0.5120 - accuracy: 0.8827\n"
     ]
    },
    {
     "data": {
      "text/plain": [
       "[0.5120041680052878, 0.8827]"
      ]
     },
     "execution_count": 48,
     "metadata": {},
     "output_type": "execute_result"
    }
   ],
   "source": [
    "QLenet.evaluate(test_dataset)"
   ]
  },
  {
   "cell_type": "markdown",
   "metadata": {},
   "source": [
    "### 2 bits para parte entera activaciones"
   ]
  },
  {
   "cell_type": "code",
   "execution_count": 53,
   "metadata": {},
   "outputs": [
    {
     "name": "stdout",
     "output_type": "stream",
     "text": [
      "10000/10000 [==============================] - 34s 3ms/step - loss: 0.8235 - accuracy: 0.6588\n"
     ]
    },
    {
     "data": {
      "text/plain": [
       "[0.8234586628906428, 0.6588]"
      ]
     },
     "execution_count": 53,
     "metadata": {},
     "output_type": "execute_result"
    }
   ],
   "source": [
    "QLenet.evaluate(test_dataset)"
   ]
  },
  {
   "cell_type": "markdown",
   "metadata": {},
   "source": [
    "# Experimento 6: Variacion en la precision de pesos en capas FC (precision de 4 bits para lo demas), sin saturacion"
   ]
  },
  {
   "cell_type": "markdown",
   "metadata": {},
   "source": [
    "### 3 bits de precision para pesos de capas FC"
   ]
  },
  {
   "cell_type": "code",
   "execution_count": 58,
   "metadata": {},
   "outputs": [
    {
     "name": "stdout",
     "output_type": "stream",
     "text": [
      "10000/10000 [==============================] - 34s 3ms/step - loss: 0.5104 - accuracy: 0.8791\n"
     ]
    },
    {
     "data": {
      "text/plain": [
       "[0.5103918347626927, 0.8791]"
      ]
     },
     "execution_count": 58,
     "metadata": {},
     "output_type": "execute_result"
    }
   ],
   "source": [
    "QLenet.evaluate(test_dataset)"
   ]
  },
  {
   "cell_type": "markdown",
   "metadata": {},
   "source": [
    "### 2 bits de precision para pesos de capas FC"
   ]
  },
  {
   "cell_type": "code",
   "execution_count": 67,
   "metadata": {},
   "outputs": [
    {
     "name": "stdout",
     "output_type": "stream",
     "text": [
      "10000/10000 [==============================] - 34s 3ms/step - loss: 0.5751 - accuracy: 0.8678\n"
     ]
    },
    {
     "data": {
      "text/plain": [
       "[0.5750690444841983, 0.8678]"
      ]
     },
     "execution_count": 67,
     "metadata": {},
     "output_type": "execute_result"
    }
   ],
   "source": [
    "QLenet.evaluate(test_dataset)"
   ]
  },
  {
   "cell_type": "markdown",
   "metadata": {},
   "source": [
    "# Resumen de mejores configuraciones"
   ]
  },
  {
   "cell_type": "markdown",
   "metadata": {},
   "source": [
    "### Pesos capas no FC: precicion = 4, parte entera = 0.  \n",
    "### Pesos capas FC: precicion = 3, parte entera = 0.\n",
    "### Activaciones:    precicion = 3, parte entera = 3."
   ]
  },
  {
   "cell_type": "code",
   "execution_count": 73,
   "metadata": {},
   "outputs": [
    {
     "name": "stdout",
     "output_type": "stream",
     "text": [
      "10000/10000 [==============================] - 33s 3ms/step - loss: 0.6558 - accuracy: 0.8757\n"
     ]
    },
    {
     "data": {
      "text/plain": [
       "[0.655784740304947, 0.8757]"
      ]
     },
     "execution_count": 73,
     "metadata": {},
     "output_type": "execute_result"
    }
   ],
   "source": [
    "QLenet.evaluate(test_dataset)"
   ]
  },
  {
   "cell_type": "markdown",
   "metadata": {},
   "source": [
    "### Pesos capas no FC: precicion = 4, parte entera = 0.  \n",
    "### Pesos capas FC: precicion = 4, parte entera = 0.\n",
    "### Activaciones:    precicion = 4, parte entera = 3."
   ]
  },
  {
   "cell_type": "code",
   "execution_count": 78,
   "metadata": {},
   "outputs": [
    {
     "name": "stdout",
     "output_type": "stream",
     "text": [
      "10000/10000 [==============================] - 33s 3ms/step - loss: 0.5225 - accuracy: 0.8826\n"
     ]
    },
    {
     "data": {
      "text/plain": [
       "[0.5225470440737905, 0.8826]"
      ]
     },
     "execution_count": 78,
     "metadata": {},
     "output_type": "execute_result"
    }
   ],
   "source": [
    "QLenet.evaluate(test_dataset)"
   ]
  },
  {
   "cell_type": "markdown",
   "metadata": {},
   "source": [
    "## Comparative Plot"
   ]
  },
  {
   "cell_type": "code",
   "execution_count": 12,
   "metadata": {},
   "outputs": [
    {
     "data": {
      "image/png": "[encoded data removed]",
      "text/plain": [
       "<Figure size 1080x360 with 2 Axes>"
      ]
     },
     "metadata": {
      "needs_background": "light"
     },
     "output_type": "display_data"
    }
   ],
   "source": [
    "import matplotlib.pyplot as plt\n",
    "\n",
    "fig, axs = plt.subplots(1,2,figsize=(15,5))\n",
    "fig.suptitle('Lenet 5 Quantization Experiment 1',fontsize=20)\n",
    "\n",
    "Acc  = [0.4099, 0.8493, 0.8729, 0.8827]\n",
    "Qbits = [1, 2, 3, 4]\n",
    "\n",
    "axs[0].set_xticks(Qbits)\n",
    "axs[0].set_ylim([0, 1])\n",
    "axs[0].set_xlabel('Number of Quantization bits for the fractional part of layers and weights')\n",
    "axs[0].set_ylabel('Accuracy',fontsize=14)\n",
    "axs[0].axhline(y=0.8883, color='r', linestyle='-')\n",
    "axs[0].plot(Qbits,Acc, color = 'b', linestyle='-')\n",
    "axs[0].legend(('Original Model','Quantized Model'))\n",
    "\n",
    "Loss = [7.602550701546669, 1.1184957627177239, 0.6948502577155831, 0.5428545123860242]\n",
    "\n",
    "axs[1].set_xticks(Qbits)\n",
    "axs[1].set_ylim([0, 8])\n",
    "axs[1].set_xlabel('Number of Quantization bits for the fractional part of layers and weights')\n",
    "axs[1].set_ylabel('Loss',fontsize=14)\n",
    "axs[1].axhline(y=0.3196016080860579, color='r', linestyle='-')\n",
    "axs[1].plot(Qbits,Loss, color = 'b', linestyle='-')\n",
    "axs[1].legend(('Original Model','Quantized Model'))\n",
    "\n",
    "fig.savefig('Figuras/Experimentos_Cuantizacion/Lenet 5 Quantization Experiment 1.png')"
   ]
  },
  {
   "cell_type": "code",
   "execution_count": 13,
   "metadata": {},
   "outputs": [
    {
     "data": {
      "image/png": "[encoded data removed]",
      "text/plain": [
       "<Figure size 1080x360 with 2 Axes>"
      ]
     },
     "metadata": {
      "needs_background": "light"
     },
     "output_type": "display_data"
    }
   ],
   "source": [
    "fig, axs = plt.subplots(1,2,figsize=(15,5))\n",
    "fig.suptitle('Lenet 5 Quantization Experiment 2',fontsize=20)\n",
    "\n",
    "Acc  = [0.8592, 0.8761, 0.8827]\n",
    "Qbits = [2, 3, 4]\n",
    "\n",
    "axs[0].set_xticks(Qbits)\n",
    "axs[0].set_ylim([0, 1])\n",
    "axs[0].set_xlabel('Number of Quantization bits for the fractional part of weights')\n",
    "axs[0].set_ylabel('Accuracy',fontsize=14)\n",
    "axs[0].axhline(y=0.8883, color='r', linestyle='-')\n",
    "axs[0].plot(Qbits,Acc, color = 'b', linestyle='-')\n",
    "axs[0].legend(('Original Model','Quantized Model'))\n",
    "\n",
    "Loss = [0.6065071309164168, 0.5130198137916626, 0.5428545123860242]\n",
    "\n",
    "axs[1].set_xticks(Qbits)\n",
    "axs[1].set_ylim([0, 8])\n",
    "axs[1].set_xlabel('Number of Quantization bits for the fractional part of weights')\n",
    "axs[1].set_ylabel('Loss',fontsize=14)\n",
    "axs[1].axhline(y=0.3196016080860579, color='r', linestyle='-')\n",
    "axs[1].plot(Qbits,Loss, color = 'b', linestyle='-')\n",
    "axs[1].legend(('Original Model','Quantized Model'))\n",
    "\n",
    "fig.savefig('Figuras/Experimentos_Cuantizacion/Lenet 5 Quantization Experiment 2.png')"
   ]
  },
  {
   "cell_type": "code",
   "execution_count": 14,
   "metadata": {},
   "outputs": [
    {
     "data": {
      "image/png": "[encoded data removed]",
      "text/plain": [
       "<Figure size 1080x360 with 2 Axes>"
      ]
     },
     "metadata": {
      "needs_background": "light"
     },
     "output_type": "display_data"
    }
   ],
   "source": [
    "fig, axs = plt.subplots(1,2,figsize=(15,5))\n",
    "fig.suptitle('Lenet 5 Quantization Experiment 3',fontsize=20)\n",
    "\n",
    "Acc  = [0.8731, 0.8793, 0.8827]\n",
    "Qbits = [2, 3, 4]\n",
    "\n",
    "axs[0].set_xticks(Qbits)\n",
    "axs[0].set_ylim([0, 1])\n",
    "axs[0].set_xlabel('Number of Quantization bits for the fractional part of activations')\n",
    "axs[0].set_ylabel('Accuracy',fontsize=14)\n",
    "axs[0].axhline(y=0.8883, color='r', linestyle='-')\n",
    "axs[0].plot(Qbits,Acc, color = 'b', linestyle='-')\n",
    "axs[0].legend(('Original Model','Quantized Model'))\n",
    "\n",
    "Loss = [0.6788031583905222, 0.9722800113618374, 0.5428545123860242]\n",
    "\n",
    "axs[1].set_xticks(Qbits)\n",
    "axs[1].set_ylim([0, 8])\n",
    "axs[1].set_xlabel('Number of Quantization bits for the fractional part of activations')\n",
    "axs[1].set_ylabel('Loss',fontsize=14)\n",
    "axs[1].axhline(y=0.3196016080860579, color='r', linestyle='-')\n",
    "axs[1].plot(Qbits,Loss, color = 'b', linestyle='-')\n",
    "axs[1].legend(('Original Model','Quantized Model'))\n",
    "\n",
    "fig.savefig('Figuras/Experimentos_Cuantizacion/Lenet 5 Quantization Experiment 3.png')"
   ]
  },
  {
   "cell_type": "code",
   "execution_count": 15,
   "metadata": {},
   "outputs": [
    {
     "data": {
      "image/png": "[encoded data removed]",
      "text/plain": [
       "<Figure size 1080x360 with 2 Axes>"
      ]
     },
     "metadata": {
      "needs_background": "light"
     },
     "output_type": "display_data"
    }
   ],
   "source": [
    "fig, axs = plt.subplots(1,2,figsize=(15,5))\n",
    "fig.suptitle('Lenet 5 Quantization Experiment 5',fontsize=20)\n",
    "\n",
    "Acc  = [0.6588, 0.8827, 0.8827]\n",
    "Qbits = [2, 3, 4]\n",
    "\n",
    "axs[0].set_xticks(Qbits)\n",
    "axs[0].set_ylim([0, 1])\n",
    "axs[0].set_xlabel('Number of Quantization bits for the integer part of activations')\n",
    "axs[0].set_ylabel('Accuracy',fontsize=14)\n",
    "axs[0].axhline(y=0.8883, color='r', linestyle='-')\n",
    "axs[0].plot(Qbits,Acc, color = 'b', linestyle='-')\n",
    "axs[0].legend(('Original Model','Quantized Model'))\n",
    "\n",
    "Loss = [0.8234586628906428, 0.5120041680052878, 0.5428545123860242]\n",
    "\n",
    "axs[1].set_xticks(Qbits)\n",
    "axs[1].set_ylim([0, 8])\n",
    "axs[1].set_xlabel('Number of Quantization bits for the integer part of activations')\n",
    "axs[1].set_ylabel('Loss',fontsize=14)\n",
    "axs[1].axhline(y=0.3196016080860579, color='r', linestyle='-')\n",
    "axs[1].plot(Qbits,Loss, color = 'b', linestyle='-')\n",
    "axs[1].legend(('Original Model','Quantized Model'))\n",
    "\n",
    "fig.savefig('Figuras/Experimentos_Cuantizacion/Lenet 5 Quantization Experiment 5.png')"
   ]
  },
  {
   "cell_type": "code",
   "execution_count": null,
   "metadata": {},
   "outputs": [],
   "source": []
  }
 ],
 "metadata": {
  "accelerator": "GPU",
  "colab": {
   "collapsed_sections": [],
   "name": "OverfittingAndCallbacks.ipynb",
   "provenance": []
  },
  "kernelspec": {
   "display_name": "Python 3",
   "language": "python",
   "name": "python3"
  },
  "language_info": {
   "codemirror_mode": {
    "name": "ipython",
    "version": 3
   },
   "file_extension": ".py",
   "mimetype": "text/x-python",
   "name": "python",
   "nbconvert_exporter": "python",
   "pygments_lexer": "ipython3",
   "version": "3.7.9"
  }
 },
 "nbformat": 4,
 "nbformat_minor": 1
}
