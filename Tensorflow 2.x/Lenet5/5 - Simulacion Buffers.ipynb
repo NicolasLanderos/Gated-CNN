{
 "cells": [
  {
   "cell_type": "code",
   "execution_count": 2,
   "metadata": {},
   "outputs": [],
   "source": [
    "import tensorflow as tf\n",
    "import tensorflow_datasets as tfds\n",
    "import numpy as np\n",
    "import os\n",
    "import sys\n",
    "from fxpmath import Fxp"
   ]
  },
  {
   "cell_type": "code",
   "execution_count": 3,
   "metadata": {},
   "outputs": [],
   "source": [
    "dir_current = os.path.abspath('')\n",
    "dir_parent  = os.path.dirname(dir_current)\n",
    "if not dir_parent in sys.path: sys.path.append(dir_parent)"
   ]
  },
  {
   "cell_type": "markdown",
   "metadata": {},
   "source": [
    "## Parametros de Simulacion"
   ]
  },
  {
   "cell_type": "code",
   "execution_count": 4,
   "metadata": {},
   "outputs": [],
   "source": [
    "#Parametros de Cuantizacion\n",
    "bits_activaciones      = 12\n",
    "precision_activaciones = 6\n",
    "bits_pesos_conv        = 12\n",
    "precision_pesos_conv   = 8\n",
    "bits_pesos_fc          = 6\n",
    "precision_pesos_fc     = 6\n",
    "\n",
    "# Parametros de buffer input/output\n",
    "Malpc = 12    #Maximo de activaciones leidas en un ciclo\n",
    "Maepc = 12    #Maximo de activaciones escritas en un ciclo\n",
    "bits_lectura_input    = Malpc*bits_activaciones\n",
    "bits_escritura_output = Maepc*bits_activaciones\n",
    "\n",
    "#Parametros de la matriz de dsp slices.\n",
    "filas      = Malpc\n",
    "dsp_slices = 720\n",
    "columnas   = dsp_slices/filas\n",
    "\n",
    "#Parametros de Buffers de pesos\n",
    "Mpclpc = 24   # Maximo de pesos convolucionales leidos en un ciclo\n",
    "Mpflpc = 48   # Maximo de pesos full conectados leidos en un ciclo\n",
    "bits_lectura_pesos_conv  = Mpclpc*bits_pesos_conv\n",
    "bits_lectura_pesos_fc    = Mpflpc*bits_pesos_fc\n",
    "\n",
    "#Tamaño del buffer\n",
    "IOBuffer_size = 4704*bits_activaciones"
   ]
  },
  {
   "cell_type": "markdown",
   "metadata": {},
   "source": [
    "## Carga del modelo y sus pesos"
   ]
  },
  {
   "cell_type": "code",
   "execution_count": 5,
   "metadata": {},
   "outputs": [],
   "source": [
    "from models import Lenet_body\n",
    "from models import Weight_Quantization\n",
    "\n",
    "# Creacion de la red\n",
    "Qinput_layer  = tf.keras.Input((28, 28, 1))\n",
    "Qoutput_layer = Lenet_body(Qinput_layer, Quantization = True, word_size = bits_activaciones, frac_size = precision_activaciones)\n",
    "QLenet = tf.keras.Model(inputs=Qinput_layer, outputs=Qoutput_layer)\n",
    "\n",
    "# Carga de los pesos\n",
    "cwd = os.getcwd()\n",
    "Wgt_dir = os.path.join(cwd,'TrainedWeights')\n",
    "Wgt_dir = os.path.join(Wgt_dir,'Weights')\n",
    "QLenet.load_weights(Wgt_dir)\n",
    "\n",
    "# Cuantizacion de los pesos\n",
    "Weight_Quantization(model = QLenet, \n",
    "                    Frac_Bits = precision_pesos_conv, Int_Bits = (bits_pesos_conv-precision_pesos_conv-1),\n",
    "                    Dense_Frac_Bits = precision_pesos_fc, Dense_Int_Bits = (bits_pesos_fc-precision_pesos_fc-1))"
   ]
  },
  {
   "cell_type": "markdown",
   "metadata": {},
   "source": [
    "## Carga del dataset"
   ]
  },
  {
   "cell_type": "code",
   "execution_count": 6,
   "metadata": {},
   "outputs": [],
   "source": [
    "from models import Quantization_layer\n",
    "# Carga\n",
    "(_, _), (x_test, y_test) = tf.keras.datasets.fashion_mnist.load_data()\n",
    "# Normalizacion\n",
    "x_test = x_test/255.0\n",
    "# Cuantizacion\n",
    "x_test = Quantization_layer(x_test)\n",
    "# Expandiendo la dimensionalidad de 28x28 a 28x28x1 (Numero de canales)\n",
    "x_test = tf.expand_dims(x_test,axis=-1)\n",
    "# Conversion en dataset\n",
    "test_dataset = tf.data.Dataset.from_tensor_slices(x_test)"
   ]
  },
  {
   "cell_type": "markdown",
   "metadata": {},
   "source": [
    "## Simulacion"
   ]
  },
  {
   "cell_type": "code",
   "execution_count": 25,
   "metadata": {},
   "outputs": [
    {
     "name": "stdout",
     "output_type": "stream",
     "text": [
      "Tiempo de simulacion: 1028.0153663158417\n"
     ]
    }
   ],
   "source": [
    "# Bufferes\n",
    "IOBuffer_1 = np.zeros(IOBuffer_size,dtype=int)\n",
    "IOBuffer_2 = np.zeros(IOBuffer_size,dtype=int)\n",
    "\n",
    "# Diccionario de estadisticas de los buffers\n",
    "stats_IOBuffer_1 = {\"ultimo_valor\"    : np.zeros(IOBuffer_size,dtype=int),\n",
    "                    \"ciclos_1\"        : np.zeros(IOBuffer_size,dtype=int),\n",
    "                    \"cambios_logicos\" :np.zeros(IOBuffer_size,dtype=int)}\n",
    "stats_IOBuffer_2 = {\"ultimo_valor\"    : np.zeros(IOBuffer_size,dtype=int),\n",
    "                    \"ciclos_1\"        : np.zeros(IOBuffer_size,dtype=int),\n",
    "                    \"cambios_logicos\" :np.zeros(IOBuffer_size,dtype=int)}\n",
    "\n",
    "import simulation\n",
    "import time\n",
    "from functions import save_obj, load_obj, Load_Image\n",
    "\n",
    "# Variables de simulacion\n",
    "simulation.Malpc            = Malpc\n",
    "simulation.Maepc            = Maepc\n",
    "simulation.Mpclpc           = Mpclpc\n",
    "simulation.Mpflpc           = Mpflpc\n",
    "simulation.filas            = filas\n",
    "simulation.columnas         = columnas\n",
    "simulation.Word_bits        = bits_activaciones\n",
    "simulation.Frac_bits        = precision_activaciones\n",
    "simulation.QLenet           = QLenet\n",
    "simulation.IOBuffer_1       = IOBuffer_1\n",
    "simulation.stats_IOBuffer_1 = stats_IOBuffer_1\n",
    "simulation.IOBuffer_2       = IOBuffer_2\n",
    "simulation.stats_IOBuffer_2 = stats_IOBuffer_2\n",
    "\n",
    "\n",
    "iterator   = iter(test_dataset)\n",
    "ciclos     = 0\n",
    "index      = 0\n",
    "batch_size = 512\n",
    "t = time.time()\n",
    "while index < batch_size:\n",
    "    image = next(iterator)\n",
    "    Load_Image(IOBuffer_1,image, Word_bits = bits_activaciones, Frac_bits = precision_activaciones)\n",
    "    ciclos += simulation.Lenet_Simulation(image)\n",
    "    index = index + 1\n",
    "save_obj(stats_IOBuffer_1,'stats_B1')\n",
    "save_obj(stats_IOBuffer_2,'stats_B2')\n",
    "print('Tiempo de simulacion:',time.time()-t)\n",
    "save_obj(ciclos,'numero_de_ciclos')\n"
   ]
  },
  {
   "cell_type": "code",
   "execution_count": 26,
   "metadata": {},
   "outputs": [
    {
     "name": "stdout",
     "output_type": "stream",
     "text": [
      "Total de ciclos utilizados: 1259520\n"
     ]
    }
   ],
   "source": [
    "ciclos = load_obj('numero_de_ciclos')\n",
    "print('Total de ciclos utilizados:',ciclos)\n",
    "stats_IOBuffer_1 = load_obj('stats_B1')\n",
    "stats_IOBuffer_2 = load_obj('stats_B2')"
   ]
  },
  {
   "cell_type": "markdown",
   "metadata": {},
   "source": [
    "#  Estadisticas buffer 1"
   ]
  }
 ],
 "metadata": {
  "kernelspec": {
   "display_name": "Python 3",
   "language": "python",
   "name": "python3"
  },
  "language_info": {
   "codemirror_mode": {
    "name": "ipython",
    "version": 3
   },
   "file_extension": ".py",
   "mimetype": "text/x-python",
   "name": "python",
   "nbconvert_exporter": "python",
   "pygments_lexer": "ipython3",
   "version": "3.7.9"
  }
 },
 "nbformat": 4,
 "nbformat_minor": 4
}
