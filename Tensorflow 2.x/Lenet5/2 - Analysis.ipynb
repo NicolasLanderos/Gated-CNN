{
 "cells": [
  {
   "cell_type": "code",
   "execution_count": 1,
   "metadata": {
    "id": "fZOMjk-2pGPs"
   },
   "outputs": [],
   "source": [
    "import tensorflow as tf\n",
    "import tensorflow_datasets as tfds\n",
    "import numpy as np\n",
    "import os\n",
    "import sys"
   ]
  },
  {
   "cell_type": "code",
   "execution_count": 4,
   "metadata": {},
   "outputs": [],
   "source": [
    "# Path para importacion de funciones\n",
    "dir_current    = os.path.abspath('')\n",
    "dir_parent = os.path.dirname(dir_current)\n",
    "if not dir_parent in sys.path: sys.path.append(dir_parent)"
   ]
  },
  {
   "cell_type": "markdown",
   "metadata": {},
   "source": [
    "## Loading Test Data"
   ]
  },
  {
   "cell_type": "code",
   "execution_count": 2,
   "metadata": {
    "id": "feuqKVkHqQVW"
   },
   "outputs": [],
   "source": [
    "(_, _), (x_test, y_test) = tf.keras.datasets.fashion_mnist.load_data()\n",
    "# Normalizando\n",
    "x_test = x_test/255.\n",
    "# Expandiendo dimensiones desde (28x28) a (28x28x1)\n",
    "x_test = tf.expand_dims(x_test, -1)"
   ]
  },
  {
   "cell_type": "markdown",
   "metadata": {},
   "source": [
    "## Creating Dataset Objects"
   ]
  },
  {
   "cell_type": "code",
   "execution_count": 5,
   "metadata": {
    "id": "Z9YPFldhqV5K"
   },
   "outputs": [],
   "source": [
    "from functions import to_categorical\n",
    "\n",
    "test_dataset = tf.data.Dataset.from_tensor_slices((x_test, y_test))\n",
    "test_dataset = test_dataset.map(to_categorical)\n",
    "test_dataset = test_dataset.batch(1)"
   ]
  },
  {
   "cell_type": "markdown",
   "metadata": {},
   "source": [
    "## Loading Quantized model and Non Quantized model "
   ]
  },
  {
   "cell_type": "code",
   "execution_count": 6,
   "metadata": {},
   "outputs": [],
   "source": [
    "from models import Lenet_body\n",
    "\n",
    "input_layer   = tf.keras.Input((28, 28, 1))\n",
    "output_layer  = Lenet_body(input_layer, Quantization = False)\n",
    "\n",
    "#For this example we using 3 bits of precision.\n",
    "Qinput_layer  = tf.keras.Input((28, 28, 1))\n",
    "Qoutput_layer = Lenet_body(Qinput_layer, Quantization = True, word_size = 12, frac_size = 3)\n",
    "\n",
    "Lenet  = tf.keras.Model(inputs=input_layer, outputs=output_layer)\n",
    "QLenet = tf.keras.Model(inputs=Qinput_layer, outputs=Qoutput_layer)"
   ]
  },
  {
   "cell_type": "markdown",
   "metadata": {},
   "source": [
    "## Loading Pretrained Weights"
   ]
  },
  {
   "cell_type": "code",
   "execution_count": 7,
   "metadata": {
    "id": "-Q8qN9xeqzm7"
   },
   "outputs": [
    {
     "data": {
      "text/plain": [
       "<tensorflow.python.training.tracking.util.CheckpointLoadStatus at 0x26680659c08>"
      ]
     },
     "execution_count": 7,
     "metadata": {},
     "output_type": "execute_result"
    }
   ],
   "source": [
    "cwd = os.getcwd()\n",
    "Wgt_dir = os.path.join(cwd,'TrainedWeights')\n",
    "Wgt_dir = os.path.join(Wgt_dir,'Weights')\n",
    "\n",
    "Lenet.load_weights(Wgt_dir)\n",
    "QLenet.load_weights(Wgt_dir)"
   ]
  },
  {
   "cell_type": "markdown",
   "metadata": {},
   "source": [
    "## Quantize Weights"
   ]
  },
  {
   "cell_type": "code",
   "execution_count": 8,
   "metadata": {},
   "outputs": [],
   "source": [
    "from models import Weight_Quantization\n",
    "Weight_Quantization(model = QLenet, Frac_Bits = 8, Int_Bits = 5)"
   ]
  },
  {
   "cell_type": "markdown",
   "metadata": {},
   "source": [
    "## Checking Model predictions"
   ]
  },
  {
   "cell_type": "code",
   "execution_count": 12,
   "metadata": {},
   "outputs": [],
   "source": [
    "import time\n",
    "import matplotlib.pyplot as plt\n",
    "\n",
    "# Iterator over test Dataset\n",
    "iterator  = iter(test_dataset)"
   ]
  },
  {
   "cell_type": "code",
   "execution_count": 13,
   "metadata": {},
   "outputs": [
    {
     "name": "stdout",
     "output_type": "stream",
     "text": [
      "Target: 9\n",
      "Prediction: 9\n",
      "QPrediction: 9\n"
     ]
    },
    {
     "data": {
      "image/png": "[encoded data removed]",
      "text/plain": [
       "<Figure size 432x288 with 1 Axes>"
      ]
     },
     "metadata": {
      "needs_background": "light"
     },
     "output_type": "display_data"
    }
   ],
   "source": [
    "# Getting new image from iterator\n",
    "image     = next(iterator)\n",
    "image_plt = image[0][0,...,0]\n",
    "\n",
    "# Plotting Test image\n",
    "plt.imshow(image_plt, cmap='gray')\n",
    "\n",
    "# Target\n",
    "tf.print(\"Target:\",np.argmax(image[1]))\n",
    "# Predicted Output\n",
    "print(\"Prediction:\",np.argmax(Lenet.predict(image[0])))\n",
    "# Quantized Predicted Output\n",
    "print(\"QPrediction:\",np.argmax(QLenet.predict(image[0])))"
   ]
  },
  {
   "cell_type": "markdown",
   "metadata": {},
   "source": [
    "## Comparation of Output"
   ]
  },
  {
   "cell_type": "code",
   "execution_count": 14,
   "metadata": {},
   "outputs": [
    {
     "data": {
      "text/plain": [
       "array([[9.4945015e-08, 7.8437586e-07, 4.5743948e-07, 2.4961669e-06,\n",
       "        1.6386039e-06, 1.5448232e-03, 8.7722611e-07, 5.2541746e-03,\n",
       "        1.1379937e-05, 9.9318331e-01]], dtype=float32)"
      ]
     },
     "execution_count": 14,
     "metadata": {},
     "output_type": "execute_result"
    }
   ],
   "source": [
    "Lenet.predict(image[0])"
   ]
  },
  {
   "cell_type": "code",
   "execution_count": 15,
   "metadata": {},
   "outputs": [
    {
     "data": {
      "text/plain": [
       "array([[0., 0., 0., 0., 0., 0., 0., 0., 0., 1.]], dtype=float32)"
      ]
     },
     "execution_count": 15,
     "metadata": {},
     "output_type": "execute_result"
    }
   ],
   "source": [
    "QLenet.predict(image[0])"
   ]
  },
  {
   "cell_type": "markdown",
   "metadata": {},
   "source": [
    "#### Classes\n",
    "\n",
    "0. T-shirt/top\n",
    "1. Trouser\n",
    "2. Pullover\n",
    "3. Dress\n",
    "4. Coat\n",
    "5. Sandal\n",
    "6. Shirt\n",
    "7. Sneaker\n",
    "8. Bag\n",
    "9. Ankle boot"
   ]
  },
  {
   "cell_type": "markdown",
   "metadata": {},
   "source": [
    "## Check the general Accuracy"
   ]
  },
  {
   "cell_type": "code",
   "execution_count": 17,
   "metadata": {},
   "outputs": [],
   "source": [
    "# Optimization params\n",
    "# -------------------\n",
    "\n",
    "# Loss\n",
    "loss = tf.keras.losses.CategoricalCrossentropy()\n",
    "\n",
    "# learning rate\n",
    "lr = 1e-3\n",
    "optimizer = tf.keras.optimizers.Adam(learning_rate=lr)\n",
    "# -------------------\n",
    "\n",
    "# Validation metrics\n",
    "# ------------------\n",
    "\n",
    "metrics = ['accuracy']\n",
    "# ------------------\n",
    "\n",
    "# Compile Model\n",
    "Lenet.compile(optimizer=optimizer, loss=loss, metrics=metrics)\n",
    "QLenet.compile(optimizer=optimizer, loss=loss, metrics=metrics)"
   ]
  },
  {
   "cell_type": "code",
   "execution_count": 20,
   "metadata": {},
   "outputs": [
    {
     "name": "stdout",
     "output_type": "stream",
     "text": [
      "10000/10000 [==============================] - 33s 3ms/step - loss: 0.3196 - accuracy: 0.8883\n"
     ]
    },
    {
     "data": {
      "text/plain": [
       "[0.31960160391857567, 0.8883]"
      ]
     },
     "execution_count": 20,
     "metadata": {},
     "output_type": "execute_result"
    }
   ],
   "source": [
    "Lenet.evaluate(test_dataset)"
   ]
  },
  {
   "cell_type": "code",
   "execution_count": 21,
   "metadata": {},
   "outputs": [
    {
     "name": "stdout",
     "output_type": "stream",
     "text": [
      "10000/10000 [==============================] - 31s 3ms/step - loss: 0.6453 - accuracy: 0.8847\n"
     ]
    },
    {
     "data": {
      "text/plain": [
       "[0.645292562094331, 0.8847]"
      ]
     },
     "execution_count": 21,
     "metadata": {},
     "output_type": "execute_result"
    }
   ],
   "source": [
    "QLenet.evaluate(test_dataset)"
   ]
  },
  {
   "cell_type": "markdown",
   "metadata": {},
   "source": [
    "Notice how even with low precicion of the fractional (3 bits) the network accuracy is almost unaffected."
   ]
  },
  {
   "cell_type": "markdown",
   "metadata": {},
   "source": [
    "## Checking The Output of Each Layer"
   ]
  },
  {
   "cell_type": "code",
   "execution_count": 18,
   "metadata": {},
   "outputs": [],
   "source": [
    "from functions import get_all_outputs\n",
    "# List for layer names.\n",
    "\n",
    "Layer_Names = []\n",
    "for layer in Lenet.layers:\n",
    "    Layer_Names.append(layer.name)\n",
    "\n",
    "QLayer_Names = []\n",
    "for layer in QLenet.layers:\n",
    "    QLayer_Names.append(layer.name)\n",
    "    \n",
    "# Dictionary with layer name -> outputs\n",
    "Layers_Outputs  = dict(zip(Layer_Names, get_all_outputs(Lenet,image[0])))\n",
    "QLayers_Outputs = dict(zip(QLayer_Names, get_all_outputs(QLenet,image[0])))"
   ]
  },
  {
   "cell_type": "markdown",
   "metadata": {},
   "source": [
    "## Testing Max and Min Values of Each Layer for the original model"
   ]
  },
  {
   "cell_type": "code",
   "execution_count": null,
   "metadata": {
    "scrolled": true
   },
   "outputs": [],
   "source": [
    "N_layers  = len(QLenet.layers)\n",
    "iterator  = iter(test_dataset)\n",
    "image     = next(iterator,'Stop')\n",
    "Max_values = [0]*N_layers\n",
    "Min_values = [0]*N_layers\n",
    "while image != 'Stop':\n",
    "    Model_outputs = get_all_outputs(Lenet,image[0])\n",
    "    Max_iteration_values = np.array([np.max(itm) for itm in Model_outputs])\n",
    "    Min_iteration_values = np.array([np.min(itm) for itm in Model_outputs])\n",
    "    Max_values = np.maximum(Max_values, Max_iteration_values)\n",
    "    Min_values = np.minimum(Min_values, Min_iteration_values)\n",
    "    image = next(iterator,'Stop')"
   ]
  },
  {
   "cell_type": "code",
   "execution_count": 273,
   "metadata": {},
   "outputs": [
    {
     "data": {
      "text/plain": [
       "array([ 1.        ,  1.        ,  6.51962948,  6.51962948,  0.99999565,\n",
       "        0.99999565,  0.99997681, 11.36214638, 11.36214638,  1.        ,\n",
       "        1.        ,  0.99999976,  0.99999976, 15.4092989 , 15.4092989 ,\n",
       "        1.        ,  1.        , 10.59511375, 10.59511375,  1.        ,\n",
       "        1.        , 15.80233192, 15.80233192,  0.99999881,  0.99999881])"
      ]
     },
     "execution_count": 273,
     "metadata": {},
     "output_type": "execute_result"
    }
   ],
   "source": [
    "Max_values"
   ]
  },
  {
   "cell_type": "code",
   "execution_count": 274,
   "metadata": {},
   "outputs": [
    {
     "data": {
      "text/plain": [
       "array([  0.        ,   0.        ,  -3.21593666,  -3.21593666,\n",
       "        -0.9967863 ,  -0.9967863 ,  -0.99342388, -12.16223907,\n",
       "       -12.16223907,  -1.        ,  -1.        ,  -0.99999869,\n",
       "        -0.99999869, -15.66343212, -15.66343212,  -1.        ,\n",
       "        -1.        , -11.51284122, -11.51284122,  -1.        ,\n",
       "        -1.        , -11.09358406, -11.09358406,   0.        ,\n",
       "         0.        ])"
      ]
     },
     "execution_count": 274,
     "metadata": {},
     "output_type": "execute_result"
    }
   ],
   "source": [
    "Min_values"
   ]
  },
  {
   "cell_type": "markdown",
   "metadata": {},
   "source": [
    "## Checking Max and Min values of Weights"
   ]
  },
  {
   "cell_type": "code",
   "execution_count": 9,
   "metadata": {},
   "outputs": [
    {
     "name": "stdout",
     "output_type": "stream",
     "text": [
      "1.6256596\n",
      "0.21230586\n",
      "0.9251389\n",
      "0.18390743\n",
      "0.62760293\n",
      "0.24772961\n",
      "0.54453754\n",
      "0.20400645\n",
      "0.72902125\n",
      "0.05587189\n"
     ]
    }
   ],
   "source": [
    "for itm in Lenet.get_weights():\n",
    "    print(np.max(itm))"
   ]
  },
  {
   "cell_type": "code",
   "execution_count": 10,
   "metadata": {},
   "outputs": [
    {
     "name": "stdout",
     "output_type": "stream",
     "text": [
      "-0.58532584\n",
      "-0.2912165\n",
      "-0.80219436\n",
      "-0.19225334\n",
      "-0.9469629\n",
      "-0.23552617\n",
      "-0.6235763\n",
      "-0.22716506\n",
      "-0.6461236\n",
      "-0.07768464\n"
     ]
    }
   ],
   "source": [
    "for itm in Lenet.get_weights():\n",
    "    print(np.min(itm))"
   ]
  }
 ],
 "metadata": {
  "accelerator": "GPU",
  "colab": {
   "collapsed_sections": [],
   "name": "OverfittingAndCallbacks.ipynb",
   "provenance": []
  },
  "kernelspec": {
   "display_name": "Python 3",
   "language": "python",
   "name": "python3"
  },
  "language_info": {
   "codemirror_mode": {
    "name": "ipython",
    "version": 3
   },
   "file_extension": ".py",
   "mimetype": "text/x-python",
   "name": "python",
   "nbconvert_exporter": "python",
   "pygments_lexer": "ipython3",
   "version": "3.7.9"
  }
 },
 "nbformat": 4,
 "nbformat_minor": 1
}
