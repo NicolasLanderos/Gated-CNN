{
 "cells": [
  {
   "cell_type": "code",
   "execution_count": 1,
   "metadata": {
    "id": "fZOMjk-2pGPs"
   },
   "outputs": [],
   "source": [
    "import tensorflow as tf\n",
    "import numpy as np\n",
    "import os\n",
    "import sys"
   ]
  },
  {
   "cell_type": "code",
   "execution_count": 2,
   "metadata": {},
   "outputs": [],
   "source": [
    "# Path para importacion de funciones\n",
    "dir_actual    = os.path.abspath('')\n",
    "dir_parent = os.path.dirname(dir_actual)\n",
    "if not dir_parent in sys.path: sys.path.append(dir_parent)"
   ]
  },
  {
   "cell_type": "markdown",
   "metadata": {},
   "source": [
    "## Loading CIFAR10 Data"
   ]
  },
  {
   "cell_type": "code",
   "execution_count": 3,
   "metadata": {
    "id": "feuqKVkHqQVW"
   },
   "outputs": [],
   "source": [
    "(_, _), (x_test, y_test) = tf.keras.datasets.cifar10.load_data()\n",
    "# Normalizando\n",
    "x_test = x_test/255.\n",
    "# Reducing Target innecessary dimension\n",
    "y_test  = np.squeeze(y_test)"
   ]
  },
  {
   "cell_type": "markdown",
   "metadata": {},
   "source": [
    "## Creating Dataset Objects"
   ]
  },
  {
   "cell_type": "code",
   "execution_count": 4,
   "metadata": {
    "id": "Z9YPFldhqV5K"
   },
   "outputs": [],
   "source": [
    "from functions import to_categorical, VGG_resize\n",
    "\n",
    "test_dataset = tf.data.Dataset.from_tensor_slices((x_test, y_test))\n",
    "test_dataset = test_dataset.map(to_categorical)\n",
    "test_dataset = test_dataset.map(VGG_resize)\n",
    "test_dataset = test_dataset.batch(1)"
   ]
  },
  {
   "cell_type": "markdown",
   "metadata": {},
   "source": [
    "## Loading Quantized model and Non Quantized model "
   ]
  },
  {
   "cell_type": "markdown",
   "metadata": {},
   "source": [
    "En base al resultado del ultimo item del cuaderno \"VGG Analysis\" las entradas/salidas de las capas tienen valores que varian entre -27 y 44.03, Salvo la ultima capa densa, las activaciones de todas las demas capas estan contenidas en valores bajos (magnitud menor a 5)"
   ]
  },
  {
   "cell_type": "code",
   "execution_count": 5,
   "metadata": {},
   "outputs": [],
   "source": [
    "from models import VGG16_body\n",
    "\n",
    "input_layer   = tf.keras.Input((224,224,3))\n",
    "output_layer  = VGG16_body(input_layer, Quantization = False)\n",
    "\n",
    "Frac_Bits = 6\n",
    "Int_Bits  = 5\n",
    "\n",
    "Qinput_layer  = tf.keras.Input((224,224,3))\n",
    "Qoutput_layer = VGG16_body(Qinput_layer, Quantization = True, word_size = (Frac_Bits+Int_Bits+1), frac_size = Frac_Bits)\n",
    "\n",
    "VGG16  = tf.keras.Model(inputs=input_layer, outputs=output_layer)\n",
    "QVGG16 = tf.keras.Model(inputs=Qinput_layer, outputs=Qoutput_layer)"
   ]
  },
  {
   "cell_type": "markdown",
   "metadata": {},
   "source": [
    "## Loading Pretrained Weights"
   ]
  },
  {
   "cell_type": "code",
   "execution_count": 6,
   "metadata": {
    "id": "-Q8qN9xeqzm7"
   },
   "outputs": [
    {
     "data": {
      "text/plain": [
       "<tensorflow.python.training.tracking.util.CheckpointLoadStatus at 0x1c9cec00f48>"
      ]
     },
     "execution_count": 6,
     "metadata": {},
     "output_type": "execute_result"
    }
   ],
   "source": [
    "# Loading Wieghts\n",
    "cwd = os.getcwd()\n",
    "Wgt_dir = os.path.join(cwd,'TrainedWeights')\n",
    "Wgt_dir = os.path.join(Wgt_dir,'Weights')\n",
    "\n",
    "VGG16.load_weights(Wgt_dir)\n",
    "QVGG16.load_weights(Wgt_dir)"
   ]
  },
  {
   "cell_type": "markdown",
   "metadata": {},
   "source": [
    "## Quantize weights"
   ]
  },
  {
   "cell_type": "markdown",
   "metadata": {},
   "source": [
    "En base al resultado del ultimo item del cuaderno \"VGG Analysis\" los pesos valores que varian entre -0.1 y 0.1.\n",
    "\n",
    "Considerando un bit para el signo, se necesitan al menos 0 bits para la parte entera, se medirá el accuracy de modelos en funcion del numero de bits destinados a la parte fraccionaria."
   ]
  },
  {
   "cell_type": "code",
   "execution_count": 7,
   "metadata": {},
   "outputs": [],
   "source": [
    "from models import Weight_Quantization\n",
    "Weight_Quantization(model = QVGG16, Frac_Bits = 8, Int_Bits = 5)"
   ]
  },
  {
   "cell_type": "markdown",
   "metadata": {},
   "source": [
    "## Check the general Accuracy"
   ]
  },
  {
   "cell_type": "code",
   "execution_count": 8,
   "metadata": {},
   "outputs": [],
   "source": [
    "# Optimization params\n",
    "# -------------------\n",
    "\n",
    "# Loss\n",
    "loss = tf.keras.losses.CategoricalCrossentropy()\n",
    "\n",
    "# learning rate\n",
    "lr = 1e-3\n",
    "optimizer = tf.keras.optimizers.Adam(learning_rate=lr)\n",
    "# -------------------\n",
    "\n",
    "# Validation metrics\n",
    "# ------------------\n",
    "\n",
    "metrics = ['accuracy']\n",
    "# ------------------\n",
    "\n",
    "# Compile Model\n",
    "#VGG16.compile(optimizer=optimizer, loss=loss, metrics=metrics)\n",
    "QVGG16.compile(optimizer=optimizer, loss=loss, metrics=metrics)"
   ]
  },
  {
   "cell_type": "markdown",
   "metadata": {},
   "source": [
    "## desempeño del modelo original"
   ]
  },
  {
   "cell_type": "code",
   "execution_count": 13,
   "metadata": {},
   "outputs": [
    {
     "name": "stdout",
     "output_type": "stream",
     "text": [
      "10000/10000 [==============================] - 143s 14ms/step - loss: 0.8012 - accuracy: 0.7349\n"
     ]
    },
    {
     "data": {
      "text/plain": [
       "[0.8012385264062973, 0.7349]"
      ]
     },
     "execution_count": 13,
     "metadata": {},
     "output_type": "execute_result"
    }
   ],
   "source": [
    "VGG16.evaluate(test_dataset)"
   ]
  },
  {
   "cell_type": "markdown",
   "metadata": {},
   "source": [
    "# Experimento 1: Cuantizacion homogenea, sin saturacion"
   ]
  },
  {
   "cell_type": "markdown",
   "metadata": {},
   "source": [
    "### 4 bits de precision para pesos && 4 bits de precision para activaciones"
   ]
  },
  {
   "cell_type": "code",
   "execution_count": 17,
   "metadata": {
    "scrolled": true
   },
   "outputs": [
    {
     "name": "stdout",
     "output_type": "stream",
     "text": [
      "10000/10000 [==============================] - 176s 18ms/step - loss: 2.3026 - accuracy: 0.1000\n"
     ]
    },
    {
     "data": {
      "text/plain": [
       "[2.3025851249694824, 0.1]"
      ]
     },
     "execution_count": 17,
     "metadata": {},
     "output_type": "execute_result"
    }
   ],
   "source": [
    "QVGG16.evaluate(test_dataset)"
   ]
  },
  {
   "cell_type": "markdown",
   "metadata": {},
   "source": [
    "### 5 bits de precision para pesos && 5 bits de precision para activaciones"
   ]
  },
  {
   "cell_type": "code",
   "execution_count": 10,
   "metadata": {
    "scrolled": true
   },
   "outputs": [
    {
     "name": "stdout",
     "output_type": "stream",
     "text": [
      "10000/10000 [==============================] - 173s 17ms/step - loss: 1.6283 - accuracy: 0.6467\n"
     ]
    },
    {
     "data": {
      "text/plain": [
       "[1.6282763871062547, 0.6467]"
      ]
     },
     "execution_count": 10,
     "metadata": {},
     "output_type": "execute_result"
    }
   ],
   "source": [
    "QVGG16.evaluate(test_dataset)"
   ]
  },
  {
   "cell_type": "markdown",
   "metadata": {},
   "source": [
    "### 6 bits de precision para pesos && 6 bits de precision para activaciones"
   ]
  },
  {
   "cell_type": "code",
   "execution_count": 15,
   "metadata": {},
   "outputs": [
    {
     "name": "stdout",
     "output_type": "stream",
     "text": [
      "10000/10000 [==============================] - 176s 18ms/step - loss: 1.0620 - accuracy: 0.7302\n"
     ]
    },
    {
     "data": {
      "text/plain": [
       "[1.061964491548948, 0.7302]"
      ]
     },
     "execution_count": 15,
     "metadata": {},
     "output_type": "execute_result"
    }
   ],
   "source": [
    "QVGG16.evaluate(test_dataset)"
   ]
  },
  {
   "cell_type": "markdown",
   "metadata": {},
   "source": [
    "5 bits son necesarios para un buen resultado, con 6 se alcanza los resultados del modelo original, con 4 bits o menos es practicamente un clasificador aleatorio"
   ]
  },
  {
   "cell_type": "markdown",
   "metadata": {},
   "source": [
    "# Experimento 2: Variacion de precision en los pesos, precision fija de activaciones (6 bits), sin saturacion"
   ]
  },
  {
   "cell_type": "markdown",
   "metadata": {},
   "source": [
    "### 5 bits de precision para los pesos"
   ]
  },
  {
   "cell_type": "code",
   "execution_count": 19,
   "metadata": {},
   "outputs": [
    {
     "name": "stdout",
     "output_type": "stream",
     "text": [
      "10000/10000 [==============================] - 192s 19ms/step - loss: 1.3600 - accuracy: 0.6517\n"
     ]
    },
    {
     "data": {
      "text/plain": [
       "[1.359971114255674, 0.6517]"
      ]
     },
     "execution_count": 19,
     "metadata": {},
     "output_type": "execute_result"
    }
   ],
   "source": [
    "QVGG16.evaluate(test_dataset)"
   ]
  },
  {
   "cell_type": "markdown",
   "metadata": {},
   "source": [
    "### 4 bits de precision para los pesos"
   ]
  },
  {
   "cell_type": "code",
   "execution_count": 24,
   "metadata": {
    "scrolled": true
   },
   "outputs": [
    {
     "name": "stdout",
     "output_type": "stream",
     "text": [
      "10000/10000 [==============================] - 194s 19ms/step - loss: 2.2877 - accuracy: 0.1683\n"
     ]
    },
    {
     "data": {
      "text/plain": [
       "[2.2877005631923675, 0.1683]"
      ]
     },
     "execution_count": 24,
     "metadata": {},
     "output_type": "execute_result"
    }
   ],
   "source": [
    "QVGG16.evaluate(test_dataset)"
   ]
  },
  {
   "cell_type": "markdown",
   "metadata": {},
   "source": [
    "# Experimento 3: Variacion de precision en las activaciones, precision fija de pesos (6 bits), sin saturacion"
   ]
  },
  {
   "cell_type": "markdown",
   "metadata": {},
   "source": [
    "### 5 bits de precision para las activaciones"
   ]
  },
  {
   "cell_type": "code",
   "execution_count": 10,
   "metadata": {},
   "outputs": [
    {
     "name": "stdout",
     "output_type": "stream",
     "text": [
      "10000/10000 [==============================] - 194s 19ms/step - loss: 1.3297 - accuracy: 0.7154\n"
     ]
    },
    {
     "data": {
      "text/plain": [
       "[1.3296991717003286, 0.7154]"
      ]
     },
     "execution_count": 10,
     "metadata": {},
     "output_type": "execute_result"
    }
   ],
   "source": [
    "QVGG16.evaluate(test_dataset)"
   ]
  },
  {
   "cell_type": "markdown",
   "metadata": {},
   "source": [
    "### 4 bits de precision para las activaciones"
   ]
  },
  {
   "cell_type": "code",
   "execution_count": 15,
   "metadata": {},
   "outputs": [
    {
     "name": "stdout",
     "output_type": "stream",
     "text": [
      "10000/10000 [==============================] - 196s 20ms/step - loss: 2.0214 - accuracy: 0.6696\n"
     ]
    },
    {
     "data": {
      "text/plain": [
       "[2.0214044406071303, 0.6696]"
      ]
     },
     "execution_count": 15,
     "metadata": {},
     "output_type": "execute_result"
    }
   ],
   "source": [
    "QVGG16.evaluate(test_dataset)"
   ]
  },
  {
   "cell_type": "markdown",
   "metadata": {},
   "source": [
    "# Experimento 4: Variacion en el numero de bits para la parte entera de las activaciones (precision de 6 bits tanto para pesos como activaciones)"
   ]
  },
  {
   "cell_type": "markdown",
   "metadata": {},
   "source": [
    "### 5 bits de precision para la parte entera de las activaciones"
   ]
  },
  {
   "cell_type": "code",
   "execution_count": 25,
   "metadata": {},
   "outputs": [
    {
     "name": "stdout",
     "output_type": "stream",
     "text": [
      "10000/10000 [==============================] - 193s 19ms/step - loss: 1.0620 - accuracy: 0.7302\n"
     ]
    },
    {
     "data": {
      "text/plain": [
       "[1.061964491548948, 0.7302]"
      ]
     },
     "execution_count": 25,
     "metadata": {},
     "output_type": "execute_result"
    }
   ],
   "source": [
    "QVGG16.evaluate(test_dataset)"
   ]
  },
  {
   "cell_type": "markdown",
   "metadata": {},
   "source": [
    "### 4 bits de precision para la parte entera de las activaciones"
   ]
  },
  {
   "cell_type": "code",
   "execution_count": 10,
   "metadata": {},
   "outputs": [
    {
     "name": "stdout",
     "output_type": "stream",
     "text": [
      "10000/10000 [==============================] - 198s 20ms/step - loss: 1.0616 - accuracy: 0.7301\n"
     ]
    },
    {
     "data": {
      "text/plain": [
       "[1.0615878112137318, 0.7301]"
      ]
     },
     "execution_count": 10,
     "metadata": {},
     "output_type": "execute_result"
    }
   ],
   "source": [
    "QVGG16.evaluate(test_dataset)"
   ]
  },
  {
   "cell_type": "markdown",
   "metadata": {},
   "source": [
    "### 3 bits de precision para la parte entera de las activaciones"
   ]
  },
  {
   "cell_type": "code",
   "execution_count": 15,
   "metadata": {},
   "outputs": [
    {
     "name": "stdout",
     "output_type": "stream",
     "text": [
      "10000/10000 [==============================] - 193s 19ms/step - loss: 1.0584 - accuracy: 0.7168\n"
     ]
    },
    {
     "data": {
      "text/plain": [
       "[1.0583813532166182, 0.7168]"
      ]
     },
     "execution_count": 15,
     "metadata": {},
     "output_type": "execute_result"
    }
   ],
   "source": [
    "QVGG16.evaluate(test_dataset)"
   ]
  },
  {
   "cell_type": "markdown",
   "metadata": {},
   "source": [
    "### 2 bits de precision para la parte entera de las activaciones"
   ]
  },
  {
   "cell_type": "code",
   "execution_count": 20,
   "metadata": {},
   "outputs": [
    {
     "name": "stdout",
     "output_type": "stream",
     "text": [
      "10000/10000 [==============================] - 193s 19ms/step - loss: 1.0659 - accuracy: 0.6122\n"
     ]
    },
    {
     "data": {
      "text/plain": [
       "[1.0659365747720002, 0.6122]"
      ]
     },
     "execution_count": 20,
     "metadata": {},
     "output_type": "execute_result"
    }
   ],
   "source": [
    "QVGG16.evaluate(test_dataset)"
   ]
  },
  {
   "cell_type": "markdown",
   "metadata": {},
   "source": [
    "# Experimento 5: Variacion en el numero de bits para la parte fraccionaria de los pesos en capas FC (precision de 6 bits tanto para pesos como activaciones)"
   ]
  },
  {
   "cell_type": "markdown",
   "metadata": {},
   "source": [
    "### 5 bits de precision para capas FC."
   ]
  },
  {
   "cell_type": "code",
   "execution_count": 25,
   "metadata": {},
   "outputs": [
    {
     "name": "stdout",
     "output_type": "stream",
     "text": [
      "10000/10000 [==============================] - 193s 19ms/step - loss: 1.0716 - accuracy: 0.7229\n"
     ]
    },
    {
     "data": {
      "text/plain": [
       "[1.071614341450669, 0.7229]"
      ]
     },
     "execution_count": 25,
     "metadata": {},
     "output_type": "execute_result"
    }
   ],
   "source": [
    "QVGG16.evaluate(test_dataset)"
   ]
  },
  {
   "cell_type": "markdown",
   "metadata": {},
   "source": [
    "# Resumen mejores configuraciones"
   ]
  },
  {
   "cell_type": "markdown",
   "metadata": {},
   "source": [
    "### Pesos capas no FC: precicion = 6, parte entera = 0.  \n",
    "### Pesos capas FC: precicion = 5, parte entera = 0.\n",
    "### Activaciones:    precicion = 5, parte entera = 5."
   ]
  },
  {
   "cell_type": "code",
   "execution_count": 11,
   "metadata": {},
   "outputs": [
    {
     "name": "stdout",
     "output_type": "stream",
     "text": [
      "10000/10000 [==============================] - 194s 19ms/step - loss: 1.3445 - accuracy: 0.7094\n"
     ]
    },
    {
     "data": {
      "text/plain": [
       "[1.3444649095077068, 0.7094]"
      ]
     },
     "execution_count": 11,
     "metadata": {},
     "output_type": "execute_result"
    }
   ],
   "source": [
    "QVGG16.evaluate(test_dataset)"
   ]
  },
  {
   "cell_type": "markdown",
   "metadata": {},
   "source": [
    "### Pesos capas no FC: precicion = 6, parte entera = 0.  \n",
    "### Pesos capas FC: precicion = 5, parte entera = 0.\n",
    "### Activaciones:    precicion = 6, parte entera = 5."
   ]
  },
  {
   "cell_type": "code",
   "execution_count": 26,
   "metadata": {},
   "outputs": [
    {
     "name": "stdout",
     "output_type": "stream",
     "text": [
      "10000/10000 [==============================] - 193s 19ms/step - loss: 1.0716 - accuracy: 0.7229\n"
     ]
    },
    {
     "data": {
      "text/plain": [
       "[1.071614341450669, 0.7229]"
      ]
     },
     "execution_count": 26,
     "metadata": {},
     "output_type": "execute_result"
    }
   ],
   "source": [
    "QVGG16.evaluate(test_dataset)"
   ]
  },
  {
   "cell_type": "markdown",
   "metadata": {},
   "source": [
    "### Pesos capas no FC: precicion = 6, parte entera = 0.  \n",
    "### Pesos capas FC: precicion = 5, parte entera = 0.\n",
    "### Activaciones:    precicion = 6, parte entera = 5."
   ]
  },
  {
   "cell_type": "code",
   "execution_count": 21,
   "metadata": {},
   "outputs": [
    {
     "name": "stdout",
     "output_type": "stream",
     "text": [
      "10000/10000 [==============================] - 192s 19ms/step - loss: 1.0620 - accuracy: 0.7302\n"
     ]
    },
    {
     "data": {
      "text/plain": [
       "[1.061964491548948, 0.7302]"
      ]
     },
     "execution_count": 21,
     "metadata": {},
     "output_type": "execute_result"
    }
   ],
   "source": [
    "QVGG16.evaluate(test_dataset)"
   ]
  },
  {
   "cell_type": "markdown",
   "metadata": {},
   "source": [
    "## Plotting the results"
   ]
  },
  {
   "cell_type": "code",
   "execution_count": 9,
   "metadata": {},
   "outputs": [
    {
     "data": {
      "image/png": "[encoded data removed]",
      "text/plain": [
       "<Figure size 1080x360 with 2 Axes>"
      ]
     },
     "metadata": {
      "needs_background": "light"
     },
     "output_type": "display_data"
    }
   ],
   "source": [
    "import matplotlib.pyplot as plt\n",
    "\n",
    "fig, axs = plt.subplots(1,2,figsize=(15,5))\n",
    "fig.suptitle('VGG Experiment 1',fontsize=20)\n",
    "\n",
    "Acc  = [0.1, 0.6467, 0.7302]\n",
    "Qbits = [4, 5, 6]\n",
    "\n",
    "axs[0].set_xticks(Qbits)\n",
    "axs[0].set_ylim([0, 1])\n",
    "axs[0].set_xlabel('Number of Quantization bits for the fractional part of layers and weights')\n",
    "axs[0].set_ylabel('Accuracy',fontsize=14)\n",
    "axs[0].axhline(y=0.7349, color='r', linestyle='-')\n",
    "axs[0].plot(Qbits,Acc, color = 'b', linestyle='-')\n",
    "axs[0].legend(('Original Model','Quantized Model'))\n",
    "\n",
    "Loss = [2.3025851249694824, 1.6282763871062547, 1.061964491548948]\n",
    "\n",
    "axs[1].set_xticks(Qbits)\n",
    "axs[1].set_ylim([0, 3])\n",
    "axs[1].set_xlabel('Number of Quantization bits for the fractional part of layers and weights')\n",
    "axs[1].set_ylabel('Loss',fontsize=14)\n",
    "axs[1].axhline(y=0.8012385272836876, color='r', linestyle='-')\n",
    "axs[1].plot(Qbits,Loss, color = 'b', linestyle='-')\n",
    "axs[1].legend(('Original Model','Quantized Model'))\n",
    "\n",
    "fig.savefig('Figuras/Experimentos_Cuantizacion/VGG16 Quantization Experiment 1.png')"
   ]
  },
  {
   "cell_type": "code",
   "execution_count": 10,
   "metadata": {},
   "outputs": [
    {
     "data": {
      "image/png": "[encoded data removed]",
      "text/plain": [
       "<Figure size 1080x360 with 2 Axes>"
      ]
     },
     "metadata": {
      "needs_background": "light"
     },
     "output_type": "display_data"
    }
   ],
   "source": [
    "fig, axs = plt.subplots(1,2,figsize=(15,5))\n",
    "fig.suptitle('Experiment 2',fontsize=20)\n",
    "\n",
    "Acc  = [0.1683, 0.6517, 0.7302]\n",
    "Qbits = [4, 5, 6]\n",
    "\n",
    "axs[0].set_xticks(Qbits)\n",
    "axs[0].set_ylim([0, 1])\n",
    "axs[0].set_xlabel('Number of Quantization bits for the fractional part of weights')\n",
    "axs[0].set_ylabel('Accuracy',fontsize=14)\n",
    "axs[0].axhline(y=0.7349, color='r', linestyle='-')\n",
    "axs[0].plot(Qbits,Acc, color = 'b', linestyle='-')\n",
    "axs[0].legend(('Original Model','Quantized Model'))\n",
    "\n",
    "Loss = [2.2877005631923675, 1.359971114255674, 1.061964491548948]\n",
    "\n",
    "axs[1].set_xticks(Qbits)\n",
    "axs[1].set_ylim([0, 3])\n",
    "axs[1].set_xlabel('Number of Quantization bits for the fractional part of weights')\n",
    "axs[1].set_ylabel('Loss',fontsize=14)\n",
    "axs[1].axhline(y=0.8012385272836876, color='r', linestyle='-')\n",
    "axs[1].plot(Qbits,Loss, color = 'b', linestyle='-')\n",
    "axs[1].legend(('Original Model','Quantized Model'))\n",
    "\n",
    "fig.savefig('Figuras/Experimentos_Cuantizacion/VGG Quantization Experiment 2.png')"
   ]
  },
  {
   "cell_type": "code",
   "execution_count": 11,
   "metadata": {},
   "outputs": [
    {
     "data": {
      "image/png": "[encoded data removed]",
      "text/plain": [
       "<Figure size 1080x360 with 2 Axes>"
      ]
     },
     "metadata": {
      "needs_background": "light"
     },
     "output_type": "display_data"
    }
   ],
   "source": [
    "fig, axs = plt.subplots(1,2,figsize=(15,5))\n",
    "fig.suptitle('Experiment 3',fontsize=20)\n",
    "\n",
    "Acc  = [0.6696, 0.7154, 0.7302]\n",
    "Qbits = [4, 5, 6]\n",
    "\n",
    "axs[0].set_xticks(Qbits)\n",
    "axs[0].set_ylim([0, 1])\n",
    "axs[0].set_xlabel('Number of Quantization bits for the fractional part of activations')\n",
    "axs[0].set_ylabel('Accuracy',fontsize=14)\n",
    "axs[0].axhline(y=0.7349, color='r', linestyle='-')\n",
    "axs[0].plot(Qbits,Acc, color = 'b', linestyle='-')\n",
    "axs[0].legend(('Original Model','Quantized Model'))\n",
    "\n",
    "Loss = [2.0214044406071303, 1.3296991717003286, 1.061964491548948]\n",
    "\n",
    "axs[1].set_xticks(Qbits)\n",
    "axs[1].set_ylim([0, 3])\n",
    "axs[1].set_xlabel('Number of Quantization bits for the fractional part of activations')\n",
    "axs[1].set_ylabel('Loss',fontsize=14)\n",
    "axs[1].axhline(y=0.8012385272836876, color='r', linestyle='-')\n",
    "axs[1].plot(Qbits,Loss, color = 'b', linestyle='-')\n",
    "axs[1].legend(('Original Model','Quantized Model'))\n",
    "\n",
    "fig.savefig('Figuras/Experimentos_Cuantizacion/VGG Quantization Experiment 3.png')"
   ]
  },
  {
   "cell_type": "code",
   "execution_count": 12,
   "metadata": {},
   "outputs": [
    {
     "data": {
      "image/png": "[encoded data removed]",
      "text/plain": [
       "<Figure size 1080x360 with 2 Axes>"
      ]
     },
     "metadata": {
      "needs_background": "light"
     },
     "output_type": "display_data"
    }
   ],
   "source": [
    "fig, axs = plt.subplots(1,2,figsize=(15,5))\n",
    "fig.suptitle('Experiment 4',fontsize=20)\n",
    "\n",
    "Acc  = [0.6122, 0.7168, 0.7301, 0.7302, 0.7302]\n",
    "Qbits = [2, 3, 4, 5, 6]\n",
    "\n",
    "axs[0].set_xticks(Qbits)\n",
    "axs[0].set_ylim([0, 1])\n",
    "axs[0].set_xlabel('Number of Quantization bits for the integer part of activations')\n",
    "axs[0].set_ylabel('Accuracy',fontsize=14)\n",
    "axs[0].axhline(y=0.7349, color='r', linestyle='-')\n",
    "axs[0].plot(Qbits,Acc, color = 'b', linestyle='-')\n",
    "axs[0].legend(('Original Model','Quantized Model'))\n",
    "\n",
    "Loss = [1.0659365747720002, 1.0583813532166182, 1.0615878112137318, 1.061964491548948, 1.061964491548948]\n",
    "\n",
    "axs[1].set_xticks(Qbits)\n",
    "axs[1].set_ylim([0, 3])\n",
    "axs[1].set_xlabel('Number of Quantization bits for the integer part of activations')\n",
    "axs[1].set_ylabel('Loss',fontsize=14)\n",
    "axs[1].axhline(y=0.8012385272836876, color='r', linestyle='-')\n",
    "axs[1].plot(Qbits,Loss, color = 'b', linestyle='-')\n",
    "axs[1].legend(('Original Model','Quantized Model'))\n",
    "\n",
    "fig.savefig('Figuras/Experimentos_Cuantizacion/VGG Quantization Experiment 4.png')"
   ]
  },
  {
   "cell_type": "code",
   "execution_count": null,
   "metadata": {},
   "outputs": [],
   "source": []
  }
 ],
 "metadata": {
  "accelerator": "GPU",
  "colab": {
   "collapsed_sections": [],
   "name": "OverfittingAndCallbacks.ipynb",
   "provenance": []
  },
  "kernelspec": {
   "display_name": "Python 3",
   "language": "python",
   "name": "python3"
  },
  "language_info": {
   "codemirror_mode": {
    "name": "ipython",
    "version": 3
   },
   "file_extension": ".py",
   "mimetype": "text/x-python",
   "name": "python",
   "nbconvert_exporter": "python",
   "pygments_lexer": "ipython3",
   "version": "3.7.9"
  }
 },
 "nbformat": 4,
 "nbformat_minor": 1
}
