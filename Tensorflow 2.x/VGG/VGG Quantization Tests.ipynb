{
 "cells": [
  {
   "cell_type": "code",
   "execution_count": 1,
   "metadata": {
    "id": "fZOMjk-2pGPs"
   },
   "outputs": [],
   "source": [
    "import tensorflow as tf\n",
    "import numpy as np\n",
    "import os"
   ]
  },
  {
   "cell_type": "markdown",
   "metadata": {},
   "source": [
    "## Loading CIFAR10 Data"
   ]
  },
  {
   "cell_type": "code",
   "execution_count": 2,
   "metadata": {
    "id": "feuqKVkHqQVW"
   },
   "outputs": [],
   "source": [
    "(_, _), (x_test, y_test) = tf.keras.datasets.cifar10.load_data()\n",
    "# Reducing Target innecessary dimension\n",
    "y_test  = np.squeeze(y_test)"
   ]
  },
  {
   "cell_type": "markdown",
   "metadata": {},
   "source": [
    "## Creating Dataset Objects"
   ]
  },
  {
   "cell_type": "code",
   "execution_count": 3,
   "metadata": {
    "id": "Z9YPFldhqV5K"
   },
   "outputs": [],
   "source": [
    "# Normalize Images\n",
    "def normalize_img(x_, y_):\n",
    "    return tf.cast(x_, tf.float32) / 255., y_\n",
    "\n",
    "# 1-hot encoding\n",
    "def to_categorical(x_, y_):\n",
    "    return x_, tf.one_hot(y_, depth=10)\n",
    "\n",
    "# Resizing \n",
    "def process_images(image, label):\n",
    "    # Resize images from 32x32 to 224x224\n",
    "    image = tf.image.resize(image, (224,224))\n",
    "    return image, label\n",
    "\n",
    "test_dataset = tf.data.Dataset.from_tensor_slices((x_test, y_test))\n",
    "test_dataset = test_dataset.map(normalize_img)\n",
    "test_dataset = test_dataset.map(to_categorical)\n",
    "test_dataset = test_dataset.map(process_images)\n",
    "test_dataset = test_dataset.batch(1)"
   ]
  },
  {
   "cell_type": "markdown",
   "metadata": {},
   "source": [
    "## Quantization Layer"
   ]
  },
  {
   "cell_type": "code",
   "execution_count": 4,
   "metadata": {},
   "outputs": [],
   "source": [
    "def Quantization_layer(tensor, Quantization = True,signed = True, word_size = 12, frac_size = 6):\n",
    "    \n",
    "    factor = 2.0**frac_size\n",
    "    \n",
    "    # Quantized max and min values, in case of the need to implement overflow cases.\n",
    "    #if signed:\n",
    "    #    Max_Qvalue = ((1 << (word_size-1)) - 1)/factor\n",
    "    #    Min_Qvalue = -Max_Qvalue - 1\n",
    "    #else:\n",
    "    #    Max_Qvalue = ((1 << (word_size)) - 1)/factor\n",
    "    #    Min_Qvalue = 0\n",
    "    \n",
    "    if Quantization:\n",
    "        return tf.round(tensor*factor) / factor             #Quantization, assuming no overflow\n",
    "    else:\n",
    "        return tensor                                       #Simple Bypass"
   ]
  },
  {
   "cell_type": "markdown",
   "metadata": {
    "id": "mvho0zVa0Oti"
   },
   "source": [
    "## Creating VGG Model"
   ]
  },
  {
   "cell_type": "code",
   "execution_count": 5,
   "metadata": {
    "id": "gL2dc0-iqfc4"
   },
   "outputs": [],
   "source": [
    "from tensorflow.keras.layers import Conv2D, Dense, MaxPool2D, Flatten, Lambda\n",
    "\n",
    "\n",
    "def build_model(input_layer, Quantization = True, signed = True, word_size = 12, frac_size = 6 ):\n",
    "    \n",
    "    Arguments = {'Quantization':Quantization, 'signed':signed, 'word_size':word_size, 'frac_size':frac_size}\n",
    "    QInp      = Lambda(Quantization_layer, arguments = Arguments )(input_layer)\n",
    "    \n",
    "    #Conv Block\n",
    "    Conv1   = Conv2D(filters=64,kernel_size=(3,3),padding=\"same\")(QInp)\n",
    "    QConv1  = Lambda(Quantization_layer, arguments = Arguments )(Conv1)\n",
    "    Relu1   = tf.keras.activations.relu(QConv1)\n",
    "    QRelu1  = Lambda(Quantization_layer, arguments = Arguments )(Relu1)\n",
    "    \n",
    "    Conv2   = Conv2D(filters=64,kernel_size=(3,3),padding=\"same\")(QRelu1)\n",
    "    QConv2  = Lambda(Quantization_layer, arguments = Arguments )(Conv2)\n",
    "    Relu2   = tf.keras.activations.relu(QConv2)\n",
    "    QRelu2  = Lambda(Quantization_layer, arguments = Arguments )(Relu2)\n",
    "    MP2     = MaxPool2D(pool_size=(2,2),strides=(2,2))(QRelu2)\n",
    "    \n",
    "    Conv3   = Conv2D(filters=128, kernel_size=(3,3), padding=\"same\")(MP2)\n",
    "    QConv3  = Lambda(Quantization_layer, arguments = Arguments )(Conv3)\n",
    "    Relu3   = tf.keras.activations.relu(QConv3)\n",
    "    QRelu3  = Lambda(Quantization_layer, arguments = Arguments )(Relu3)\n",
    "    \n",
    "    Conv4   = Conv2D(filters=128, kernel_size=(3,3), padding=\"same\")(QRelu3)\n",
    "    QConv4  = Lambda(Quantization_layer, arguments = Arguments )(Conv4)\n",
    "    Relu4   = tf.keras.activations.relu(QConv4)\n",
    "    QRelu4  = Lambda(Quantization_layer, arguments = Arguments )(Relu4)\n",
    "    MP4     = MaxPool2D(pool_size=(2,2),strides=(2,2))(QRelu4)\n",
    "    \n",
    "    Conv5   = Conv2D(filters=256, kernel_size=(3,3), padding=\"same\")(MP4)\n",
    "    QConv5  = Lambda(Quantization_layer, arguments = Arguments )(Conv5)\n",
    "    Relu5   = tf.keras.activations.relu(QConv5)\n",
    "    QRelu5  = Lambda(Quantization_layer, arguments = Arguments )(Relu5)\n",
    "    \n",
    "    Conv6   = Conv2D(filters=256, kernel_size=(3,3), padding=\"same\")(QRelu5)\n",
    "    QConv6  = Lambda(Quantization_layer, arguments = Arguments )(Conv6)\n",
    "    Relu6   = tf.keras.activations.relu(QConv6)\n",
    "    QRelu6  = Lambda(Quantization_layer, arguments = Arguments )(Relu6)\n",
    "    \n",
    "    Conv7   = Conv2D(filters=256, kernel_size=(3,3), padding=\"same\")(QRelu6)\n",
    "    QConv7  = Lambda(Quantization_layer, arguments = Arguments )(Conv7)\n",
    "    Relu7   = tf.keras.activations.relu(QConv7)\n",
    "    QRelu7  = Lambda(Quantization_layer, arguments = Arguments )(Relu7)\n",
    "    MP7     = MaxPool2D(pool_size=(2,2),strides=(2,2))(QRelu7)\n",
    "    \n",
    "    Conv8   = Conv2D(filters=512, kernel_size=(3,3), padding=\"same\")(MP7)\n",
    "    QConv8  = Lambda(Quantization_layer, arguments = Arguments )(Conv8)\n",
    "    Relu8   = tf.keras.activations.relu(QConv8)\n",
    "    QRelu8  = Lambda(Quantization_layer, arguments = Arguments )(Relu8)\n",
    "    \n",
    "    Conv9   = Conv2D(filters=512, kernel_size=(3,3), padding=\"same\")(QRelu8)\n",
    "    QConv9  = Lambda(Quantization_layer, arguments = Arguments )(Conv9)\n",
    "    Relu9   = tf.keras.activations.relu(QConv9)\n",
    "    QRelu9  = Lambda(Quantization_layer, arguments = Arguments )(Relu9)\n",
    "    \n",
    "    Conv10   = Conv2D(filters=512, kernel_size=(3,3), padding=\"same\")(QRelu9)\n",
    "    QConv10  = Lambda(Quantization_layer, arguments = Arguments )(Conv10)\n",
    "    Relu10   = tf.keras.activations.relu(QConv10)\n",
    "    QRelu10  = Lambda(Quantization_layer, arguments = Arguments )(Relu10)\n",
    "    MP10     = MaxPool2D(pool_size=(2,2),strides=(2,2))(QRelu10)\n",
    "    \n",
    "    Conv11   = Conv2D(filters=512, kernel_size=(3,3), padding=\"same\")(MP10)\n",
    "    QConv11  = Lambda(Quantization_layer, arguments = Arguments )(Conv11)\n",
    "    Relu11   = tf.keras.activations.relu(QConv11)\n",
    "    QRelu11  = Lambda(Quantization_layer, arguments = Arguments )(Relu11)\n",
    "    \n",
    "    Conv12   = Conv2D(filters=512, kernel_size=(3,3), padding=\"same\")(QRelu11)\n",
    "    QConv12  = Lambda(Quantization_layer, arguments = Arguments )(Conv12)\n",
    "    Relu12   = tf.keras.activations.relu(QConv12)\n",
    "    QRelu12  = Lambda(Quantization_layer, arguments = Arguments )(Relu12)\n",
    "    \n",
    "    Conv13   = Conv2D(filters=512, kernel_size=(3,3), padding=\"same\")(QRelu12)\n",
    "    QConv13  = Lambda(Quantization_layer, arguments = Arguments )(Conv13)\n",
    "    Relu13   = tf.keras.activations.relu(QConv13)\n",
    "    QRelu13  = Lambda(Quantization_layer, arguments = Arguments )(Relu13)\n",
    "    MP13     = MaxPool2D(pool_size=(2,2),strides=(2,2))(QRelu13)\n",
    "    \n",
    "    Flat    = Flatten()(MP13)\n",
    "    \n",
    "    Dense14  = Dense(4096)(Flat)\n",
    "    QDense14 = Lambda(Quantization_layer, arguments = Arguments )(Dense14)\n",
    "    Relu14   = tf.keras.activations.relu(QDense14)\n",
    "    QRelu14  = Lambda(Quantization_layer, arguments = Arguments )(Relu14)\n",
    "    \n",
    "    Dense15  = Dense(4096)(QRelu14)\n",
    "    QDense15 = Lambda(Quantization_layer, arguments = Arguments )(Dense15)\n",
    "    Relu15   = tf.keras.activations.relu(QDense15)\n",
    "    QRelu15  = Lambda(Quantization_layer, arguments = Arguments )(Relu15)\n",
    "    \n",
    "    Dense16  = Dense(10)(QRelu15)\n",
    "    QDense16 = Lambda(Quantization_layer, arguments = Arguments )(Dense16)\n",
    "    SM16     = tf.keras.activations.softmax(QDense16)\n",
    "    QSM16    = Lambda(Quantization_layer, arguments = Arguments )(SM16)\n",
    "    \n",
    "    return QSM16"
   ]
  },
  {
   "cell_type": "markdown",
   "metadata": {},
   "source": [
    "## Loading Quantized model and Non Quantized model "
   ]
  },
  {
   "cell_type": "markdown",
   "metadata": {},
   "source": [
    "En base al resultado del ultimo item del cuaderno \"VGG Analysis\" las entradas/salidas de las capas tienen valores que varian entre -27 y 44.03, Salvo la ultima capa densa, las activaciones de todas las demas capas estan contenidas en valores bajos (magnitud menor a 5)\n",
    "\n",
    "Considerando un bit para el signo, se necesitan al menos 6 bits para la parte entera, se medirá el accuracy de modelos en funcion del numero de bits destinados a la parte fraccionaria."
   ]
  },
  {
   "cell_type": "code",
   "execution_count": 11,
   "metadata": {},
   "outputs": [],
   "source": [
    "input_layer   = tf.keras.Input((224,224,3))\n",
    "output_layer  = build_model(input_layer, Quantization = False)\n",
    "\n",
    "Frac_Bits = 6\n",
    "Int_Bits  = 6\n",
    "\n",
    "Qinput_layer  = tf.keras.Input((224,224,3))\n",
    "Qoutput_layer = build_model(Qinput_layer, Quantization = True, word_size = (Frac_Bits+Int_Bits+1), frac_size = Frac_Bits)\n",
    "\n",
    "VGG16  = tf.keras.Model(inputs=input_layer, outputs=output_layer)\n",
    "QVGG16 = tf.keras.Model(inputs=Qinput_layer, outputs=Qoutput_layer)"
   ]
  },
  {
   "cell_type": "markdown",
   "metadata": {},
   "source": [
    "## Loading Pretrained Weights"
   ]
  },
  {
   "cell_type": "code",
   "execution_count": 12,
   "metadata": {
    "id": "-Q8qN9xeqzm7"
   },
   "outputs": [
    {
     "data": {
      "text/plain": [
       "<tensorflow.python.training.tracking.util.CheckpointLoadStatus at 0x2ac75a092c8>"
      ]
     },
     "execution_count": 12,
     "metadata": {},
     "output_type": "execute_result"
    }
   ],
   "source": [
    "# Loading Wieghts\n",
    "cwd = os.getcwd()\n",
    "Wgt_dir = os.path.join(cwd,'TrainedWeights')\n",
    "Wgt_dir = os.path.join(Wgt_dir,'Weights')\n",
    "VGG16.load_weights(Wgt_dir)\n",
    "QVGG16.load_weights(Wgt_dir)\n",
    "\n",
    "# Visualize AlexNet Architecture\n",
    "#VGG16.summary()\n",
    "\n",
    "# Visualize initialized weights\n",
    "#VGG16.weights"
   ]
  },
  {
   "cell_type": "markdown",
   "metadata": {},
   "source": [
    "## Quantize weights"
   ]
  },
  {
   "cell_type": "markdown",
   "metadata": {},
   "source": [
    "En base al resultado del ultimo item del cuaderno \"VGG Analysis\" los pesos valores que varian entre -0.1 y 0.1.\n",
    "\n",
    "Considerando un bit para el signo, se necesitan al menos 1 bits para la parte entera, se medirá el accuracy de modelos en funcion del numero de bits destinados a la parte fraccionaria."
   ]
  },
  {
   "cell_type": "code",
   "execution_count": 13,
   "metadata": {},
   "outputs": [],
   "source": [
    "def Quantization(List, Quantization = True, signed = True, word_size = 12, frac_size = 6):\n",
    "    factor = 2.0**frac_size\n",
    "    return tf.round(np.array(List)*factor) / factor             #Quantization, assuming no overflow\n",
    "\n",
    "Frac_Bits = 6\n",
    "Int_Bits  = 1\n",
    "\n",
    "for layer in QVGG16.layers:\n",
    "    weights = layer.get_weights()\n",
    "    if weights:                     # Layer with weights\n",
    "        # Quantization of Weights and Bias \n",
    "        Qweights    = [Quantization(itm, word_size = (Frac_Bits+Int_Bits+1), frac_size = Frac_Bits) for itm in weights]\n",
    "        layer.set_weights(Qweights)"
   ]
  },
  {
   "cell_type": "markdown",
   "metadata": {},
   "source": [
    "## Check the general Accuracy"
   ]
  },
  {
   "cell_type": "code",
   "execution_count": 14,
   "metadata": {},
   "outputs": [],
   "source": [
    "# Optimization params\n",
    "# -------------------\n",
    "\n",
    "# Loss\n",
    "loss = tf.keras.losses.CategoricalCrossentropy()\n",
    "\n",
    "# learning rate\n",
    "lr = 1e-3\n",
    "optimizer = tf.keras.optimizers.Adam(learning_rate=lr)\n",
    "# -------------------\n",
    "\n",
    "# Validation metrics\n",
    "# ------------------\n",
    "\n",
    "metrics = ['accuracy']\n",
    "# ------------------\n",
    "\n",
    "# Compile Model\n",
    "VGG16.compile(optimizer=optimizer, loss=loss, metrics=metrics)\n",
    "QVGG16.compile(optimizer=optimizer, loss=loss, metrics=metrics)"
   ]
  },
  {
   "cell_type": "markdown",
   "metadata": {},
   "source": [
    "## modelo original"
   ]
  },
  {
   "cell_type": "code",
   "execution_count": 10,
   "metadata": {},
   "outputs": [
    {
     "name": "stdout",
     "output_type": "stream",
     "text": [
      "10000/10000 [==============================] - 141s 14ms/step - loss: 0.8012 - accuracy: 0.7349\n"
     ]
    },
    {
     "data": {
      "text/plain": [
       "[0.8012385272836876, 0.7349]"
      ]
     },
     "execution_count": 10,
     "metadata": {},
     "output_type": "execute_result"
    }
   ],
   "source": [
    "VGG16.evaluate(test_dataset)"
   ]
  },
  {
   "cell_type": "markdown",
   "metadata": {},
   "source": [
    "## 4 bits de precision para pesos && 4 bits de precision para activaciones"
   ]
  },
  {
   "cell_type": "code",
   "execution_count": 17,
   "metadata": {
    "scrolled": true
   },
   "outputs": [
    {
     "name": "stdout",
     "output_type": "stream",
     "text": [
      "10000/10000 [==============================] - 176s 18ms/step - loss: 2.3026 - accuracy: 0.1000\n"
     ]
    },
    {
     "data": {
      "text/plain": [
       "[2.3025851249694824, 0.1]"
      ]
     },
     "execution_count": 17,
     "metadata": {},
     "output_type": "execute_result"
    }
   ],
   "source": [
    "QVGG16.evaluate(test_dataset)"
   ]
  },
  {
   "cell_type": "markdown",
   "metadata": {},
   "source": [
    "## 5 bits de precision para pesos && 5 bits de precision para activaciones"
   ]
  },
  {
   "cell_type": "code",
   "execution_count": 10,
   "metadata": {
    "scrolled": true
   },
   "outputs": [
    {
     "name": "stdout",
     "output_type": "stream",
     "text": [
      "10000/10000 [==============================] - 173s 17ms/step - loss: 1.6283 - accuracy: 0.6467\n"
     ]
    },
    {
     "data": {
      "text/plain": [
       "[1.6282763871062547, 0.6467]"
      ]
     },
     "execution_count": 10,
     "metadata": {},
     "output_type": "execute_result"
    }
   ],
   "source": [
    "QVGG16.evaluate(test_dataset)"
   ]
  },
  {
   "cell_type": "markdown",
   "metadata": {},
   "source": [
    "## 6 bits de precision para pesos && 6 bits de precision para activaciones"
   ]
  },
  {
   "cell_type": "code",
   "execution_count": 15,
   "metadata": {},
   "outputs": [
    {
     "name": "stdout",
     "output_type": "stream",
     "text": [
      "10000/10000 [==============================] - 176s 18ms/step - loss: 1.0620 - accuracy: 0.7302\n"
     ]
    },
    {
     "data": {
      "text/plain": [
       "[1.061964491548948, 0.7302]"
      ]
     },
     "execution_count": 15,
     "metadata": {},
     "output_type": "execute_result"
    }
   ],
   "source": [
    "QVGG16.evaluate(test_dataset)"
   ]
  },
  {
   "cell_type": "markdown",
   "metadata": {},
   "source": [
    "5 bits son necesarios para un buen resultado, con 6 se alcanza los resultados del modelo original, con 4 bits o menos es practicamente un clasificador aleatorio"
   ]
  }
 ],
 "metadata": {
  "accelerator": "GPU",
  "colab": {
   "collapsed_sections": [],
   "name": "OverfittingAndCallbacks.ipynb",
   "provenance": []
  },
  "kernelspec": {
   "display_name": "Python 3",
   "language": "python",
   "name": "python3"
  },
  "language_info": {
   "codemirror_mode": {
    "name": "ipython",
    "version": 3
   },
   "file_extension": ".py",
   "mimetype": "text/x-python",
   "name": "python",
   "nbconvert_exporter": "python",
   "pygments_lexer": "ipython3",
   "version": "3.7.9"
  }
 },
 "nbformat": 4,
 "nbformat_minor": 1
}
