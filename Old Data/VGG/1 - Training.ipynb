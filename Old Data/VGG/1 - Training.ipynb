{
 "cells": [
  {
   "cell_type": "code",
   "execution_count": 1,
   "metadata": {
    "id": "dW-L3utm0OtR"
   },
   "outputs": [],
   "source": [
    "import tensorflow as tf\n",
    "import tensorflow_datasets as tfds\n",
    "import numpy as np\n",
    "import os\n",
    "import sys"
   ]
  },
  {
   "cell_type": "code",
   "execution_count": 2,
   "metadata": {},
   "outputs": [],
   "source": [
    "dir_current = os.path.abspath('')\n",
    "dir_parent  = os.path.dirname(dir_current)\n",
    "if not dir_parent in sys.path: sys.path.append(dir_parent)"
   ]
  },
  {
   "cell_type": "code",
   "execution_count": 3,
   "metadata": {},
   "outputs": [],
   "source": [
    "tf.random.set_seed(1234)\n",
    "np.random.seed(1234)"
   ]
  },
  {
   "cell_type": "markdown",
   "metadata": {},
   "source": [
    "## Loading Custom Dataset"
   ]
  },
  {
   "cell_type": "code",
   "execution_count": null,
   "metadata": {},
   "outputs": [],
   "source": [
    "# Downloading The Dataset\n",
    "ds = tfds.load('deep_weeds', split='train', shuffle_files=True)\n",
    "assert isinstance(ds, tf.data.Dataset)\n",
    "print(ds)"
   ]
  },
  {
   "cell_type": "code",
   "execution_count": 4,
   "metadata": {},
   "outputs": [],
   "source": [
    "x_train, y_train = tfds.as_numpy(tfds.load('deep_weeds', split='train[:80%]', batch_size=-1, as_supervised=True))\n",
    "x_valid, y_valid = tfds.as_numpy(tfds.load('deep_weeds', split='train[80:85%]', batch_size=-1, as_supervised=True))\n",
    "x_test,  y_test  = tfds.as_numpy(tfds.load('deep_weeds', split='train[85%:]', batch_size=-1, as_supervised=True))"
   ]
  },
  {
   "cell_type": "markdown",
   "metadata": {},
   "source": [
    "## Creating DataSet Objects"
   ]
  },
  {
   "cell_type": "code",
   "execution_count": 5,
   "metadata": {},
   "outputs": [],
   "source": [
    "Nclasses = 9\n",
    "def to_categorical(x_, y_):\n",
    "    return x_, tf.one_hot(y_, depth = Nclasses)\n",
    "def normalize(x_, y_):\n",
    "    return tf.cast(x_, tf.float32) / 255., y_"
   ]
  },
  {
   "cell_type": "code",
   "execution_count": 6,
   "metadata": {},
   "outputs": [],
   "source": [
    "from functions import VGG_resize\n",
    "\n",
    "bs = 32\n",
    "\n",
    "# Training\n",
    "#-----------------------------------------\n",
    "train_dataset = tf.data.Dataset.from_tensor_slices((x_train, y_train))\n",
    "# Shuffle\n",
    "train_dataset = train_dataset.shuffle(buffer_size=x_train.shape[0])\n",
    "train_dataset = train_dataset.map(to_categorical)\n",
    "train_dataset = train_dataset.map(normalize)\n",
    "train_dataset = train_dataset.map(VGG_resize)\n",
    "# Divide in batches\n",
    "train_dataset = train_dataset.batch(bs)\n",
    "# Repeat\n",
    "train_dataset = train_dataset.repeat()\n",
    "\n",
    "#Validation   \n",
    "# -----------------------\n",
    "valid_dataset = tf.data.Dataset.from_tensor_slices((x_valid, y_valid))\n",
    "# Enconding\n",
    "valid_dataset = valid_dataset.map(to_categorical)\n",
    "# Normalize\n",
    "valid_dataset = valid_dataset.map(normalize)\n",
    "# Resize\n",
    "valid_dataset = valid_dataset.map(VGG_resize)\n",
    "# Divide in batches\n",
    "valid_dataset = valid_dataset.batch(bs)\n",
    "# Repeat\n",
    "valid_dataset = valid_dataset.repeat()\n",
    "\n",
    "#Testing \n",
    "# -------------------\n",
    "test_dataset = tf.data.Dataset.from_tensor_slices((x_test, y_test))\n",
    "test_dataset = test_dataset.map(to_categorical)\n",
    "test_dataset = test_dataset.map(normalize)\n",
    "test_dataset = test_dataset.map(VGG_resize)\n",
    "test_dataset = test_dataset.batch(1)"
   ]
  },
  {
   "cell_type": "markdown",
   "metadata": {
    "id": "mvho0zVa0Oti"
   },
   "source": [
    "## Creating VGG Model"
   ]
  },
  {
   "cell_type": "code",
   "execution_count": 7,
   "metadata": {},
   "outputs": [
    {
     "name": "stdout",
     "output_type": "stream",
     "text": [
      "Model: \"model\"\n",
      "_________________________________________________________________\n",
      "Layer (type)                 Output Shape              Param #   \n",
      "=================================================================\n",
      "input_1 (InputLayer)         [(None, 224, 224, 3)]     0         \n",
      "_________________________________________________________________\n",
      "lambda (Lambda)              (None, 224, 224, 3)       0         \n",
      "_________________________________________________________________\n",
      "conv2d (Conv2D)              (None, 224, 224, 64)      1792      \n",
      "_________________________________________________________________\n",
      "lambda_1 (Lambda)            (None, 224, 224, 64)      0         \n",
      "_________________________________________________________________\n",
      "tf_op_layer_Relu (TensorFlow [(None, 224, 224, 64)]    0         \n",
      "_________________________________________________________________\n",
      "lambda_2 (Lambda)            (None, 224, 224, 64)      0         \n",
      "_________________________________________________________________\n",
      "conv2d_1 (Conv2D)            (None, 224, 224, 64)      36928     \n",
      "_________________________________________________________________\n",
      "lambda_3 (Lambda)            (None, 224, 224, 64)      0         \n",
      "_________________________________________________________________\n",
      "tf_op_layer_Relu_1 (TensorFl [(None, 224, 224, 64)]    0         \n",
      "_________________________________________________________________\n",
      "lambda_4 (Lambda)            (None, 224, 224, 64)      0         \n",
      "_________________________________________________________________\n",
      "max_pooling2d (MaxPooling2D) (None, 112, 112, 64)      0         \n",
      "_________________________________________________________________\n",
      "conv2d_2 (Conv2D)            (None, 112, 112, 128)     73856     \n",
      "_________________________________________________________________\n",
      "lambda_5 (Lambda)            (None, 112, 112, 128)     0         \n",
      "_________________________________________________________________\n",
      "tf_op_layer_Relu_2 (TensorFl [(None, 112, 112, 128)]   0         \n",
      "_________________________________________________________________\n",
      "lambda_6 (Lambda)            (None, 112, 112, 128)     0         \n",
      "_________________________________________________________________\n",
      "conv2d_3 (Conv2D)            (None, 112, 112, 128)     147584    \n",
      "_________________________________________________________________\n",
      "lambda_7 (Lambda)            (None, 112, 112, 128)     0         \n",
      "_________________________________________________________________\n",
      "tf_op_layer_Relu_3 (TensorFl [(None, 112, 112, 128)]   0         \n",
      "_________________________________________________________________\n",
      "lambda_8 (Lambda)            (None, 112, 112, 128)     0         \n",
      "_________________________________________________________________\n",
      "max_pooling2d_1 (MaxPooling2 (None, 56, 56, 128)       0         \n",
      "_________________________________________________________________\n",
      "conv2d_4 (Conv2D)            (None, 56, 56, 256)       295168    \n",
      "_________________________________________________________________\n",
      "lambda_9 (Lambda)            (None, 56, 56, 256)       0         \n",
      "_________________________________________________________________\n",
      "tf_op_layer_Relu_4 (TensorFl [(None, 56, 56, 256)]     0         \n",
      "_________________________________________________________________\n",
      "lambda_10 (Lambda)           (None, 56, 56, 256)       0         \n",
      "_________________________________________________________________\n",
      "conv2d_5 (Conv2D)            (None, 56, 56, 256)       590080    \n",
      "_________________________________________________________________\n",
      "lambda_11 (Lambda)           (None, 56, 56, 256)       0         \n",
      "_________________________________________________________________\n",
      "tf_op_layer_Relu_5 (TensorFl [(None, 56, 56, 256)]     0         \n",
      "_________________________________________________________________\n",
      "lambda_12 (Lambda)           (None, 56, 56, 256)       0         \n",
      "_________________________________________________________________\n",
      "conv2d_6 (Conv2D)            (None, 56, 56, 256)       590080    \n",
      "_________________________________________________________________\n",
      "lambda_13 (Lambda)           (None, 56, 56, 256)       0         \n",
      "_________________________________________________________________\n",
      "tf_op_layer_Relu_6 (TensorFl [(None, 56, 56, 256)]     0         \n",
      "_________________________________________________________________\n",
      "lambda_14 (Lambda)           (None, 56, 56, 256)       0         \n",
      "_________________________________________________________________\n",
      "max_pooling2d_2 (MaxPooling2 (None, 28, 28, 256)       0         \n",
      "_________________________________________________________________\n",
      "conv2d_7 (Conv2D)            (None, 28, 28, 512)       1180160   \n",
      "_________________________________________________________________\n",
      "lambda_15 (Lambda)           (None, 28, 28, 512)       0         \n",
      "_________________________________________________________________\n",
      "tf_op_layer_Relu_7 (TensorFl [(None, 28, 28, 512)]     0         \n",
      "_________________________________________________________________\n",
      "lambda_16 (Lambda)           (None, 28, 28, 512)       0         \n",
      "_________________________________________________________________\n",
      "conv2d_8 (Conv2D)            (None, 28, 28, 512)       2359808   \n",
      "_________________________________________________________________\n",
      "lambda_17 (Lambda)           (None, 28, 28, 512)       0         \n",
      "_________________________________________________________________\n",
      "tf_op_layer_Relu_8 (TensorFl [(None, 28, 28, 512)]     0         \n",
      "_________________________________________________________________\n",
      "lambda_18 (Lambda)           (None, 28, 28, 512)       0         \n",
      "_________________________________________________________________\n",
      "conv2d_9 (Conv2D)            (None, 28, 28, 512)       2359808   \n",
      "_________________________________________________________________\n",
      "lambda_19 (Lambda)           (None, 28, 28, 512)       0         \n",
      "_________________________________________________________________\n",
      "tf_op_layer_Relu_9 (TensorFl [(None, 28, 28, 512)]     0         \n",
      "_________________________________________________________________\n",
      "lambda_20 (Lambda)           (None, 28, 28, 512)       0         \n",
      "_________________________________________________________________\n",
      "max_pooling2d_3 (MaxPooling2 (None, 14, 14, 512)       0         \n",
      "_________________________________________________________________\n",
      "conv2d_10 (Conv2D)           (None, 14, 14, 512)       2359808   \n",
      "_________________________________________________________________\n",
      "lambda_21 (Lambda)           (None, 14, 14, 512)       0         \n",
      "_________________________________________________________________\n",
      "tf_op_layer_Relu_10 (TensorF [(None, 14, 14, 512)]     0         \n",
      "_________________________________________________________________\n",
      "lambda_22 (Lambda)           (None, 14, 14, 512)       0         \n",
      "_________________________________________________________________\n",
      "conv2d_11 (Conv2D)           (None, 14, 14, 512)       2359808   \n",
      "_________________________________________________________________\n",
      "lambda_23 (Lambda)           (None, 14, 14, 512)       0         \n",
      "_________________________________________________________________\n",
      "tf_op_layer_Relu_11 (TensorF [(None, 14, 14, 512)]     0         \n",
      "_________________________________________________________________\n",
      "lambda_24 (Lambda)           (None, 14, 14, 512)       0         \n",
      "_________________________________________________________________\n",
      "conv2d_12 (Conv2D)           (None, 14, 14, 512)       2359808   \n",
      "_________________________________________________________________\n",
      "lambda_25 (Lambda)           (None, 14, 14, 512)       0         \n",
      "_________________________________________________________________\n",
      "tf_op_layer_Relu_12 (TensorF [(None, 14, 14, 512)]     0         \n",
      "_________________________________________________________________\n",
      "lambda_26 (Lambda)           (None, 14, 14, 512)       0         \n",
      "_________________________________________________________________\n",
      "max_pooling2d_4 (MaxPooling2 (None, 7, 7, 512)         0         \n",
      "_________________________________________________________________\n",
      "flatten (Flatten)            (None, 25088)             0         \n",
      "_________________________________________________________________\n",
      "dense (Dense)                (None, 4096)              102764544 \n",
      "_________________________________________________________________\n",
      "lambda_27 (Lambda)           (None, 4096)              0         \n",
      "_________________________________________________________________\n",
      "tf_op_layer_Relu_13 (TensorF [(None, 4096)]            0         \n",
      "_________________________________________________________________\n",
      "lambda_28 (Lambda)           (None, 4096)              0         \n",
      "_________________________________________________________________\n",
      "dense_1 (Dense)              (None, 4096)              16781312  \n",
      "_________________________________________________________________\n",
      "lambda_29 (Lambda)           (None, 4096)              0         \n",
      "_________________________________________________________________\n",
      "tf_op_layer_Relu_14 (TensorF [(None, 4096)]            0         \n",
      "_________________________________________________________________\n",
      "lambda_30 (Lambda)           (None, 4096)              0         \n",
      "_________________________________________________________________\n",
      "dense_2 (Dense)              (None, 9)                 36873     \n",
      "_________________________________________________________________\n",
      "lambda_31 (Lambda)           (None, 9)                 0         \n",
      "_________________________________________________________________\n",
      "tf_op_layer_Softmax (TensorF [(None, 9)]               0         \n",
      "_________________________________________________________________\n",
      "lambda_32 (Lambda)           (None, 9)                 0         \n",
      "=================================================================\n",
      "Total params: 134,297,417\n",
      "Trainable params: 134,297,417\n",
      "Non-trainable params: 0\n",
      "_________________________________________________________________\n"
     ]
    }
   ],
   "source": [
    "from models import VGG16_body\n",
    "\n",
    "input_layer   = tf.keras.Input((224,224,3))\n",
    "output_layer  = VGG16_body(input_layer, Quantization = False,N_labels = Nclasses)\n",
    "\n",
    "VGG16  = tf.keras.Model(inputs=input_layer, outputs=output_layer)\n",
    "VGG16.summary()"
   ]
  },
  {
   "cell_type": "markdown",
   "metadata": {
    "id": "6iWx-RpJ0Otv"
   },
   "source": [
    "## Training Options"
   ]
  },
  {
   "cell_type": "code",
   "execution_count": 8,
   "metadata": {
    "id": "RDfs6zWP0Otw"
   },
   "outputs": [],
   "source": [
    "# Optimization params\n",
    "# -------------------\n",
    "\n",
    "# Loss\n",
    "loss = tf.keras.losses.CategoricalCrossentropy()\n",
    "\n",
    "# learning rate\n",
    "lr = 1e-4\n",
    "optimizer = tf.keras.optimizers.Adam(learning_rate=lr)\n",
    "# -------------------\n",
    "\n",
    "# Validation metrics\n",
    "# ------------------\n",
    "\n",
    "metrics = ['accuracy']\n",
    "# ------------------\n",
    "\n",
    "# Compile Model\n",
    "VGG16.compile(optimizer=optimizer, loss=loss, metrics=metrics)"
   ]
  },
  {
   "cell_type": "markdown",
   "metadata": {
    "id": "n0KcF7na0Otz"
   },
   "source": [
    "## Callbacks"
   ]
  },
  {
   "cell_type": "code",
   "execution_count": 9,
   "metadata": {
    "id": "dcY5pIOk0Ot0",
    "scrolled": true
   },
   "outputs": [],
   "source": [
    "early_stop = True\n",
    "cwd = os.getcwd()\n",
    "callbacks = []\n",
    "\n",
    "# Early Stopping\n",
    "# --------------\n",
    "if early_stop:\n",
    "    es_callback = tf.keras.callbacks.EarlyStopping(monitor='val_loss', patience=3, restore_best_weights=True)\n",
    "    callbacks.append(es_callback)\n"
   ]
  },
  {
   "cell_type": "markdown",
   "metadata": {},
   "source": [
    "## Training"
   ]
  },
  {
   "cell_type": "code",
   "execution_count": 10,
   "metadata": {},
   "outputs": [
    {
     "name": "stdout",
     "output_type": "stream",
     "text": [
      "Train for 438 steps, validate for 28 steps\n",
      "Epoch 1/100\n",
      "438/438 [==============================] - 215s 490ms/step - loss: 1.6021 - accuracy: 0.5219 - val_loss: 1.5399 - val_accuracy: 0.4977\n",
      "Epoch 2/100\n",
      "438/438 [==============================] - 198s 451ms/step - loss: 1.4389 - accuracy: 0.5309 - val_loss: 1.4429 - val_accuracy: 0.5080\n",
      "Epoch 3/100\n",
      "438/438 [==============================] - 196s 448ms/step - loss: 1.2761 - accuracy: 0.5562 - val_loss: 1.2681 - val_accuracy: 0.5525\n",
      "Epoch 4/100\n",
      "438/438 [==============================] - 197s 450ms/step - loss: 1.1455 - accuracy: 0.5863 - val_loss: 1.1864 - val_accuracy: 0.5811\n",
      "Epoch 5/100\n",
      "438/438 [==============================] - 196s 448ms/step - loss: 1.0616 - accuracy: 0.6134 - val_loss: 1.0785 - val_accuracy: 0.5959\n",
      "Epoch 6/100\n",
      "438/438 [==============================] - 196s 449ms/step - loss: 0.9934 - accuracy: 0.6399 - val_loss: 1.0769 - val_accuracy: 0.6050\n",
      "Epoch 7/100\n",
      "438/438 [==============================] - 196s 448ms/step - loss: 0.9239 - accuracy: 0.6648 - val_loss: 1.0215 - val_accuracy: 0.6164\n",
      "Epoch 8/100\n",
      "438/438 [==============================] - 196s 447ms/step - loss: 0.8321 - accuracy: 0.7060 - val_loss: 1.1424 - val_accuracy: 0.6176\n",
      "Epoch 9/100\n",
      "438/438 [==============================] - 196s 447ms/step - loss: 0.7049 - accuracy: 0.7514 - val_loss: 1.1169 - val_accuracy: 0.6267\n",
      "Epoch 10/100\n",
      "438/438 [==============================] - 196s 447ms/step - loss: 0.5524 - accuracy: 0.8065 - val_loss: 1.2856 - val_accuracy: 0.6256\n"
     ]
    },
    {
     "data": {
      "text/plain": [
       "<tensorflow.python.keras.callbacks.History at 0x2229ad4c788>"
      ]
     },
     "execution_count": 10,
     "metadata": {},
     "output_type": "execute_result"
    }
   ],
   "source": [
    "VGG16.fit(x=train_dataset,\n",
    "          epochs=100,  #### set repeat in training dataset\n",
    "          steps_per_epoch=int(np.ceil(x_train.shape[0] / bs)),\n",
    "          validation_data=valid_dataset,\n",
    "          validation_steps=int(np.ceil(x_valid.shape[0] / bs)), \n",
    "          callbacks=callbacks)"
   ]
  },
  {
   "cell_type": "markdown",
   "metadata": {
    "id": "xDBCY2RP0Ot3"
   },
   "source": [
    "## Saving Weights"
   ]
  },
  {
   "cell_type": "code",
   "execution_count": 14,
   "metadata": {},
   "outputs": [],
   "source": [
    "Wgt_dir = os.path.join(cwd, 'TrainedWeights')\n",
    "Wgt_dir = os.path.join(cwd, 'WeedWeights')\n",
    "Wgt_dir = os.path.join(Wgt_dir, 'Weights')\n",
    "VGG16.save_weights(Wgt_dir)"
   ]
  }
 ],
 "metadata": {
  "accelerator": "GPU",
  "colab": {
   "collapsed_sections": [],
   "name": "Transfer_Learning.ipynb",
   "provenance": []
  },
  "kernelspec": {
   "display_name": "Python 3",
   "language": "python",
   "name": "python3"
  },
  "language_info": {
   "codemirror_mode": {
    "name": "ipython",
    "version": 3
   },
   "file_extension": ".py",
   "mimetype": "text/x-python",
   "name": "python",
   "nbconvert_exporter": "python",
   "pygments_lexer": "ipython3",
   "version": "3.7.9"
  }
 },
 "nbformat": 4,
 "nbformat_minor": 1
}
