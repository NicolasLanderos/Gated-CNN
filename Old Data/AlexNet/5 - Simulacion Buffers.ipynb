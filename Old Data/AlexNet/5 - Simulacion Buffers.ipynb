{
 "cells": [
  {
   "cell_type": "code",
   "execution_count": 1,
   "metadata": {},
   "outputs": [],
   "source": [
    "import tensorflow as tf\n",
    "import tensorflow_datasets as tfds\n",
    "import numpy as np\n",
    "import os\n",
    "import sys\n",
    "from fxpmath import Fxp"
   ]
  },
  {
   "cell_type": "code",
   "execution_count": 2,
   "metadata": {},
   "outputs": [],
   "source": [
    "dir_current = os.path.abspath('')\n",
    "dir_parent  = os.path.dirname(dir_current)\n",
    "if not dir_parent in sys.path: sys.path.append(dir_parent)"
   ]
  },
  {
   "cell_type": "markdown",
   "metadata": {},
   "source": [
    "## Parametros de Simulacion"
   ]
  },
  {
   "cell_type": "code",
   "execution_count": 3,
   "metadata": {},
   "outputs": [],
   "source": [
    "#Parametros de Cuantizacion\n",
    "bits_activaciones      = 12\n",
    "precision_activaciones = 6\n",
    "bits_pesos_conv        = 12\n",
    "precision_pesos_conv   = 8\n",
    "bits_pesos_fc          = 6\n",
    "precision_pesos_fc     = 6\n",
    "\n",
    "# Parametros de buffer input/output\n",
    "Malpc = 12    #Maximo de activaciones leidas en un ciclo\n",
    "Maepc = 12    #Maximo de activaciones escritas en un ciclo\n",
    "bits_lectura_input    = Malpc*bits_activaciones\n",
    "bits_escritura_output = Maepc*bits_activaciones\n",
    "\n",
    "#Parametros de la matriz de dsp slices.\n",
    "filas      = Malpc\n",
    "dsp_slices = 720\n",
    "columnas   = dsp_slices/filas\n",
    "\n",
    "#Parametros de Buffers de pesos\n",
    "Mpclpc = 24   # Maximo de pesos convolucionales leidos en un ciclo\n",
    "Mpflpc = 48   # Maximo de pesos full conectados leidos en un ciclo\n",
    "bits_lectura_pesos_conv  = Mpclpc*bits_pesos_conv\n",
    "bits_lectura_pesos_fc    = Mpflpc*bits_pesos_fc\n",
    "\n",
    "#Tamaño del buffer\n",
    "IOBuffer_size = 290400*bits_activaciones"
   ]
  },
  {
   "cell_type": "markdown",
   "metadata": {},
   "source": [
    "## Carga del modelo y sus pesos"
   ]
  },
  {
   "cell_type": "code",
   "execution_count": 4,
   "metadata": {},
   "outputs": [],
   "source": [
    "from models import AlexNet_body\n",
    "from models import Weight_Quantization\n",
    "\n",
    "# Creacion de la red\n",
    "Nclasses = 10\n",
    "Qinput_layer  = tf.keras.Input((227,227,3))\n",
    "Qoutput_layer = AlexNet_body(Qinput_layer, Quantization = True, word_size = bits_activaciones, frac_size = precision_activaciones, N_labels=Nclasses)\n",
    "QAlexNet = tf.keras.Model(inputs=Qinput_layer, outputs=Qoutput_layer)\n",
    "\n",
    "# Carga de los pesos\n",
    "cwd = os.getcwd()\n",
    "Wgt_dir = os.path.join(cwd,'TrainedWeights')\n",
    "Wgt_dir = os.path.join(Wgt_dir,'WeedWeights')\n",
    "Wgt_dir = os.path.join(Wgt_dir,'Weights')\n",
    "QAlexNet.load_weights(Wgt_dir)\n",
    "\n",
    "# Cuantizacion de los pesos\n",
    "Weight_Quantization(model = QAlexNet, \n",
    "                    Frac_Bits = precision_pesos_conv, Int_Bits = (bits_pesos_conv-precision_pesos_conv-1),\n",
    "                    Dense_Frac_Bits = precision_pesos_fc, Dense_Int_Bits = (bits_pesos_fc-precision_pesos_fc-1))\n"
   ]
  },
  {
   "cell_type": "markdown",
   "metadata": {},
   "source": [
    "## Carga del dataset"
   ]
  },
  {
   "cell_type": "code",
   "execution_count": 5,
   "metadata": {},
   "outputs": [],
   "source": [
    "from models import Quantization_layer\n",
    "from functions import AlexNet_resize_v2\n",
    "\n",
    "x_test,  _  = tfds.as_numpy(tfds.load('deep_weeds', split='train[85%:90%]', batch_size=-1, as_supervised=True))\n",
    "del _\n",
    "# Normalizacion\n",
    "x_test = x_test/255.\n",
    "# Cuantizacion\n",
    "x_test = Quantization_layer(x_test)\n",
    "\n",
    "\n",
    "test_dataset = tf.data.Dataset.from_tensor_slices(x_test)\n",
    "test_dataset = test_dataset.map(AlexNet_resize_v2)"
   ]
  },
  {
   "cell_type": "markdown",
   "metadata": {},
   "source": [
    "## Simulacion"
   ]
  },
  {
   "cell_type": "code",
   "execution_count": null,
   "metadata": {},
   "outputs": [],
   "source": [
    "# Bufferes\n",
    "IOBuffer_1 = np.zeros(IOBuffer_size,dtype=int)\n",
    "IOBuffer_2 = np.zeros(IOBuffer_size,dtype=int)\n",
    "\n",
    "# Diccionario de estadisticas de los buffers\n",
    "stats_IOBuffer_1 = {\"ultimo_valor\"    : np.zeros(IOBuffer_size,dtype=int),\n",
    "                    \"ciclos_1\"        : np.zeros(IOBuffer_size,dtype=int),\n",
    "                    \"cambios_logicos\" :np.zeros(IOBuffer_size,dtype=int)}\n",
    "stats_IOBuffer_2 = {\"ultimo_valor\"    : np.zeros(IOBuffer_size,dtype=int),\n",
    "                    \"ciclos_1\"        : np.zeros(IOBuffer_size,dtype=int),\n",
    "                    \"cambios_logicos\" :np.zeros(IOBuffer_size,dtype=int)}\n",
    "\n",
    "import simulation\n",
    "import time\n",
    "from functions import save_obj, load_obj, Load_Image\n",
    "\n",
    "# Variables de simulacion\n",
    "simulation.Malpc            = Malpc\n",
    "simulation.Maepc            = Maepc\n",
    "simulation.Mpclpc           = Mpclpc\n",
    "simulation.Mpflpc           = Mpflpc\n",
    "simulation.filas            = filas\n",
    "simulation.columnas         = columnas\n",
    "simulation.Word_bits        = bits_activaciones\n",
    "simulation.Frac_bits        = precision_activaciones\n",
    "simulation.QAlexNet         = QAlexNet\n",
    "\n",
    "\n",
    "iterator   = iter(test_dataset)\n",
    "ciclos     = 0\n",
    "index      = 0\n",
    "batch_size = 10\n",
    "t = time.time()\n",
    "while index < batch_size:\n",
    "    image = next(iterator)\n",
    "    if index % 2 == 0:\n",
    "        ciclos += simulation.Test_Simulation2(image,IOBuffer_1,stats_IOBuffer_1,IOBuffer_2,stats_IOBuffer_2)\n",
    "    else:\n",
    "        ciclos += simulation.Test_Simulation2(image,IOBuffer_2,stats_IOBuffer_2,IOBuffer_1,stats_IOBuffer_1)\n",
    "    save_obj(stats_IOBuffer_1,'stats_B1_Test4')\n",
    "    save_obj(stats_IOBuffer_2,'stats_B2_Test4')\n",
    "    index = index + 1\n",
    "    print('imagenes procesadas:',index,' tiempo:',time.time()-t,'ciclos: ',ciclos)\n",
    "print('Tiempo de simulacion:',time.time()-t)\n",
    "save_obj(ciclos,'numero_de_ciclos_Test4')"
   ]
  }
 ],
 "metadata": {
  "kernelspec": {
   "display_name": "Python 3",
   "language": "python",
   "name": "python3"
  },
  "language_info": {
   "codemirror_mode": {
    "name": "ipython",
    "version": 3
   },
   "file_extension": ".py",
   "mimetype": "text/x-python",
   "name": "python",
   "nbconvert_exporter": "python",
   "pygments_lexer": "ipython3",
   "version": "3.7.9"
  }
 },
 "nbformat": 4,
 "nbformat_minor": 4
}
